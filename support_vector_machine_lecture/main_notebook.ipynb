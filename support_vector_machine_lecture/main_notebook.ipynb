{
 "cells": [
  {
   "cell_type": "code",
   "execution_count": 47,
   "metadata": {},
   "outputs": [],
   "source": [
    "%matplotlib inline"
   ]
  },
  {
   "cell_type": "code",
   "execution_count": 94,
   "metadata": {},
   "outputs": [],
   "source": [
    "import numpy as np\n",
    "import pandas as pd\n",
    "import matplotlib.pyplot as plt\n",
    "from sklearn.preprocessing import MinMaxScaler\n",
    "\n",
    "from sklearn.model_selection import train_test_split,GridSearchCV\n",
    "\n",
    "from sklearn.svm import LinearSVC,SVC\n",
    "from sklearn.neighbors import KNeighborsClassifier\n",
    "\n",
    "from sklearn.metrics import accuracy_score,f1_score,classification_report, make_scorer"
   ]
  },
  {
   "cell_type": "code",
   "execution_count": 49,
   "metadata": {},
   "outputs": [],
   "source": [
    "income_data = pd.read_csv(\"adult.data\",header=None,sep=\", \",engine = \"python\")"
   ]
  },
  {
   "cell_type": "code",
   "execution_count": 50,
   "metadata": {},
   "outputs": [],
   "source": [
    "income_data.columns = ['age','workclass','fnlwgt','education','education-num','marital-status','occupation','relationship','race','sex','capital-gain','capital-loss','hours-per-week','native-country','income_class']\n"
   ]
  },
  {
   "cell_type": "code",
   "execution_count": 51,
   "metadata": {},
   "outputs": [],
   "source": [
    "income_attributes = income_data.drop(columns = [\"income_class\"])\n",
    "income_classes = income_data.income_class"
   ]
  },
  {
   "cell_type": "code",
   "execution_count": 52,
   "metadata": {},
   "outputs": [],
   "source": [
    "income_attributes = pd.get_dummies(income_attributes)"
   ]
  },
  {
   "cell_type": "code",
   "execution_count": 53,
   "metadata": {},
   "outputs": [],
   "source": [
    "scaler = MinMaxScaler()\n",
    "income_attributes_scaled = scaler.fit_transform(income_attributes)"
   ]
  },
  {
   "cell_type": "code",
   "execution_count": 54,
   "metadata": {},
   "outputs": [],
   "source": [
    "income_attributes_train,income_attributes_test, income_classes_train,income_classes_test = train_test_split(\n",
    "    income_attributes_scaled,income_classes,test_size= 0.20,stratify = income_classes)"
   ]
  },
  {
   "cell_type": "code",
   "execution_count": 55,
   "metadata": {},
   "outputs": [
    {
     "data": {
      "text/plain": [
       "((26048, 108), (6513, 108), (26048,), (6513,))"
      ]
     },
     "execution_count": 55,
     "metadata": {},
     "output_type": "execute_result"
    }
   ],
   "source": [
    "income_attributes_train.shape, income_attributes_test.shape,income_classes_train.shape, income_classes_test.shape"
   ]
  },
  {
   "cell_type": "code",
   "execution_count": 56,
   "metadata": {},
   "outputs": [],
   "source": [
    "classifier =LinearSVC(\n",
    "    C=1e6,\n",
    "    max_iter=10000\n",
    ")"
   ]
  },
  {
   "cell_type": "code",
   "execution_count": 57,
   "metadata": {},
   "outputs": [
    {
     "name": "stderr",
     "output_type": "stream",
     "text": [
      "c:\\Users\\as\\anaconda3\\envs\\baseREC\\lib\\site-packages\\sklearn\\svm\\_base.py:976: ConvergenceWarning: Liblinear failed to converge, increase the number of iterations.\n",
      "  warnings.warn(\"Liblinear failed to converge, increase \"\n"
     ]
    },
    {
     "data": {
      "text/plain": [
       "LinearSVC(C=1000000.0, max_iter=10000)"
      ]
     },
     "execution_count": 57,
     "metadata": {},
     "output_type": "execute_result"
    }
   ],
   "source": [
    "classifier.fit(income_attributes_train,income_classes_train)"
   ]
  },
  {
   "cell_type": "code",
   "execution_count": 58,
   "metadata": {},
   "outputs": [
    {
     "data": {
      "text/plain": [
       "array([[ 6.96134132e-01,  2.93209398e-01,  1.20772819e+00,\n",
       "         1.06677648e+01,  1.31854158e+00,  1.08760113e+00,\n",
       "        -8.77769930e-02,  1.82070603e-01, -1.38853371e-01,\n",
       "        -1.41906041e-01,  1.47495066e-01, -3.79763723e-02,\n",
       "        -3.74350929e-02, -2.80872212e-01, -9.35622806e-01,\n",
       "        -3.31446994e-01, -3.25789842e-01, -1.81828507e-03,\n",
       "         3.36517040e-01,  3.43795603e-01,  3.56823687e-01,\n",
       "         1.68353048e-01, -1.86625610e-01,  1.82934966e-02,\n",
       "        -1.71536407e-01,  2.48266045e-01,  7.01580036e-02,\n",
       "         4.58359759e-01, -3.40519483e+00,  5.67674557e-01,\n",
       "         5.23293507e-01, -6.91660956e-01,  3.42385444e-01,\n",
       "         3.53882082e-01, -9.82275907e-02, -6.45662441e-01,\n",
       "        -2.86256124e-01, -3.05337634e-01, -2.29683034e-01,\n",
       "         4.17405152e-01, -3.04278369e-01,  4.30273100e-01,\n",
       "        -1.67985068e-01, -6.98960584e-01, -1.33995644e-01,\n",
       "         3.32781224e-02, -3.93513903e-01, -1.11406827e+00,\n",
       "         3.21458515e-01, -1.23043212e-01,  5.62431369e-01,\n",
       "        -4.02001049e-02,  1.10004711e-01, -1.65542007e-01,\n",
       "        -1.80659600e-01, -5.50445929e-01, -4.16339132e-01,\n",
       "         8.90951777e-03, -2.68000699e-02, -6.47605696e-01,\n",
       "         1.42557640e-01, -3.27464920e-01, -5.86484567e-01,\n",
       "         8.81203235e-02, -9.52972191e-01, -3.77905028e-01,\n",
       "        -2.65400943e-01,  6.33503887e-01,  1.49371072e-01,\n",
       "        -4.50674300e-01, -4.47484599e-01,  2.61794237e-01,\n",
       "        -4.00976850e-01,  1.93458086e-01, -2.61858871e-01,\n",
       "         3.15554059e-01,  3.33799877e-01,  9.68475538e-02,\n",
       "        -1.48165797e-01,  1.47584374e-01, -5.47253829e-02,\n",
       "         0.00000000e+00, -2.15722812e-01, -2.88015826e-01,\n",
       "        -2.80969092e-02,  6.90651906e-02, -1.36534919e-01,\n",
       "         4.14693289e-02,  4.11210347e-01,  3.35409292e-01,\n",
       "         1.86427911e-01,  3.51496435e-02, -4.96458761e-01,\n",
       "        -1.28221188e-01, -9.88562403e-01, -3.52854815e-01,\n",
       "         1.24302280e-01, -3.60633681e-01,  1.26224787e-01,\n",
       "        -9.45789436e-03, -2.09280386e-01, -4.15323979e-01,\n",
       "         7.39904667e-01, -3.08422381e-01,  1.40296822e-01,\n",
       "         2.77493682e-01, -1.24122160e-01,  1.41250539e-01]])"
      ]
     },
     "execution_count": 58,
     "metadata": {},
     "output_type": "execute_result"
    }
   ],
   "source": [
    "classifier.coef_"
   ]
  },
  {
   "cell_type": "code",
   "execution_count": 61,
   "metadata": {},
   "outputs": [],
   "source": [
    "linear_grid_search = GridSearchCV(\n",
    "    estimator=LinearSVC(max_iter=1000),\n",
    "    param_grid= {\n",
    "    \"C\":[0.01,0.1,1,10,100],\n",
    "    \"loss\":[\"hinge\",\"squared_hinge\"]\n",
    "}, \n",
    "scoring= make_scorer(f1_score,pos_label = \">50K\"))"
   ]
  },
  {
   "cell_type": "code",
   "execution_count": 62,
   "metadata": {},
   "outputs": [
    {
     "name": "stderr",
     "output_type": "stream",
     "text": [
      "c:\\Users\\as\\anaconda3\\envs\\baseREC\\lib\\site-packages\\sklearn\\svm\\_base.py:976: ConvergenceWarning: Liblinear failed to converge, increase the number of iterations.\n",
      "  warnings.warn(\"Liblinear failed to converge, increase \"\n",
      "c:\\Users\\as\\anaconda3\\envs\\baseREC\\lib\\site-packages\\sklearn\\svm\\_base.py:976: ConvergenceWarning: Liblinear failed to converge, increase the number of iterations.\n",
      "  warnings.warn(\"Liblinear failed to converge, increase \"\n"
     ]
    },
    {
     "data": {
      "text/plain": [
       "GridSearchCV(estimator=LinearSVC(),\n",
       "             param_grid={'C': [0.01, 0.1, 1, 10, 100],\n",
       "                         'loss': ['hinge', 'squared_hinge']},\n",
       "             scoring=make_scorer(f1_score, pos_label=>50K))"
      ]
     },
     "execution_count": 62,
     "metadata": {},
     "output_type": "execute_result"
    }
   ],
   "source": [
    "linear_grid_search.fit(income_attributes_train,income_classes_train)"
   ]
  },
  {
   "cell_type": "code",
   "execution_count": 63,
   "metadata": {},
   "outputs": [
    {
     "data": {
      "text/plain": [
       "{'C': 10, 'loss': 'squared_hinge'}"
      ]
     },
     "execution_count": 63,
     "metadata": {},
     "output_type": "execute_result"
    }
   ],
   "source": [
    "linear_grid_search.best_params_"
   ]
  },
  {
   "cell_type": "code",
   "execution_count": 64,
   "metadata": {},
   "outputs": [
    {
     "data": {
      "text/plain": [
       "{'mean_fit_time': array([0.0835732 , 0.10112658, 0.12069263, 0.17241335, 0.20907578,\n",
       "        0.60783582, 0.67011786, 1.86493578, 2.27679138, 3.02188406]),\n",
       " 'std_fit_time': array([0.00954166, 0.01305878, 0.01214585, 0.00535353, 0.01605017,\n",
       "        0.07081902, 0.02308996, 0.15024146, 0.13349107, 0.32543972]),\n",
       " 'mean_score_time': array([0.03852758, 0.03766727, 0.05520077, 0.05736833, 0.05848083,\n",
       "        0.05722814, 0.05183859, 0.04086599, 0.03998704, 0.04438491]),\n",
       " 'std_score_time': array([0.01206299, 0.00498442, 0.00515389, 0.00896251, 0.00507355,\n",
       "        0.00581326, 0.00874862, 0.00870936, 0.00870625, 0.01048651]),\n",
       " 'param_C': masked_array(data=[0.01, 0.01, 0.1, 0.1, 1, 1, 10, 10, 100, 100],\n",
       "              mask=[False, False, False, False, False, False, False, False,\n",
       "                    False, False],\n",
       "        fill_value='?',\n",
       "             dtype=object),\n",
       " 'param_loss': masked_array(data=['hinge', 'squared_hinge', 'hinge', 'squared_hinge',\n",
       "                    'hinge', 'squared_hinge', 'hinge', 'squared_hinge',\n",
       "                    'hinge', 'squared_hinge'],\n",
       "              mask=[False, False, False, False, False, False, False, False,\n",
       "                    False, False],\n",
       "        fill_value='?',\n",
       "             dtype=object),\n",
       " 'params': [{'C': 0.01, 'loss': 'hinge'},\n",
       "  {'C': 0.01, 'loss': 'squared_hinge'},\n",
       "  {'C': 0.1, 'loss': 'hinge'},\n",
       "  {'C': 0.1, 'loss': 'squared_hinge'},\n",
       "  {'C': 1, 'loss': 'hinge'},\n",
       "  {'C': 1, 'loss': 'squared_hinge'},\n",
       "  {'C': 10, 'loss': 'hinge'},\n",
       "  {'C': 10, 'loss': 'squared_hinge'},\n",
       "  {'C': 100, 'loss': 'hinge'},\n",
       "  {'C': 100, 'loss': 'squared_hinge'}],\n",
       " 'split0_test_score': array([0.6015661 , 0.63793103, 0.63463282, 0.66904232, 0.66903915,\n",
       "        0.67231387, 0.67639257, 0.67114695, 0.48343986, 0.66066066]),\n",
       " 'split1_test_score': array([0.59114219, 0.62952899, 0.62191781, 0.6512866 , 0.64234234,\n",
       "        0.6575584 , 0.64036281, 0.65848312, 0.64017467, 0.57258065]),\n",
       " 'split2_test_score': array([0.59137769, 0.62222222, 0.61559633, 0.6421854 , 0.63334848,\n",
       "        0.64585192, 0.63841298, 0.64739884, 0.51556526, 0.47868852]),\n",
       " 'split3_test_score': array([0.6155268 , 0.63063063, 0.63669065, 0.65899026, 0.65900044,\n",
       "        0.67047954, 0.67276688, 0.67484663, 0.63058824, 0.63647566]),\n",
       " 'split4_test_score': array([0.58474189, 0.61503827, 0.61330935, 0.64241349, 0.64247788,\n",
       "        0.65257596, 0.64449438, 0.65138828, 0.67198178, 0.56870612]),\n",
       " 'mean_test_score': array([0.59687094, 0.62707023, 0.62442939, 0.65278361, 0.64924166,\n",
       "        0.65975594, 0.65448593, 0.66065276, 0.58834996, 0.58342232]),\n",
       " 'std_test_score': array([0.01077213, 0.00780961, 0.00961701, 0.01024666, 0.01290827,\n",
       "        0.01022155, 0.01656338, 0.01074987, 0.07452234, 0.06337775]),\n",
       " 'rank_test_score': array([ 8,  6,  7,  4,  5,  2,  3,  1,  9, 10])}"
      ]
     },
     "execution_count": 64,
     "metadata": {},
     "output_type": "execute_result"
    }
   ],
   "source": [
    "linear_grid_search.cv_results_"
   ]
  },
  {
   "cell_type": "code",
   "execution_count": 72,
   "metadata": {},
   "outputs": [],
   "source": [
    "train_pred = linear_grid_search.best_estimator_.predict(income_attributes_train)"
   ]
  },
  {
   "cell_type": "code",
   "execution_count": 73,
   "metadata": {},
   "outputs": [],
   "source": [
    "test_pred = linear_grid_search.best_estimator_.predict(income_attributes_test)"
   ]
  },
  {
   "cell_type": "code",
   "execution_count": 74,
   "metadata": {},
   "outputs": [
    {
     "data": {
      "text/plain": [
       "0.6537785588752197"
      ]
     },
     "execution_count": 74,
     "metadata": {},
     "output_type": "execute_result"
    }
   ],
   "source": [
    "f1_score(income_classes_test,test_pred, pos_label = \">50K\")"
   ]
  },
  {
   "cell_type": "code",
   "execution_count": 75,
   "metadata": {},
   "outputs": [
    {
     "name": "stdout",
     "output_type": "stream",
     "text": [
      "              precision    recall  f1-score   support\n",
      "\n",
      "       <=50K       0.88      0.93      0.91     19775\n",
      "        >50K       0.74      0.60      0.67      6273\n",
      "\n",
      "    accuracy                           0.85     26048\n",
      "   macro avg       0.81      0.77      0.79     26048\n",
      "weighted avg       0.85      0.85      0.85     26048\n",
      "\n"
     ]
    }
   ],
   "source": [
    "print(classification_report(income_classes_train,train_pred))"
   ]
  },
  {
   "cell_type": "code",
   "execution_count": 76,
   "metadata": {},
   "outputs": [
    {
     "name": "stdout",
     "output_type": "stream",
     "text": [
      "              precision    recall  f1-score   support\n",
      "\n",
      "       <=50K       0.88      0.93      0.90      4945\n",
      "        >50K       0.73      0.59      0.65      1568\n",
      "\n",
      "    accuracy                           0.85      6513\n",
      "   macro avg       0.80      0.76      0.78      6513\n",
      "weighted avg       0.84      0.85      0.84      6513\n",
      "\n"
     ]
    }
   ],
   "source": [
    "print(classification_report(income_classes_test,test_pred))"
   ]
  },
  {
   "cell_type": "code",
   "execution_count": 80,
   "metadata": {},
   "outputs": [],
   "source": [
    "svc = SVC(\n",
    "    kernel=\"poly\",degree= 2, max_iter=1000,\n",
    ")"
   ]
  },
  {
   "cell_type": "code",
   "execution_count": 81,
   "metadata": {},
   "outputs": [
    {
     "name": "stderr",
     "output_type": "stream",
     "text": [
      "c:\\Users\\as\\anaconda3\\envs\\baseREC\\lib\\site-packages\\sklearn\\svm\\_base.py:246: ConvergenceWarning: Solver terminated early (max_iter=1000).  Consider pre-processing your data with StandardScaler or MinMaxScaler.\n",
      "  warnings.warn('Solver terminated early (max_iter=%i).'\n"
     ]
    },
    {
     "data": {
      "text/plain": [
       "SVC(degree=2, kernel='poly', max_iter=1000)"
      ]
     },
     "execution_count": 81,
     "metadata": {},
     "output_type": "execute_result"
    }
   ],
   "source": [
    "svc.fit(income_attributes_train,income_classes_train)"
   ]
  },
  {
   "cell_type": "code",
   "execution_count": 85,
   "metadata": {},
   "outputs": [
    {
     "data": {
      "text/plain": [
       "array([ 0.15085713,  0.56057649, -0.52628323, -0.16584765, -0.53738853,\n",
       "       -0.19909835,  0.30277818,  0.47250739, -0.53929232,  0.17807932])"
      ]
     },
     "execution_count": 85,
     "metadata": {},
     "output_type": "execute_result"
    }
   ],
   "source": [
    "svc.decision_function(income_attributes_train[:10])"
   ]
  },
  {
   "cell_type": "code",
   "execution_count": 86,
   "metadata": {},
   "outputs": [
    {
     "data": {
      "text/plain": [
       "array(['>50K', '>50K', '<=50K', '<=50K', '<=50K', '<=50K', '>50K', '>50K',\n",
       "       '<=50K', '>50K'], dtype=object)"
      ]
     },
     "execution_count": 86,
     "metadata": {},
     "output_type": "execute_result"
    }
   ],
   "source": [
    "svc.predict(income_attributes_train[:10])"
   ]
  },
  {
   "cell_type": "code",
   "execution_count": 87,
   "metadata": {},
   "outputs": [],
   "source": [
    "train_predictions= svc.predict(income_attributes_train)"
   ]
  },
  {
   "cell_type": "code",
   "execution_count": 88,
   "metadata": {},
   "outputs": [],
   "source": [
    "test_predictions= svc.predict(income_attributes_test)"
   ]
  },
  {
   "cell_type": "code",
   "execution_count": 89,
   "metadata": {},
   "outputs": [
    {
     "name": "stdout",
     "output_type": "stream",
     "text": [
      "              precision    recall  f1-score   support\n",
      "\n",
      "       <=50K       0.91      0.66      0.77     19775\n",
      "        >50K       0.42      0.79      0.55      6273\n",
      "\n",
      "    accuracy                           0.69     26048\n",
      "   macro avg       0.67      0.72      0.66     26048\n",
      "weighted avg       0.79      0.69      0.71     26048\n",
      "\n"
     ]
    }
   ],
   "source": [
    "print(classification_report(income_classes_train,train_predictions))"
   ]
  },
  {
   "cell_type": "code",
   "execution_count": 90,
   "metadata": {},
   "outputs": [
    {
     "name": "stdout",
     "output_type": "stream",
     "text": [
      "              precision    recall  f1-score   support\n",
      "\n",
      "       <=50K       0.91      0.66      0.76      4945\n",
      "        >50K       0.42      0.78      0.55      1568\n",
      "\n",
      "    accuracy                           0.69      6513\n",
      "   macro avg       0.66      0.72      0.65      6513\n",
      "weighted avg       0.79      0.69      0.71      6513\n",
      "\n"
     ]
    }
   ],
   "source": [
    "print(classification_report(income_classes_test,test_predictions))"
   ]
  },
  {
   "cell_type": "code",
   "execution_count": 91,
   "metadata": {},
   "outputs": [],
   "source": [
    "gaussian_svc = SVC(\n",
    "    kernel=\"rbf\",\n",
    "    C = 100,\n",
    "    gamma= 0.1\n",
    ")\n",
    "gaussian_svc.fit(income_attributes_train,income_classes_train)\n",
    "train_predictions= gaussian_svc.predict(income_attributes_train)\n",
    "test_predictions= gaussian_svc.predict(income_attributes_test)"
   ]
  },
  {
   "cell_type": "code",
   "execution_count": 92,
   "metadata": {},
   "outputs": [
    {
     "name": "stdout",
     "output_type": "stream",
     "text": [
      "              precision    recall  f1-score   support\n",
      "\n",
      "       <=50K       0.91      0.95      0.93     19775\n",
      "        >50K       0.81      0.72      0.76      6273\n",
      "\n",
      "    accuracy                           0.89     26048\n",
      "   macro avg       0.86      0.83      0.85     26048\n",
      "weighted avg       0.89      0.89      0.89     26048\n",
      "\n"
     ]
    }
   ],
   "source": [
    "print(classification_report(income_classes_train,train_predictions))"
   ]
  },
  {
   "cell_type": "code",
   "execution_count": 93,
   "metadata": {},
   "outputs": [
    {
     "name": "stdout",
     "output_type": "stream",
     "text": [
      "              precision    recall  f1-score   support\n",
      "\n",
      "       <=50K       0.88      0.91      0.90      4945\n",
      "        >50K       0.69      0.61      0.65      1568\n",
      "\n",
      "    accuracy                           0.84      6513\n",
      "   macro avg       0.79      0.76      0.77      6513\n",
      "weighted avg       0.84      0.84      0.84      6513\n",
      "\n"
     ]
    }
   ],
   "source": [
    "print(classification_report(income_classes_test,test_predictions))"
   ]
  },
  {
   "cell_type": "code",
   "execution_count": 99,
   "metadata": {},
   "outputs": [
    {
     "data": {
      "text/plain": [
       "KNeighborsClassifier(n_neighbors=20)"
      ]
     },
     "execution_count": 99,
     "metadata": {},
     "output_type": "execute_result"
    }
   ],
   "source": [
    "knn = KNeighborsClassifier(n_neighbors=20)\n",
    "knn.fit(income_attributes_train,income_classes_train)"
   ]
  },
  {
   "cell_type": "code",
   "execution_count": 100,
   "metadata": {},
   "outputs": [],
   "source": [
    "knn.predict(income_attributes_train[:10])"
   ]
  },
  {
   "cell_type": "code",
   "execution_count": 102,
   "metadata": {},
   "outputs": [
    {
     "data": {
      "text/plain": [
       "0.6093418259023355"
      ]
     },
     "execution_count": 102,
     "metadata": {},
     "output_type": "execute_result"
    }
   ],
   "source": [
    "f1_score(income_classes_test,knn.predict(income_attributes_test),pos_label= \">50K\")"
   ]
  },
  {
   "cell_type": "code",
   "execution_count": null,
   "metadata": {},
   "outputs": [],
   "source": []
  }
 ],
 "metadata": {
  "kernelspec": {
   "display_name": "Python 3.8.5 ('baseREC')",
   "language": "python",
   "name": "python3"
  },
  "language_info": {
   "codemirror_mode": {
    "name": "ipython",
    "version": 3
   },
   "file_extension": ".py",
   "mimetype": "text/x-python",
   "name": "python",
   "nbconvert_exporter": "python",
   "pygments_lexer": "ipython3",
   "version": "3.8.5"
  },
  "orig_nbformat": 4,
  "vscode": {
   "interpreter": {
    "hash": "c0f22bf35da797130dc9772e9bbbc1553556016bd9c002cdfb8138dc94e3b793"
   }
  }
 },
 "nbformat": 4,
 "nbformat_minor": 2
}

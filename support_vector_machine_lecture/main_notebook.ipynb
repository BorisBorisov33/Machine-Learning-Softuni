{
 "cells": [
  {
   "cell_type": "code",
   "execution_count": 10,
   "metadata": {},
   "outputs": [],
   "source": [
    "%matplotlib inline"
   ]
  },
  {
   "cell_type": "code",
   "execution_count": 11,
   "metadata": {},
   "outputs": [],
   "source": [
    "import numpy as np\n",
    "import pandas as pd\n",
    "import matplotlib.pyplot as plt\n",
    "from sklearn.preprocessing import MinMaxScaler\n",
    "\n",
    "from sklearn.model_selection import train_test_split,GridSearchCV\n",
    "\n",
    "from sklearn.svm import LinearSVC,SVC,OneClassSVM\n",
    "from sklearn.neighbors import KNeighborsClassifier\n",
    "\n",
    "from sklearn.metrics import accuracy_score,f1_score,classification_report, make_scorer"
   ]
  },
  {
   "cell_type": "code",
   "execution_count": 12,
   "metadata": {},
   "outputs": [],
   "source": [
    "income_data = pd.read_csv(\"adult.data\",header=None,sep=\", \",engine = \"python\")"
   ]
  },
  {
   "cell_type": "code",
   "execution_count": 13,
   "metadata": {},
   "outputs": [],
   "source": [
    "income_data.columns = ['age','workclass','fnlwgt','education','education-num','marital-status','occupation','relationship','race','sex','capital-gain','capital-loss','hours-per-week','native-country','income_class']\n"
   ]
  },
  {
   "cell_type": "code",
   "execution_count": 14,
   "metadata": {},
   "outputs": [],
   "source": [
    "income_attributes = income_data.drop(columns = [\"income_class\"])\n",
    "income_classes = income_data.income_class"
   ]
  },
  {
   "cell_type": "code",
   "execution_count": 15,
   "metadata": {},
   "outputs": [],
   "source": [
    "income_attributes = pd.get_dummies(income_attributes)"
   ]
  },
  {
   "cell_type": "code",
   "execution_count": 16,
   "metadata": {},
   "outputs": [],
   "source": [
    "scaler = MinMaxScaler()\n",
    "income_attributes_scaled = scaler.fit_transform(income_attributes)"
   ]
  },
  {
   "cell_type": "code",
   "execution_count": 17,
   "metadata": {},
   "outputs": [],
   "source": [
    "income_attributes_train,income_attributes_test, income_classes_train,income_classes_test = train_test_split(\n",
    "    income_attributes_scaled,income_classes,test_size= 0.20,stratify = income_classes)"
   ]
  },
  {
   "cell_type": "code",
   "execution_count": 18,
   "metadata": {},
   "outputs": [
    {
     "data": {
      "text/plain": [
       "((26048, 108), (6513, 108), (26048,), (6513,))"
      ]
     },
     "execution_count": 18,
     "metadata": {},
     "output_type": "execute_result"
    }
   ],
   "source": [
    "income_attributes_train.shape, income_attributes_test.shape,income_classes_train.shape, income_classes_test.shape"
   ]
  },
  {
   "cell_type": "code",
   "execution_count": 19,
   "metadata": {},
   "outputs": [],
   "source": [
    "classifier =LinearSVC(\n",
    "    C=1e6,\n",
    "    max_iter=10000\n",
    ")"
   ]
  },
  {
   "cell_type": "code",
   "execution_count": 20,
   "metadata": {},
   "outputs": [
    {
     "name": "stderr",
     "output_type": "stream",
     "text": [
      "c:\\Users\\as\\anaconda3\\envs\\baseREC\\lib\\site-packages\\sklearn\\svm\\_base.py:976: ConvergenceWarning: Liblinear failed to converge, increase the number of iterations.\n",
      "  warnings.warn(\"Liblinear failed to converge, increase \"\n"
     ]
    },
    {
     "data": {
      "text/plain": [
       "LinearSVC(C=1000000.0, max_iter=10000)"
      ]
     },
     "execution_count": 20,
     "metadata": {},
     "output_type": "execute_result"
    }
   ],
   "source": [
    "classifier.fit(income_attributes_train,income_classes_train)"
   ]
  },
  {
   "cell_type": "code",
   "execution_count": 21,
   "metadata": {},
   "outputs": [
    {
     "data": {
      "text/plain": [
       "array([[ 7.59146749e-01,  3.20417853e-01,  1.25532133e+00,\n",
       "         1.03579839e+01,  8.29082156e-01,  7.79218005e-01,\n",
       "         1.02827400e-01, -8.60208950e-02,  3.57905320e-01,\n",
       "        -3.19531462e-01, -3.62672712e-01,  1.14199935e-01,\n",
       "        -2.81654855e-01,  1.99981555e-01, -1.09251257e+00,\n",
       "        -1.05640073e-02, -2.81948387e-01,  4.47975637e-02,\n",
       "         2.23009679e-01,  3.79440530e-01, -2.10588358e-01,\n",
       "         4.49421852e-01, -3.68623152e-01,  8.00457331e-01,\n",
       "        -1.29207697e-01,  3.26816584e-01,  8.89735222e-02,\n",
       "         6.26853700e-01, -3.47594513e+00,  8.47847594e-02,\n",
       "         8.48429265e-02, -4.39995418e-01,  1.69113077e-01,\n",
       "         8.44966402e-02, -6.51779579e-01, -2.37244716e-01,\n",
       "        -3.69526331e-01,  7.74580415e-02, -2.16704061e-01,\n",
       "         2.43534014e-02, -3.78399912e-01, -1.26289679e-01,\n",
       "         7.64177364e-02,  1.88541459e-02, -2.43937144e-01,\n",
       "        -2.11182612e-01, -6.13676983e-02, -1.00662728e+00,\n",
       "         1.81495767e-01,  3.29992229e-01, -2.36778615e-01,\n",
       "         4.79427916e-01,  3.26752485e-03, -1.34401877e-01,\n",
       "        -3.02343510e-01, -1.05571033e-01, -6.48440057e-01,\n",
       "        -3.00076580e-01,  1.23354771e-01, -3.53128862e-01,\n",
       "        -2.81898734e-01, -3.49696587e-01, -3.01524215e-01,\n",
       "        -8.12298880e-02, -8.49684860e-01, -5.17793425e-01,\n",
       "         1.07352171e-01,  5.32877701e-01,  2.85904122e-01,\n",
       "        -3.56719434e-02, -4.51960398e-01,  3.02814915e-01,\n",
       "        -2.36268348e-01,  1.89084476e-01, -2.75214868e-01,\n",
       "        -6.04602494e-02,  2.59366749e-01,  7.02217099e-02,\n",
       "        -1.92969247e-01, -1.99629599e-01, -3.28410065e-01,\n",
       "         0.00000000e+00,  1.45195613e-01,  3.77913035e-01,\n",
       "        -6.23494502e-02,  7.28328794e-02, -3.72961766e-01,\n",
       "         3.26659960e-02,  3.73293826e-01,  1.00857812e-01,\n",
       "         1.34823877e-01, -6.98462111e-01, -7.56827265e-03,\n",
       "        -1.59998070e-01, -8.97824163e-01, -3.98521843e-01,\n",
       "         1.93774556e-01,  1.59904986e-01,  1.81804170e-01,\n",
       "        -4.20813707e-02, -1.28432669e-01, -5.93470895e-01,\n",
       "         7.13041196e-02,  1.31497385e-02, -8.52981193e-02,\n",
       "         4.58975081e-01, -2.56748793e-01,  5.27064233e-02]])"
      ]
     },
     "execution_count": 21,
     "metadata": {},
     "output_type": "execute_result"
    }
   ],
   "source": [
    "classifier.coef_"
   ]
  },
  {
   "cell_type": "code",
   "execution_count": 22,
   "metadata": {},
   "outputs": [],
   "source": [
    "linear_grid_search = GridSearchCV(\n",
    "    estimator=LinearSVC(max_iter=1000),\n",
    "    param_grid= {\n",
    "    \"C\":[0.01,0.1,1,10,100],\n",
    "    \"loss\":[\"hinge\",\"squared_hinge\"]\n",
    "}, \n",
    "scoring= make_scorer(f1_score,pos_label = \">50K\"))"
   ]
  },
  {
   "cell_type": "code",
   "execution_count": 23,
   "metadata": {},
   "outputs": [
    {
     "name": "stderr",
     "output_type": "stream",
     "text": [
      "c:\\Users\\as\\anaconda3\\envs\\baseREC\\lib\\site-packages\\sklearn\\svm\\_base.py:976: ConvergenceWarning: Liblinear failed to converge, increase the number of iterations.\n",
      "  warnings.warn(\"Liblinear failed to converge, increase \"\n",
      "c:\\Users\\as\\anaconda3\\envs\\baseREC\\lib\\site-packages\\sklearn\\svm\\_base.py:976: ConvergenceWarning: Liblinear failed to converge, increase the number of iterations.\n",
      "  warnings.warn(\"Liblinear failed to converge, increase \"\n",
      "c:\\Users\\as\\anaconda3\\envs\\baseREC\\lib\\site-packages\\sklearn\\svm\\_base.py:976: ConvergenceWarning: Liblinear failed to converge, increase the number of iterations.\n",
      "  warnings.warn(\"Liblinear failed to converge, increase \"\n",
      "c:\\Users\\as\\anaconda3\\envs\\baseREC\\lib\\site-packages\\sklearn\\svm\\_base.py:976: ConvergenceWarning: Liblinear failed to converge, increase the number of iterations.\n",
      "  warnings.warn(\"Liblinear failed to converge, increase \"\n",
      "c:\\Users\\as\\anaconda3\\envs\\baseREC\\lib\\site-packages\\sklearn\\svm\\_base.py:976: ConvergenceWarning: Liblinear failed to converge, increase the number of iterations.\n",
      "  warnings.warn(\"Liblinear failed to converge, increase \"\n",
      "c:\\Users\\as\\anaconda3\\envs\\baseREC\\lib\\site-packages\\sklearn\\svm\\_base.py:976: ConvergenceWarning: Liblinear failed to converge, increase the number of iterations.\n",
      "  warnings.warn(\"Liblinear failed to converge, increase \"\n",
      "c:\\Users\\as\\anaconda3\\envs\\baseREC\\lib\\site-packages\\sklearn\\svm\\_base.py:976: ConvergenceWarning: Liblinear failed to converge, increase the number of iterations.\n",
      "  warnings.warn(\"Liblinear failed to converge, increase \"\n",
      "c:\\Users\\as\\anaconda3\\envs\\baseREC\\lib\\site-packages\\sklearn\\svm\\_base.py:976: ConvergenceWarning: Liblinear failed to converge, increase the number of iterations.\n",
      "  warnings.warn(\"Liblinear failed to converge, increase \"\n",
      "c:\\Users\\as\\anaconda3\\envs\\baseREC\\lib\\site-packages\\sklearn\\svm\\_base.py:976: ConvergenceWarning: Liblinear failed to converge, increase the number of iterations.\n",
      "  warnings.warn(\"Liblinear failed to converge, increase \"\n",
      "c:\\Users\\as\\anaconda3\\envs\\baseREC\\lib\\site-packages\\sklearn\\svm\\_base.py:976: ConvergenceWarning: Liblinear failed to converge, increase the number of iterations.\n",
      "  warnings.warn(\"Liblinear failed to converge, increase \"\n",
      "c:\\Users\\as\\anaconda3\\envs\\baseREC\\lib\\site-packages\\sklearn\\svm\\_base.py:976: ConvergenceWarning: Liblinear failed to converge, increase the number of iterations.\n",
      "  warnings.warn(\"Liblinear failed to converge, increase \"\n",
      "c:\\Users\\as\\anaconda3\\envs\\baseREC\\lib\\site-packages\\sklearn\\svm\\_base.py:976: ConvergenceWarning: Liblinear failed to converge, increase the number of iterations.\n",
      "  warnings.warn(\"Liblinear failed to converge, increase \"\n",
      "c:\\Users\\as\\anaconda3\\envs\\baseREC\\lib\\site-packages\\sklearn\\svm\\_base.py:976: ConvergenceWarning: Liblinear failed to converge, increase the number of iterations.\n",
      "  warnings.warn(\"Liblinear failed to converge, increase \"\n",
      "c:\\Users\\as\\anaconda3\\envs\\baseREC\\lib\\site-packages\\sklearn\\svm\\_base.py:976: ConvergenceWarning: Liblinear failed to converge, increase the number of iterations.\n",
      "  warnings.warn(\"Liblinear failed to converge, increase \"\n",
      "c:\\Users\\as\\anaconda3\\envs\\baseREC\\lib\\site-packages\\sklearn\\svm\\_base.py:976: ConvergenceWarning: Liblinear failed to converge, increase the number of iterations.\n",
      "  warnings.warn(\"Liblinear failed to converge, increase \"\n",
      "c:\\Users\\as\\anaconda3\\envs\\baseREC\\lib\\site-packages\\sklearn\\svm\\_base.py:976: ConvergenceWarning: Liblinear failed to converge, increase the number of iterations.\n",
      "  warnings.warn(\"Liblinear failed to converge, increase \"\n",
      "c:\\Users\\as\\anaconda3\\envs\\baseREC\\lib\\site-packages\\sklearn\\svm\\_base.py:976: ConvergenceWarning: Liblinear failed to converge, increase the number of iterations.\n",
      "  warnings.warn(\"Liblinear failed to converge, increase \"\n",
      "c:\\Users\\as\\anaconda3\\envs\\baseREC\\lib\\site-packages\\sklearn\\svm\\_base.py:976: ConvergenceWarning: Liblinear failed to converge, increase the number of iterations.\n",
      "  warnings.warn(\"Liblinear failed to converge, increase \"\n",
      "c:\\Users\\as\\anaconda3\\envs\\baseREC\\lib\\site-packages\\sklearn\\svm\\_base.py:976: ConvergenceWarning: Liblinear failed to converge, increase the number of iterations.\n",
      "  warnings.warn(\"Liblinear failed to converge, increase \"\n",
      "c:\\Users\\as\\anaconda3\\envs\\baseREC\\lib\\site-packages\\sklearn\\svm\\_base.py:976: ConvergenceWarning: Liblinear failed to converge, increase the number of iterations.\n",
      "  warnings.warn(\"Liblinear failed to converge, increase \"\n",
      "c:\\Users\\as\\anaconda3\\envs\\baseREC\\lib\\site-packages\\sklearn\\svm\\_base.py:976: ConvergenceWarning: Liblinear failed to converge, increase the number of iterations.\n",
      "  warnings.warn(\"Liblinear failed to converge, increase \"\n",
      "c:\\Users\\as\\anaconda3\\envs\\baseREC\\lib\\site-packages\\sklearn\\svm\\_base.py:976: ConvergenceWarning: Liblinear failed to converge, increase the number of iterations.\n",
      "  warnings.warn(\"Liblinear failed to converge, increase \"\n",
      "c:\\Users\\as\\anaconda3\\envs\\baseREC\\lib\\site-packages\\sklearn\\svm\\_base.py:976: ConvergenceWarning: Liblinear failed to converge, increase the number of iterations.\n",
      "  warnings.warn(\"Liblinear failed to converge, increase \"\n",
      "c:\\Users\\as\\anaconda3\\envs\\baseREC\\lib\\site-packages\\sklearn\\svm\\_base.py:976: ConvergenceWarning: Liblinear failed to converge, increase the number of iterations.\n",
      "  warnings.warn(\"Liblinear failed to converge, increase \"\n",
      "c:\\Users\\as\\anaconda3\\envs\\baseREC\\lib\\site-packages\\sklearn\\svm\\_base.py:976: ConvergenceWarning: Liblinear failed to converge, increase the number of iterations.\n",
      "  warnings.warn(\"Liblinear failed to converge, increase \"\n",
      "c:\\Users\\as\\anaconda3\\envs\\baseREC\\lib\\site-packages\\sklearn\\svm\\_base.py:976: ConvergenceWarning: Liblinear failed to converge, increase the number of iterations.\n",
      "  warnings.warn(\"Liblinear failed to converge, increase \"\n",
      "c:\\Users\\as\\anaconda3\\envs\\baseREC\\lib\\site-packages\\sklearn\\svm\\_base.py:976: ConvergenceWarning: Liblinear failed to converge, increase the number of iterations.\n",
      "  warnings.warn(\"Liblinear failed to converge, increase \"\n",
      "c:\\Users\\as\\anaconda3\\envs\\baseREC\\lib\\site-packages\\sklearn\\svm\\_base.py:976: ConvergenceWarning: Liblinear failed to converge, increase the number of iterations.\n",
      "  warnings.warn(\"Liblinear failed to converge, increase \"\n",
      "c:\\Users\\as\\anaconda3\\envs\\baseREC\\lib\\site-packages\\sklearn\\svm\\_base.py:976: ConvergenceWarning: Liblinear failed to converge, increase the number of iterations.\n",
      "  warnings.warn(\"Liblinear failed to converge, increase \"\n",
      "c:\\Users\\as\\anaconda3\\envs\\baseREC\\lib\\site-packages\\sklearn\\svm\\_base.py:976: ConvergenceWarning: Liblinear failed to converge, increase the number of iterations.\n",
      "  warnings.warn(\"Liblinear failed to converge, increase \"\n",
      "c:\\Users\\as\\anaconda3\\envs\\baseREC\\lib\\site-packages\\sklearn\\svm\\_base.py:976: ConvergenceWarning: Liblinear failed to converge, increase the number of iterations.\n",
      "  warnings.warn(\"Liblinear failed to converge, increase \"\n",
      "c:\\Users\\as\\anaconda3\\envs\\baseREC\\lib\\site-packages\\sklearn\\svm\\_base.py:976: ConvergenceWarning: Liblinear failed to converge, increase the number of iterations.\n",
      "  warnings.warn(\"Liblinear failed to converge, increase \"\n"
     ]
    },
    {
     "data": {
      "text/plain": [
       "GridSearchCV(estimator=LinearSVC(),\n",
       "             param_grid={'C': [0.01, 0.1, 1, 10, 100],\n",
       "                         'loss': ['hinge', 'squared_hinge']},\n",
       "             scoring=make_scorer(f1_score, pos_label=>50K))"
      ]
     },
     "execution_count": 23,
     "metadata": {},
     "output_type": "execute_result"
    }
   ],
   "source": [
    "linear_grid_search.fit(income_attributes_train,income_classes_train)"
   ]
  },
  {
   "cell_type": "code",
   "execution_count": 24,
   "metadata": {},
   "outputs": [
    {
     "data": {
      "text/plain": [
       "{'C': 100, 'loss': 'hinge'}"
      ]
     },
     "execution_count": 24,
     "metadata": {},
     "output_type": "execute_result"
    }
   ],
   "source": [
    "linear_grid_search.best_params_"
   ]
  },
  {
   "cell_type": "code",
   "execution_count": 25,
   "metadata": {},
   "outputs": [
    {
     "data": {
      "text/plain": [
       "{'mean_fit_time': array([0.12382703, 0.12322125, 0.10721617, 0.1685719 , 0.19398465,\n",
       "        0.610816  , 0.66623168, 2.3444818 , 2.8963182 , 2.89678245]),\n",
       " 'std_fit_time': array([0.01757235, 0.01791987, 0.0079396 , 0.00556322, 0.01198272,\n",
       "        0.0607006 , 0.03458458, 0.11678158, 0.28845832, 0.07693671]),\n",
       " 'mean_score_time': array([0.07680364, 0.06333933, 0.05840263, 0.06439395, 0.05394769,\n",
       "        0.05702481, 0.05089002, 0.05427518, 0.05743537, 0.05822539]),\n",
       " 'std_score_time': array([0.01640542, 0.00744745, 0.00625129, 0.01223588, 0.00928012,\n",
       "        0.01405204, 0.00514774, 0.00582716, 0.01011257, 0.008753  ]),\n",
       " 'param_C': masked_array(data=[0.01, 0.01, 0.1, 0.1, 1, 1, 10, 10, 100, 100],\n",
       "              mask=[False, False, False, False, False, False, False, False,\n",
       "                    False, False],\n",
       "        fill_value='?',\n",
       "             dtype=object),\n",
       " 'param_loss': masked_array(data=['hinge', 'squared_hinge', 'hinge', 'squared_hinge',\n",
       "                    'hinge', 'squared_hinge', 'hinge', 'squared_hinge',\n",
       "                    'hinge', 'squared_hinge'],\n",
       "              mask=[False, False, False, False, False, False, False, False,\n",
       "                    False, False],\n",
       "        fill_value='?',\n",
       "             dtype=object),\n",
       " 'params': [{'C': 0.01, 'loss': 'hinge'},\n",
       "  {'C': 0.01, 'loss': 'squared_hinge'},\n",
       "  {'C': 0.1, 'loss': 'hinge'},\n",
       "  {'C': 0.1, 'loss': 'squared_hinge'},\n",
       "  {'C': 1, 'loss': 'hinge'},\n",
       "  {'C': 1, 'loss': 'squared_hinge'},\n",
       "  {'C': 10, 'loss': 'hinge'},\n",
       "  {'C': 10, 'loss': 'squared_hinge'},\n",
       "  {'C': 100, 'loss': 'hinge'},\n",
       "  {'C': 100, 'loss': 'squared_hinge'}],\n",
       " 'split0_test_score': array([0.57894737, 0.61851852, 0.61359404, 0.63926941, 0.63347165,\n",
       "        0.64416058, 0.64170134, 0.64539654, 0.64385412, 0.63063584]),\n",
       " 'split1_test_score': array([0.58396947, 0.62081614, 0.62356717, 0.64021641, 0.64894096,\n",
       "        0.65055928, 0.65501792, 0.65420561, 0.6776    , 0.45507585]),\n",
       " 'split2_test_score': array([0.60675182, 0.63502015, 0.62898161, 0.65964912, 0.65269728,\n",
       "        0.66202091, 0.65360641, 0.6640591 , 0.67559296, 0.57597685]),\n",
       " 'split3_test_score': array([0.58110014, 0.62278711, 0.61517367, 0.64771213, 0.63873874,\n",
       "        0.65099778, 0.63587444, 0.64674398, 0.63195372, 0.4       ]),\n",
       " 'split4_test_score': array([0.59953811, 0.62333037, 0.62544803, 0.65297203, 0.64819701,\n",
       "        0.66027875, 0.65451312, 0.66203905, 0.67186282, 0.63538528]),\n",
       " 'mean_test_score': array([0.59006138, 0.62409446, 0.6213529 , 0.64796382, 0.64440913,\n",
       "        0.65360346, 0.64814265, 0.65448885, 0.66017272, 0.53941476]),\n",
       " 'std_test_score': array([0.01103916, 0.00571843, 0.00597081, 0.00771112, 0.00714648,\n",
       "        0.00664285, 0.00787025, 0.0076332 , 0.01865884, 0.09530786]),\n",
       " 'rank_test_score': array([ 9,  7,  8,  5,  6,  3,  4,  2,  1, 10])}"
      ]
     },
     "execution_count": 25,
     "metadata": {},
     "output_type": "execute_result"
    }
   ],
   "source": [
    "linear_grid_search.cv_results_"
   ]
  },
  {
   "cell_type": "code",
   "execution_count": 26,
   "metadata": {},
   "outputs": [],
   "source": [
    "train_pred = linear_grid_search.best_estimator_.predict(income_attributes_train)"
   ]
  },
  {
   "cell_type": "code",
   "execution_count": 27,
   "metadata": {},
   "outputs": [],
   "source": [
    "test_pred = linear_grid_search.best_estimator_.predict(income_attributes_test)"
   ]
  },
  {
   "cell_type": "code",
   "execution_count": 28,
   "metadata": {},
   "outputs": [
    {
     "data": {
      "text/plain": [
       "0.6492774057102573"
      ]
     },
     "execution_count": 28,
     "metadata": {},
     "output_type": "execute_result"
    }
   ],
   "source": [
    "f1_score(income_classes_test,test_pred, pos_label = \">50K\")"
   ]
  },
  {
   "cell_type": "code",
   "execution_count": 29,
   "metadata": {},
   "outputs": [
    {
     "name": "stdout",
     "output_type": "stream",
     "text": [
      "              precision    recall  f1-score   support\n",
      "\n",
      "       <=50K       0.88      0.92      0.90     19775\n",
      "        >50K       0.71      0.59      0.64      6273\n",
      "\n",
      "    accuracy                           0.84     26048\n",
      "   macro avg       0.79      0.76      0.77     26048\n",
      "weighted avg       0.84      0.84      0.84     26048\n",
      "\n"
     ]
    }
   ],
   "source": [
    "print(classification_report(income_classes_train,train_pred))"
   ]
  },
  {
   "cell_type": "code",
   "execution_count": 30,
   "metadata": {},
   "outputs": [
    {
     "name": "stdout",
     "output_type": "stream",
     "text": [
      "              precision    recall  f1-score   support\n",
      "\n",
      "       <=50K       0.88      0.93      0.90      4945\n",
      "        >50K       0.73      0.59      0.65      1568\n",
      "\n",
      "    accuracy                           0.85      6513\n",
      "   macro avg       0.80      0.76      0.78      6513\n",
      "weighted avg       0.84      0.85      0.84      6513\n",
      "\n"
     ]
    }
   ],
   "source": [
    "print(classification_report(income_classes_test,test_pred))"
   ]
  },
  {
   "cell_type": "code",
   "execution_count": 31,
   "metadata": {},
   "outputs": [],
   "source": [
    "svc = SVC(\n",
    "    kernel=\"poly\",degree= 2, max_iter=1000,\n",
    ")"
   ]
  },
  {
   "cell_type": "code",
   "execution_count": 32,
   "metadata": {},
   "outputs": [
    {
     "name": "stderr",
     "output_type": "stream",
     "text": [
      "c:\\Users\\as\\anaconda3\\envs\\baseREC\\lib\\site-packages\\sklearn\\svm\\_base.py:246: ConvergenceWarning: Solver terminated early (max_iter=1000).  Consider pre-processing your data with StandardScaler or MinMaxScaler.\n",
      "  warnings.warn('Solver terminated early (max_iter=%i).'\n"
     ]
    },
    {
     "data": {
      "text/plain": [
       "SVC(degree=2, kernel='poly', max_iter=1000)"
      ]
     },
     "execution_count": 32,
     "metadata": {},
     "output_type": "execute_result"
    }
   ],
   "source": [
    "svc.fit(income_attributes_train,income_classes_train)"
   ]
  },
  {
   "cell_type": "code",
   "execution_count": 33,
   "metadata": {},
   "outputs": [
    {
     "data": {
      "text/plain": [
       "array([ 0.03017883, -0.22328199,  0.30471297, -0.47608535, -0.30897285,\n",
       "        0.21370687,  0.10778928, -0.20271596,  0.0386054 ,  0.16317667])"
      ]
     },
     "execution_count": 33,
     "metadata": {},
     "output_type": "execute_result"
    }
   ],
   "source": [
    "svc.decision_function(income_attributes_train[:10])"
   ]
  },
  {
   "cell_type": "code",
   "execution_count": 34,
   "metadata": {},
   "outputs": [
    {
     "data": {
      "text/plain": [
       "array(['>50K', '<=50K', '>50K', '<=50K', '<=50K', '>50K', '>50K', '<=50K',\n",
       "       '>50K', '>50K'], dtype=object)"
      ]
     },
     "execution_count": 34,
     "metadata": {},
     "output_type": "execute_result"
    }
   ],
   "source": [
    "svc.predict(income_attributes_train[:10])"
   ]
  },
  {
   "cell_type": "code",
   "execution_count": 35,
   "metadata": {},
   "outputs": [],
   "source": [
    "train_predictions= svc.predict(income_attributes_train)"
   ]
  },
  {
   "cell_type": "code",
   "execution_count": 36,
   "metadata": {},
   "outputs": [],
   "source": [
    "test_predictions= svc.predict(income_attributes_test)"
   ]
  },
  {
   "cell_type": "code",
   "execution_count": 37,
   "metadata": {},
   "outputs": [
    {
     "name": "stdout",
     "output_type": "stream",
     "text": [
      "              precision    recall  f1-score   support\n",
      "\n",
      "       <=50K       0.89      0.71      0.79     19775\n",
      "        >50K       0.44      0.72      0.55      6273\n",
      "\n",
      "    accuracy                           0.71     26048\n",
      "   macro avg       0.66      0.72      0.67     26048\n",
      "weighted avg       0.78      0.71      0.73     26048\n",
      "\n"
     ]
    }
   ],
   "source": [
    "print(classification_report(income_classes_train,train_predictions))"
   ]
  },
  {
   "cell_type": "code",
   "execution_count": 38,
   "metadata": {},
   "outputs": [
    {
     "name": "stdout",
     "output_type": "stream",
     "text": [
      "              precision    recall  f1-score   support\n",
      "\n",
      "       <=50K       0.89      0.71      0.79      4945\n",
      "        >50K       0.44      0.71      0.54      1568\n",
      "\n",
      "    accuracy                           0.71      6513\n",
      "   macro avg       0.66      0.71      0.67      6513\n",
      "weighted avg       0.78      0.71      0.73      6513\n",
      "\n"
     ]
    }
   ],
   "source": [
    "print(classification_report(income_classes_test,test_predictions))"
   ]
  },
  {
   "cell_type": "code",
   "execution_count": 39,
   "metadata": {},
   "outputs": [],
   "source": [
    "gaussian_svc = SVC(\n",
    "    kernel=\"rbf\",\n",
    "    C = 100,\n",
    "    gamma= 0.1\n",
    ")\n",
    "gaussian_svc.fit(income_attributes_train,income_classes_train)\n",
    "train_predictions= gaussian_svc.predict(income_attributes_train)\n",
    "test_predictions= gaussian_svc.predict(income_attributes_test)"
   ]
  },
  {
   "cell_type": "code",
   "execution_count": 40,
   "metadata": {},
   "outputs": [
    {
     "name": "stdout",
     "output_type": "stream",
     "text": [
      "              precision    recall  f1-score   support\n",
      "\n",
      "       <=50K       0.91      0.95      0.93     19775\n",
      "        >50K       0.81      0.70      0.75      6273\n",
      "\n",
      "    accuracy                           0.89     26048\n",
      "   macro avg       0.86      0.83      0.84     26048\n",
      "weighted avg       0.89      0.89      0.89     26048\n",
      "\n"
     ]
    }
   ],
   "source": [
    "print(classification_report(income_classes_train,train_predictions))"
   ]
  },
  {
   "cell_type": "code",
   "execution_count": 41,
   "metadata": {},
   "outputs": [
    {
     "name": "stdout",
     "output_type": "stream",
     "text": [
      "              precision    recall  f1-score   support\n",
      "\n",
      "       <=50K       0.88      0.92      0.90      4945\n",
      "        >50K       0.71      0.60      0.65      1568\n",
      "\n",
      "    accuracy                           0.84      6513\n",
      "   macro avg       0.79      0.76      0.78      6513\n",
      "weighted avg       0.84      0.84      0.84      6513\n",
      "\n"
     ]
    }
   ],
   "source": [
    "print(classification_report(income_classes_test,test_predictions))"
   ]
  },
  {
   "cell_type": "code",
   "execution_count": 42,
   "metadata": {},
   "outputs": [
    {
     "data": {
      "text/plain": [
       "KNeighborsClassifier(n_neighbors=20)"
      ]
     },
     "execution_count": 42,
     "metadata": {},
     "output_type": "execute_result"
    }
   ],
   "source": [
    "knn = KNeighborsClassifier(n_neighbors=20)\n",
    "knn.fit(income_attributes_train,income_classes_train)"
   ]
  },
  {
   "cell_type": "code",
   "execution_count": 43,
   "metadata": {},
   "outputs": [
    {
     "data": {
      "text/plain": [
       "array(['>50K', '<=50K', '<=50K', '<=50K', '<=50K', '<=50K', '<=50K',\n",
       "       '<=50K', '<=50K', '>50K'], dtype=object)"
      ]
     },
     "execution_count": 43,
     "metadata": {},
     "output_type": "execute_result"
    }
   ],
   "source": [
    "knn.predict(income_attributes_train[:10])"
   ]
  },
  {
   "cell_type": "code",
   "execution_count": 44,
   "metadata": {},
   "outputs": [
    {
     "data": {
      "text/plain": [
       "0.6263498920086393"
      ]
     },
     "execution_count": 44,
     "metadata": {},
     "output_type": "execute_result"
    }
   ],
   "source": [
    "f1_score(income_classes_test,knn.predict(income_attributes_test),pos_label= \">50K\")"
   ]
  },
  {
   "cell_type": "code",
   "execution_count": 45,
   "metadata": {},
   "outputs": [],
   "source": [
    "one_class_svm = OneClassSVM(nu = 0.1 )"
   ]
  },
  {
   "cell_type": "code",
   "execution_count": 46,
   "metadata": {},
   "outputs": [
    {
     "data": {
      "text/plain": [
       "OneClassSVM(nu=0.1)"
      ]
     },
     "execution_count": 46,
     "metadata": {},
     "output_type": "execute_result"
    }
   ],
   "source": [
    "one_class_svm.fit(income_attributes_train)"
   ]
  },
  {
   "cell_type": "code",
   "execution_count": null,
   "metadata": {},
   "outputs": [],
   "source": []
  }
 ],
 "metadata": {
  "kernelspec": {
   "display_name": "Python 3.8.5 ('baseREC')",
   "language": "python",
   "name": "python3"
  },
  "language_info": {
   "codemirror_mode": {
    "name": "ipython",
    "version": 3
   },
   "file_extension": ".py",
   "mimetype": "text/x-python",
   "name": "python",
   "nbconvert_exporter": "python",
   "pygments_lexer": "ipython3",
   "version": "3.8.5"
  },
  "orig_nbformat": 4,
  "vscode": {
   "interpreter": {
    "hash": "c0f22bf35da797130dc9772e9bbbc1553556016bd9c002cdfb8138dc94e3b793"
   }
  }
 },
 "nbformat": 4,
 "nbformat_minor": 2
}

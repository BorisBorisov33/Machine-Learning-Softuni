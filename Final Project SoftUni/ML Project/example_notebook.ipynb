{
 "cells": [
  {
   "cell_type": "markdown",
   "metadata": {},
   "source": [
    "# Final project\n",
    "Course : Machine Learning in SoftUni\\\n",
    "Author: Boris Borisov\\\n",
    "Documentation can be found in the README file"
   ]
  },
  {
   "cell_type": "markdown",
   "metadata": {},
   "source": [
    "## Load libraries"
   ]
  },
  {
   "cell_type": "code",
   "execution_count": 649,
   "metadata": {},
   "outputs": [],
   "source": [
    "import pandas as pd\n",
    "import numpy as np\n",
    "import matplotlib.pyplot as plt\n",
    "\n",
    "from datetime import date,datetime,timedelta\n",
    "import datetime as dt\n",
    "\n",
    "# sklearn libraries\n",
    "from sklearn.preprocessing import MinMaxScaler\n",
    "from sklearn.preprocessing import MaxAbsScaler\n",
    "from sklearn.preprocessing import StandardScaler\n",
    "\n",
    "# darts' libraries\n",
    "import darts\n",
    "from darts import TimeSeries\n",
    "from darts.dataprocessing.transformers import Scaler\n",
    "from darts.models import NBEATSModel\n",
    "from darts.models import TCNModel\n",
    "from darts.models import TFTModel\n",
    "\n",
    "# metrics\n",
    "from darts.metrics import coefficient_of_variation,dtw_metric,mae,mape,marre,mase,mse\n",
    "from darts.metrics.metrics import multi_ts_support,multivariate_support, ope,r2_score, rho_risk,rmse,rmsle, smape\n"
   ]
  },
  {
   "cell_type": "markdown",
   "metadata": {},
   "source": [
    "## Load pickle file"
   ]
  },
  {
   "cell_type": "markdown",
   "metadata": {},
   "source": [
    "Start here"
   ]
  },
  {
   "cell_type": "code",
   "execution_count": 650,
   "metadata": {},
   "outputs": [
    {
     "data": {
      "text/html": [
       "<div>\n",
       "<style scoped>\n",
       "    .dataframe tbody tr th:only-of-type {\n",
       "        vertical-align: middle;\n",
       "    }\n",
       "\n",
       "    .dataframe tbody tr th {\n",
       "        vertical-align: top;\n",
       "    }\n",
       "\n",
       "    .dataframe thead th {\n",
       "        text-align: right;\n",
       "    }\n",
       "</style>\n",
       "<table border=\"1\" class=\"dataframe\">\n",
       "  <thead>\n",
       "    <tr style=\"text-align: right;\">\n",
       "      <th></th>\n",
       "      <th>planning_group</th>\n",
       "      <th>fis_period</th>\n",
       "      <th>time</th>\n",
       "      <th>euc_mrr</th>\n",
       "      <th>euc_mrr_lead_6months</th>\n",
       "      <th>mrr_change</th>\n",
       "      <th>mrr_change_lead_6months</th>\n",
       "      <th>sr_count_score</th>\n",
       "      <th>ttr_sev12_score</th>\n",
       "      <th>csat_score</th>\n",
       "      <th>...</th>\n",
       "      <th>pr_to_sr_ratio_score</th>\n",
       "      <th>average_tech_health_score</th>\n",
       "      <th>max_boxer</th>\n",
       "      <th>max_osx</th>\n",
       "      <th>max_tot_enrolled</th>\n",
       "      <th>max_horizon</th>\n",
       "      <th>max_hub</th>\n",
       "      <th>max_content</th>\n",
       "      <th>max_win10</th>\n",
       "      <th>max_stickiness</th>\n",
       "    </tr>\n",
       "  </thead>\n",
       "  <tbody>\n",
       "    <tr>\n",
       "      <th>0</th>\n",
       "      <td>company_1</td>\n",
       "      <td>21Q4-P12</td>\n",
       "      <td>0</td>\n",
       "      <td>12167.12785</td>\n",
       "      <td>3615.16435</td>\n",
       "      <td>No-Change</td>\n",
       "      <td>Decrease</td>\n",
       "      <td>1.0</td>\n",
       "      <td>1.0</td>\n",
       "      <td></td>\n",
       "      <td>...</td>\n",
       "      <td>100.0</td>\n",
       "      <td>50.500000</td>\n",
       "      <td>&lt;NA&gt;</td>\n",
       "      <td>&lt;NA&gt;</td>\n",
       "      <td>&lt;NA&gt;</td>\n",
       "      <td>889</td>\n",
       "      <td>&lt;NA&gt;</td>\n",
       "      <td>&lt;NA&gt;</td>\n",
       "      <td>&lt;NA&gt;</td>\n",
       "      <td>22.73</td>\n",
       "    </tr>\n",
       "    <tr>\n",
       "      <th>1</th>\n",
       "      <td>company_1</td>\n",
       "      <td>22Q1-P1</td>\n",
       "      <td>0</td>\n",
       "      <td>12167.12785</td>\n",
       "      <td>3615.16435</td>\n",
       "      <td>No-Change</td>\n",
       "      <td>No-Change</td>\n",
       "      <td>60.0</td>\n",
       "      <td>1.0</td>\n",
       "      <td></td>\n",
       "      <td>...</td>\n",
       "      <td>100.0</td>\n",
       "      <td>65.250000</td>\n",
       "      <td>&lt;NA&gt;</td>\n",
       "      <td>&lt;NA&gt;</td>\n",
       "      <td>&lt;NA&gt;</td>\n",
       "      <td>889</td>\n",
       "      <td>&lt;NA&gt;</td>\n",
       "      <td>&lt;NA&gt;</td>\n",
       "      <td>&lt;NA&gt;</td>\n",
       "      <td>22.73</td>\n",
       "    </tr>\n",
       "    <tr>\n",
       "      <th>2</th>\n",
       "      <td>company_1</td>\n",
       "      <td>22Q1-P2</td>\n",
       "      <td>0</td>\n",
       "      <td>12167.12785</td>\n",
       "      <td>4583.56638</td>\n",
       "      <td>No-Change</td>\n",
       "      <td>No-Change</td>\n",
       "      <td>100.0</td>\n",
       "      <td></td>\n",
       "      <td></td>\n",
       "      <td>...</td>\n",
       "      <td>100.0</td>\n",
       "      <td>92.240741</td>\n",
       "      <td>&lt;NA&gt;</td>\n",
       "      <td>&lt;NA&gt;</td>\n",
       "      <td>&lt;NA&gt;</td>\n",
       "      <td>885</td>\n",
       "      <td>&lt;NA&gt;</td>\n",
       "      <td>&lt;NA&gt;</td>\n",
       "      <td>&lt;NA&gt;</td>\n",
       "      <td>22.73</td>\n",
       "    </tr>\n",
       "    <tr>\n",
       "      <th>3</th>\n",
       "      <td>company_1</td>\n",
       "      <td>22Q1-P3</td>\n",
       "      <td>0</td>\n",
       "      <td>12167.12785</td>\n",
       "      <td>32045.26810</td>\n",
       "      <td>No-Change</td>\n",
       "      <td>Increase</td>\n",
       "      <td>100.0</td>\n",
       "      <td></td>\n",
       "      <td></td>\n",
       "      <td>...</td>\n",
       "      <td></td>\n",
       "      <td>100.000000</td>\n",
       "      <td>&lt;NA&gt;</td>\n",
       "      <td>&lt;NA&gt;</td>\n",
       "      <td>&lt;NA&gt;</td>\n",
       "      <td>921</td>\n",
       "      <td>&lt;NA&gt;</td>\n",
       "      <td>&lt;NA&gt;</td>\n",
       "      <td>&lt;NA&gt;</td>\n",
       "      <td>22.73</td>\n",
       "    </tr>\n",
       "    <tr>\n",
       "      <th>4</th>\n",
       "      <td>company_1</td>\n",
       "      <td>22Q2-P4</td>\n",
       "      <td>0</td>\n",
       "      <td>0.00000</td>\n",
       "      <td>32045.26810</td>\n",
       "      <td>Decrease</td>\n",
       "      <td>No-Change</td>\n",
       "      <td>60.0</td>\n",
       "      <td></td>\n",
       "      <td></td>\n",
       "      <td>...</td>\n",
       "      <td></td>\n",
       "      <td>86.666667</td>\n",
       "      <td>&lt;NA&gt;</td>\n",
       "      <td>&lt;NA&gt;</td>\n",
       "      <td>&lt;NA&gt;</td>\n",
       "      <td>942</td>\n",
       "      <td>&lt;NA&gt;</td>\n",
       "      <td>&lt;NA&gt;</td>\n",
       "      <td>&lt;NA&gt;</td>\n",
       "      <td>22.73</td>\n",
       "    </tr>\n",
       "    <tr>\n",
       "      <th>...</th>\n",
       "      <td>...</td>\n",
       "      <td>...</td>\n",
       "      <td>...</td>\n",
       "      <td>...</td>\n",
       "      <td>...</td>\n",
       "      <td>...</td>\n",
       "      <td>...</td>\n",
       "      <td>...</td>\n",
       "      <td>...</td>\n",
       "      <td>...</td>\n",
       "      <td>...</td>\n",
       "      <td>...</td>\n",
       "      <td>...</td>\n",
       "      <td>...</td>\n",
       "      <td>...</td>\n",
       "      <td>...</td>\n",
       "      <td>...</td>\n",
       "      <td>...</td>\n",
       "      <td>...</td>\n",
       "      <td>...</td>\n",
       "      <td>...</td>\n",
       "    </tr>\n",
       "    <tr>\n",
       "      <th>395</th>\n",
       "      <td>company_20</td>\n",
       "      <td>22Q3-P8</td>\n",
       "      <td>0</td>\n",
       "      <td>24690.90000</td>\n",
       "      <td>24690.90000</td>\n",
       "      <td>No-Change</td>\n",
       "      <td>No-Change</td>\n",
       "      <td>60.0</td>\n",
       "      <td>100.0</td>\n",
       "      <td></td>\n",
       "      <td>...</td>\n",
       "      <td>60.0</td>\n",
       "      <td>84.814815</td>\n",
       "      <td>9</td>\n",
       "      <td>40</td>\n",
       "      <td>5583</td>\n",
       "      <td>2068</td>\n",
       "      <td>5142</td>\n",
       "      <td>1365</td>\n",
       "      <td>5</td>\n",
       "      <td>61.37</td>\n",
       "    </tr>\n",
       "    <tr>\n",
       "      <th>396</th>\n",
       "      <td>company_20</td>\n",
       "      <td>22Q3-P9</td>\n",
       "      <td>0</td>\n",
       "      <td>24690.90000</td>\n",
       "      <td>24690.90000</td>\n",
       "      <td>No-Change</td>\n",
       "      <td>No-Change</td>\n",
       "      <td>60.0</td>\n",
       "      <td>100.0</td>\n",
       "      <td></td>\n",
       "      <td>...</td>\n",
       "      <td>60.0</td>\n",
       "      <td>79.672840</td>\n",
       "      <td>9</td>\n",
       "      <td>39</td>\n",
       "      <td>5587</td>\n",
       "      <td>2111</td>\n",
       "      <td>5153</td>\n",
       "      <td>1369</td>\n",
       "      <td>6</td>\n",
       "      <td>61.37</td>\n",
       "    </tr>\n",
       "    <tr>\n",
       "      <th>397</th>\n",
       "      <td>company_20</td>\n",
       "      <td>22Q4-P10</td>\n",
       "      <td>0</td>\n",
       "      <td>24690.90000</td>\n",
       "      <td>24690.90000</td>\n",
       "      <td>No-Change</td>\n",
       "      <td>No-Change</td>\n",
       "      <td>60.0</td>\n",
       "      <td>100.0</td>\n",
       "      <td></td>\n",
       "      <td>...</td>\n",
       "      <td>60.0</td>\n",
       "      <td>79.487179</td>\n",
       "      <td>9</td>\n",
       "      <td>32</td>\n",
       "      <td>5474</td>\n",
       "      <td>2099</td>\n",
       "      <td>5072</td>\n",
       "      <td>1331</td>\n",
       "      <td>7</td>\n",
       "      <td>61.37</td>\n",
       "    </tr>\n",
       "    <tr>\n",
       "      <th>398</th>\n",
       "      <td>company_20</td>\n",
       "      <td>22Q4-P11</td>\n",
       "      <td>0</td>\n",
       "      <td>24690.90000</td>\n",
       "      <td>24690.90000</td>\n",
       "      <td>No-Change</td>\n",
       "      <td>No-Change</td>\n",
       "      <td>60.0</td>\n",
       "      <td>60.0</td>\n",
       "      <td></td>\n",
       "      <td>...</td>\n",
       "      <td>60.0</td>\n",
       "      <td>76.410256</td>\n",
       "      <td>9</td>\n",
       "      <td>32</td>\n",
       "      <td>5538</td>\n",
       "      <td>2172</td>\n",
       "      <td>5127</td>\n",
       "      <td>1311</td>\n",
       "      <td>7</td>\n",
       "      <td>61.37</td>\n",
       "    </tr>\n",
       "    <tr>\n",
       "      <th>399</th>\n",
       "      <td>company_20</td>\n",
       "      <td>22Q4-P12</td>\n",
       "      <td>0</td>\n",
       "      <td>24690.90000</td>\n",
       "      <td>24690.90000</td>\n",
       "      <td>No-Change</td>\n",
       "      <td>No-Change</td>\n",
       "      <td>60.0</td>\n",
       "      <td>60.0</td>\n",
       "      <td></td>\n",
       "      <td>...</td>\n",
       "      <td>1.0</td>\n",
       "      <td>61.861111</td>\n",
       "      <td>9</td>\n",
       "      <td>31</td>\n",
       "      <td>5604</td>\n",
       "      <td>2280</td>\n",
       "      <td>5182</td>\n",
       "      <td>1310</td>\n",
       "      <td>7</td>\n",
       "      <td>61.37</td>\n",
       "    </tr>\n",
       "  </tbody>\n",
       "</table>\n",
       "<p>400 rows × 23 columns</p>\n",
       "</div>"
      ],
      "text/plain": [
       "    planning_group fis_period  time      euc_mrr  euc_mrr_lead_6months  \\\n",
       "0        company_1   21Q4-P12     0  12167.12785            3615.16435   \n",
       "1        company_1    22Q1-P1     0  12167.12785            3615.16435   \n",
       "2        company_1    22Q1-P2     0  12167.12785            4583.56638   \n",
       "3        company_1    22Q1-P3     0  12167.12785           32045.26810   \n",
       "4        company_1    22Q2-P4     0      0.00000           32045.26810   \n",
       "..             ...        ...   ...          ...                   ...   \n",
       "395     company_20    22Q3-P8     0  24690.90000           24690.90000   \n",
       "396     company_20    22Q3-P9     0  24690.90000           24690.90000   \n",
       "397     company_20   22Q4-P10     0  24690.90000           24690.90000   \n",
       "398     company_20   22Q4-P11     0  24690.90000           24690.90000   \n",
       "399     company_20   22Q4-P12     0  24690.90000           24690.90000   \n",
       "\n",
       "    mrr_change mrr_change_lead_6months sr_count_score ttr_sev12_score  \\\n",
       "0    No-Change                Decrease            1.0             1.0   \n",
       "1    No-Change               No-Change           60.0             1.0   \n",
       "2    No-Change               No-Change          100.0                   \n",
       "3    No-Change                Increase          100.0                   \n",
       "4     Decrease               No-Change           60.0                   \n",
       "..         ...                     ...            ...             ...   \n",
       "395  No-Change               No-Change           60.0           100.0   \n",
       "396  No-Change               No-Change           60.0           100.0   \n",
       "397  No-Change               No-Change           60.0           100.0   \n",
       "398  No-Change               No-Change           60.0            60.0   \n",
       "399  No-Change               No-Change           60.0            60.0   \n",
       "\n",
       "    csat_score  ... pr_to_sr_ratio_score average_tech_health_score max_boxer  \\\n",
       "0               ...                100.0                 50.500000      <NA>   \n",
       "1               ...                100.0                 65.250000      <NA>   \n",
       "2               ...                100.0                 92.240741      <NA>   \n",
       "3               ...                                     100.000000      <NA>   \n",
       "4               ...                                      86.666667      <NA>   \n",
       "..         ...  ...                  ...                       ...       ...   \n",
       "395             ...                 60.0                 84.814815         9   \n",
       "396             ...                 60.0                 79.672840         9   \n",
       "397             ...                 60.0                 79.487179         9   \n",
       "398             ...                 60.0                 76.410256         9   \n",
       "399             ...                  1.0                 61.861111         9   \n",
       "\n",
       "    max_osx  max_tot_enrolled  max_horizon  max_hub  max_content  max_win10  \\\n",
       "0      <NA>              <NA>          889     <NA>         <NA>       <NA>   \n",
       "1      <NA>              <NA>          889     <NA>         <NA>       <NA>   \n",
       "2      <NA>              <NA>          885     <NA>         <NA>       <NA>   \n",
       "3      <NA>              <NA>          921     <NA>         <NA>       <NA>   \n",
       "4      <NA>              <NA>          942     <NA>         <NA>       <NA>   \n",
       "..      ...               ...          ...      ...          ...        ...   \n",
       "395      40              5583         2068     5142         1365          5   \n",
       "396      39              5587         2111     5153         1369          6   \n",
       "397      32              5474         2099     5072         1331          7   \n",
       "398      32              5538         2172     5127         1311          7   \n",
       "399      31              5604         2280     5182         1310          7   \n",
       "\n",
       "     max_stickiness  \n",
       "0             22.73  \n",
       "1             22.73  \n",
       "2             22.73  \n",
       "3             22.73  \n",
       "4             22.73  \n",
       "..              ...  \n",
       "395           61.37  \n",
       "396           61.37  \n",
       "397           61.37  \n",
       "398           61.37  \n",
       "399           61.37  \n",
       "\n",
       "[400 rows x 23 columns]"
      ]
     },
     "execution_count": 650,
     "metadata": {},
     "output_type": "execute_result"
    }
   ],
   "source": [
    "df_no_acc_pick = pd.read_pickle('available_data.pkl')\n",
    "df_no_acc_pick"
   ]
  },
  {
   "cell_type": "markdown",
   "metadata": {},
   "source": [
    "## Start of the preprocessing\n",
    "How to handle and fill the null values"
   ]
  },
  {
   "cell_type": "code",
   "execution_count": 651,
   "metadata": {},
   "outputs": [],
   "source": [
    "# df_no_acc_pick\n",
    "# - remove the column that has more than 50% of its values to be NULL value:\n",
    "#       -remove columns psat and csat\n",
    "# - Replace null values in sev1_ratio_score and pr_to_sr_ratio\n",
    "#       -For these columns, we have NA values because the denominator (SRs created/open) is zero because\n",
    "#        each planning group has its range for sr_score.\n",
    "#        Intuitively we would give NA values to be equal to 1 but we decided to give the sr_score\n",
    "#        because it is designed to assign the correct scores to 0 SR.\n",
    "# - Replace null values in ttr_sev12_score:\n",
    "#       -if we have ttr_sev12_score = 0: ttr_sev12_score= sr_count_score of the respective row else: ttr_sev12_score = 100\n",
    "# - How to handle null values for the max_stickiness column\n",
    "#       - The companies that have more than 50% of the time values that are NA are removed, \n",
    "#          we assume that these PGs are noninformative.\n",
    "#         The seven companies are removed , which corresponds to 116 dropped rows in the dataframe.\n",
    "# - how to transform data for columns that calculate values from day to months\n",
    "#       - If a column is calculated for a day, take the average of the values out of thirty days and\n",
    "#         this will be the assigned value for each fiscal period.\n",
    "#         More of the columns from the technical health score is calculated on a daily level so these columns had to be transformed \n",
    "#         as mentioned above.\n",
    "#       - take the mode of the fiscal period for the specific values\n",
    "#       - all the other NA values are filled with 0.\n",
    "\n",
    "# Note: all these decision on how to handle null values were discussed with business stakeholders and decision makers for the data."
   ]
  },
  {
   "cell_type": "markdown",
   "metadata": {},
   "source": [
    "Replace empty string values with None"
   ]
  },
  {
   "cell_type": "code",
   "execution_count": 652,
   "metadata": {},
   "outputs": [],
   "source": [
    "df_no_acc_pick['planning_group'] = df_no_acc_pick['planning_group'].astype(\"string\")\n",
    "df_no_acc_pick['fis_period'] = df_no_acc_pick['fis_period'].astype(\"string\")\n",
    "\n",
    "df_no_acc_pick =df_no_acc_pick.replace({'None':pd.NA,'':pd.NA,'NAType':pd.NA})\n"
   ]
  },
  {
   "cell_type": "code",
   "execution_count": 653,
   "metadata": {},
   "outputs": [
    {
     "data": {
      "text/html": [
       "<div>\n",
       "<style scoped>\n",
       "    .dataframe tbody tr th:only-of-type {\n",
       "        vertical-align: middle;\n",
       "    }\n",
       "\n",
       "    .dataframe tbody tr th {\n",
       "        vertical-align: top;\n",
       "    }\n",
       "\n",
       "    .dataframe thead th {\n",
       "        text-align: right;\n",
       "    }\n",
       "</style>\n",
       "<table border=\"1\" class=\"dataframe\">\n",
       "  <thead>\n",
       "    <tr style=\"text-align: right;\">\n",
       "      <th></th>\n",
       "      <th>planning_group</th>\n",
       "      <th>fis_period</th>\n",
       "      <th>time</th>\n",
       "      <th>euc_mrr</th>\n",
       "      <th>euc_mrr_lead_6months</th>\n",
       "      <th>mrr_change</th>\n",
       "      <th>mrr_change_lead_6months</th>\n",
       "      <th>sr_count_score</th>\n",
       "      <th>ttr_sev12_score</th>\n",
       "      <th>csat_score</th>\n",
       "      <th>...</th>\n",
       "      <th>pr_to_sr_ratio_score</th>\n",
       "      <th>average_tech_health_score</th>\n",
       "      <th>max_boxer</th>\n",
       "      <th>max_osx</th>\n",
       "      <th>max_tot_enrolled</th>\n",
       "      <th>max_horizon</th>\n",
       "      <th>max_hub</th>\n",
       "      <th>max_content</th>\n",
       "      <th>max_win10</th>\n",
       "      <th>max_stickiness</th>\n",
       "    </tr>\n",
       "  </thead>\n",
       "  <tbody>\n",
       "    <tr>\n",
       "      <th>0</th>\n",
       "      <td>company_1</td>\n",
       "      <td>21Q4-P12</td>\n",
       "      <td>0</td>\n",
       "      <td>12167.12785</td>\n",
       "      <td>3615.16435</td>\n",
       "      <td>No-Change</td>\n",
       "      <td>Decrease</td>\n",
       "      <td>1.0</td>\n",
       "      <td>1.0</td>\n",
       "      <td>&lt;NA&gt;</td>\n",
       "      <td>...</td>\n",
       "      <td>100.0</td>\n",
       "      <td>50.500000</td>\n",
       "      <td>&lt;NA&gt;</td>\n",
       "      <td>&lt;NA&gt;</td>\n",
       "      <td>&lt;NA&gt;</td>\n",
       "      <td>889</td>\n",
       "      <td>&lt;NA&gt;</td>\n",
       "      <td>&lt;NA&gt;</td>\n",
       "      <td>&lt;NA&gt;</td>\n",
       "      <td>22.73</td>\n",
       "    </tr>\n",
       "    <tr>\n",
       "      <th>1</th>\n",
       "      <td>company_1</td>\n",
       "      <td>22Q1-P1</td>\n",
       "      <td>0</td>\n",
       "      <td>12167.12785</td>\n",
       "      <td>3615.16435</td>\n",
       "      <td>No-Change</td>\n",
       "      <td>No-Change</td>\n",
       "      <td>60.0</td>\n",
       "      <td>1.0</td>\n",
       "      <td>&lt;NA&gt;</td>\n",
       "      <td>...</td>\n",
       "      <td>100.0</td>\n",
       "      <td>65.250000</td>\n",
       "      <td>&lt;NA&gt;</td>\n",
       "      <td>&lt;NA&gt;</td>\n",
       "      <td>&lt;NA&gt;</td>\n",
       "      <td>889</td>\n",
       "      <td>&lt;NA&gt;</td>\n",
       "      <td>&lt;NA&gt;</td>\n",
       "      <td>&lt;NA&gt;</td>\n",
       "      <td>22.73</td>\n",
       "    </tr>\n",
       "    <tr>\n",
       "      <th>2</th>\n",
       "      <td>company_1</td>\n",
       "      <td>22Q1-P2</td>\n",
       "      <td>0</td>\n",
       "      <td>12167.12785</td>\n",
       "      <td>4583.56638</td>\n",
       "      <td>No-Change</td>\n",
       "      <td>No-Change</td>\n",
       "      <td>100.0</td>\n",
       "      <td>&lt;NA&gt;</td>\n",
       "      <td>&lt;NA&gt;</td>\n",
       "      <td>...</td>\n",
       "      <td>100.0</td>\n",
       "      <td>92.240741</td>\n",
       "      <td>&lt;NA&gt;</td>\n",
       "      <td>&lt;NA&gt;</td>\n",
       "      <td>&lt;NA&gt;</td>\n",
       "      <td>885</td>\n",
       "      <td>&lt;NA&gt;</td>\n",
       "      <td>&lt;NA&gt;</td>\n",
       "      <td>&lt;NA&gt;</td>\n",
       "      <td>22.73</td>\n",
       "    </tr>\n",
       "    <tr>\n",
       "      <th>3</th>\n",
       "      <td>company_1</td>\n",
       "      <td>22Q1-P3</td>\n",
       "      <td>0</td>\n",
       "      <td>12167.12785</td>\n",
       "      <td>32045.26810</td>\n",
       "      <td>No-Change</td>\n",
       "      <td>Increase</td>\n",
       "      <td>100.0</td>\n",
       "      <td>&lt;NA&gt;</td>\n",
       "      <td>&lt;NA&gt;</td>\n",
       "      <td>...</td>\n",
       "      <td>&lt;NA&gt;</td>\n",
       "      <td>100.000000</td>\n",
       "      <td>&lt;NA&gt;</td>\n",
       "      <td>&lt;NA&gt;</td>\n",
       "      <td>&lt;NA&gt;</td>\n",
       "      <td>921</td>\n",
       "      <td>&lt;NA&gt;</td>\n",
       "      <td>&lt;NA&gt;</td>\n",
       "      <td>&lt;NA&gt;</td>\n",
       "      <td>22.73</td>\n",
       "    </tr>\n",
       "    <tr>\n",
       "      <th>4</th>\n",
       "      <td>company_1</td>\n",
       "      <td>22Q2-P4</td>\n",
       "      <td>0</td>\n",
       "      <td>0.00000</td>\n",
       "      <td>32045.26810</td>\n",
       "      <td>Decrease</td>\n",
       "      <td>No-Change</td>\n",
       "      <td>60.0</td>\n",
       "      <td>&lt;NA&gt;</td>\n",
       "      <td>&lt;NA&gt;</td>\n",
       "      <td>...</td>\n",
       "      <td>&lt;NA&gt;</td>\n",
       "      <td>86.666667</td>\n",
       "      <td>&lt;NA&gt;</td>\n",
       "      <td>&lt;NA&gt;</td>\n",
       "      <td>&lt;NA&gt;</td>\n",
       "      <td>942</td>\n",
       "      <td>&lt;NA&gt;</td>\n",
       "      <td>&lt;NA&gt;</td>\n",
       "      <td>&lt;NA&gt;</td>\n",
       "      <td>22.73</td>\n",
       "    </tr>\n",
       "    <tr>\n",
       "      <th>...</th>\n",
       "      <td>...</td>\n",
       "      <td>...</td>\n",
       "      <td>...</td>\n",
       "      <td>...</td>\n",
       "      <td>...</td>\n",
       "      <td>...</td>\n",
       "      <td>...</td>\n",
       "      <td>...</td>\n",
       "      <td>...</td>\n",
       "      <td>...</td>\n",
       "      <td>...</td>\n",
       "      <td>...</td>\n",
       "      <td>...</td>\n",
       "      <td>...</td>\n",
       "      <td>...</td>\n",
       "      <td>...</td>\n",
       "      <td>...</td>\n",
       "      <td>...</td>\n",
       "      <td>...</td>\n",
       "      <td>...</td>\n",
       "      <td>...</td>\n",
       "    </tr>\n",
       "    <tr>\n",
       "      <th>395</th>\n",
       "      <td>company_20</td>\n",
       "      <td>22Q3-P8</td>\n",
       "      <td>0</td>\n",
       "      <td>24690.90000</td>\n",
       "      <td>24690.90000</td>\n",
       "      <td>No-Change</td>\n",
       "      <td>No-Change</td>\n",
       "      <td>60.0</td>\n",
       "      <td>100.0</td>\n",
       "      <td>&lt;NA&gt;</td>\n",
       "      <td>...</td>\n",
       "      <td>60.0</td>\n",
       "      <td>84.814815</td>\n",
       "      <td>9</td>\n",
       "      <td>40</td>\n",
       "      <td>5583</td>\n",
       "      <td>2068</td>\n",
       "      <td>5142</td>\n",
       "      <td>1365</td>\n",
       "      <td>5</td>\n",
       "      <td>61.37</td>\n",
       "    </tr>\n",
       "    <tr>\n",
       "      <th>396</th>\n",
       "      <td>company_20</td>\n",
       "      <td>22Q3-P9</td>\n",
       "      <td>0</td>\n",
       "      <td>24690.90000</td>\n",
       "      <td>24690.90000</td>\n",
       "      <td>No-Change</td>\n",
       "      <td>No-Change</td>\n",
       "      <td>60.0</td>\n",
       "      <td>100.0</td>\n",
       "      <td>&lt;NA&gt;</td>\n",
       "      <td>...</td>\n",
       "      <td>60.0</td>\n",
       "      <td>79.672840</td>\n",
       "      <td>9</td>\n",
       "      <td>39</td>\n",
       "      <td>5587</td>\n",
       "      <td>2111</td>\n",
       "      <td>5153</td>\n",
       "      <td>1369</td>\n",
       "      <td>6</td>\n",
       "      <td>61.37</td>\n",
       "    </tr>\n",
       "    <tr>\n",
       "      <th>397</th>\n",
       "      <td>company_20</td>\n",
       "      <td>22Q4-P10</td>\n",
       "      <td>0</td>\n",
       "      <td>24690.90000</td>\n",
       "      <td>24690.90000</td>\n",
       "      <td>No-Change</td>\n",
       "      <td>No-Change</td>\n",
       "      <td>60.0</td>\n",
       "      <td>100.0</td>\n",
       "      <td>&lt;NA&gt;</td>\n",
       "      <td>...</td>\n",
       "      <td>60.0</td>\n",
       "      <td>79.487179</td>\n",
       "      <td>9</td>\n",
       "      <td>32</td>\n",
       "      <td>5474</td>\n",
       "      <td>2099</td>\n",
       "      <td>5072</td>\n",
       "      <td>1331</td>\n",
       "      <td>7</td>\n",
       "      <td>61.37</td>\n",
       "    </tr>\n",
       "    <tr>\n",
       "      <th>398</th>\n",
       "      <td>company_20</td>\n",
       "      <td>22Q4-P11</td>\n",
       "      <td>0</td>\n",
       "      <td>24690.90000</td>\n",
       "      <td>24690.90000</td>\n",
       "      <td>No-Change</td>\n",
       "      <td>No-Change</td>\n",
       "      <td>60.0</td>\n",
       "      <td>60.0</td>\n",
       "      <td>&lt;NA&gt;</td>\n",
       "      <td>...</td>\n",
       "      <td>60.0</td>\n",
       "      <td>76.410256</td>\n",
       "      <td>9</td>\n",
       "      <td>32</td>\n",
       "      <td>5538</td>\n",
       "      <td>2172</td>\n",
       "      <td>5127</td>\n",
       "      <td>1311</td>\n",
       "      <td>7</td>\n",
       "      <td>61.37</td>\n",
       "    </tr>\n",
       "    <tr>\n",
       "      <th>399</th>\n",
       "      <td>company_20</td>\n",
       "      <td>22Q4-P12</td>\n",
       "      <td>0</td>\n",
       "      <td>24690.90000</td>\n",
       "      <td>24690.90000</td>\n",
       "      <td>No-Change</td>\n",
       "      <td>No-Change</td>\n",
       "      <td>60.0</td>\n",
       "      <td>60.0</td>\n",
       "      <td>&lt;NA&gt;</td>\n",
       "      <td>...</td>\n",
       "      <td>1.0</td>\n",
       "      <td>61.861111</td>\n",
       "      <td>9</td>\n",
       "      <td>31</td>\n",
       "      <td>5604</td>\n",
       "      <td>2280</td>\n",
       "      <td>5182</td>\n",
       "      <td>1310</td>\n",
       "      <td>7</td>\n",
       "      <td>61.37</td>\n",
       "    </tr>\n",
       "  </tbody>\n",
       "</table>\n",
       "<p>400 rows × 23 columns</p>\n",
       "</div>"
      ],
      "text/plain": [
       "    planning_group fis_period  time      euc_mrr  euc_mrr_lead_6months  \\\n",
       "0        company_1   21Q4-P12     0  12167.12785            3615.16435   \n",
       "1        company_1    22Q1-P1     0  12167.12785            3615.16435   \n",
       "2        company_1    22Q1-P2     0  12167.12785            4583.56638   \n",
       "3        company_1    22Q1-P3     0  12167.12785           32045.26810   \n",
       "4        company_1    22Q2-P4     0      0.00000           32045.26810   \n",
       "..             ...        ...   ...          ...                   ...   \n",
       "395     company_20    22Q3-P8     0  24690.90000           24690.90000   \n",
       "396     company_20    22Q3-P9     0  24690.90000           24690.90000   \n",
       "397     company_20   22Q4-P10     0  24690.90000           24690.90000   \n",
       "398     company_20   22Q4-P11     0  24690.90000           24690.90000   \n",
       "399     company_20   22Q4-P12     0  24690.90000           24690.90000   \n",
       "\n",
       "    mrr_change mrr_change_lead_6months sr_count_score ttr_sev12_score  \\\n",
       "0    No-Change                Decrease            1.0             1.0   \n",
       "1    No-Change               No-Change           60.0             1.0   \n",
       "2    No-Change               No-Change          100.0            <NA>   \n",
       "3    No-Change                Increase          100.0            <NA>   \n",
       "4     Decrease               No-Change           60.0            <NA>   \n",
       "..         ...                     ...            ...             ...   \n",
       "395  No-Change               No-Change           60.0           100.0   \n",
       "396  No-Change               No-Change           60.0           100.0   \n",
       "397  No-Change               No-Change           60.0           100.0   \n",
       "398  No-Change               No-Change           60.0            60.0   \n",
       "399  No-Change               No-Change           60.0            60.0   \n",
       "\n",
       "    csat_score  ... pr_to_sr_ratio_score average_tech_health_score max_boxer  \\\n",
       "0         <NA>  ...                100.0                 50.500000      <NA>   \n",
       "1         <NA>  ...                100.0                 65.250000      <NA>   \n",
       "2         <NA>  ...                100.0                 92.240741      <NA>   \n",
       "3         <NA>  ...                 <NA>                100.000000      <NA>   \n",
       "4         <NA>  ...                 <NA>                 86.666667      <NA>   \n",
       "..         ...  ...                  ...                       ...       ...   \n",
       "395       <NA>  ...                 60.0                 84.814815         9   \n",
       "396       <NA>  ...                 60.0                 79.672840         9   \n",
       "397       <NA>  ...                 60.0                 79.487179         9   \n",
       "398       <NA>  ...                 60.0                 76.410256         9   \n",
       "399       <NA>  ...                  1.0                 61.861111         9   \n",
       "\n",
       "    max_osx  max_tot_enrolled  max_horizon  max_hub  max_content  max_win10  \\\n",
       "0      <NA>              <NA>          889     <NA>         <NA>       <NA>   \n",
       "1      <NA>              <NA>          889     <NA>         <NA>       <NA>   \n",
       "2      <NA>              <NA>          885     <NA>         <NA>       <NA>   \n",
       "3      <NA>              <NA>          921     <NA>         <NA>       <NA>   \n",
       "4      <NA>              <NA>          942     <NA>         <NA>       <NA>   \n",
       "..      ...               ...          ...      ...          ...        ...   \n",
       "395      40              5583         2068     5142         1365          5   \n",
       "396      39              5587         2111     5153         1369          6   \n",
       "397      32              5474         2099     5072         1331          7   \n",
       "398      32              5538         2172     5127         1311          7   \n",
       "399      31              5604         2280     5182         1310          7   \n",
       "\n",
       "     max_stickiness  \n",
       "0             22.73  \n",
       "1             22.73  \n",
       "2             22.73  \n",
       "3             22.73  \n",
       "4             22.73  \n",
       "..              ...  \n",
       "395           61.37  \n",
       "396           61.37  \n",
       "397           61.37  \n",
       "398           61.37  \n",
       "399           61.37  \n",
       "\n",
       "[400 rows x 23 columns]"
      ]
     },
     "execution_count": 653,
     "metadata": {},
     "output_type": "execute_result"
    }
   ],
   "source": [
    "df_no_acc_pick"
   ]
  },
  {
   "cell_type": "code",
   "execution_count": 654,
   "metadata": {},
   "outputs": [
    {
     "data": {
      "text/plain": [
       "planning_group                 0\n",
       "fis_period                     0\n",
       "time                           0\n",
       "euc_mrr                        0\n",
       "euc_mrr_lead_6months           0\n",
       "mrr_change                     0\n",
       "mrr_change_lead_6months        0\n",
       "sr_count_score                 0\n",
       "ttr_sev12_score               93\n",
       "csat_score                   370\n",
       "psat_score                   370\n",
       "sev1_ratio_score              12\n",
       "esc_score                     26\n",
       "pr_to_sr_ratio_score          85\n",
       "average_tech_health_score      0\n",
       "max_boxer                     16\n",
       "max_osx                       16\n",
       "max_tot_enrolled              16\n",
       "max_horizon                  233\n",
       "max_hub                       16\n",
       "max_content                   16\n",
       "max_win10                     16\n",
       "max_stickiness                 6\n",
       "dtype: int64"
      ]
     },
     "execution_count": 654,
     "metadata": {},
     "output_type": "execute_result"
    }
   ],
   "source": [
    "# I will remove columns that have more than 50 % of null values\n",
    "# 50 % of the rows is 200 rows \n",
    "df_no_acc_pick.isnull().sum()"
   ]
  },
  {
   "cell_type": "code",
   "execution_count": 655,
   "metadata": {},
   "outputs": [],
   "source": [
    "# remove columns from dataframe\n",
    "df_no_acc_pick.drop(columns=['csat_score','psat_score'], inplace=True)\n"
   ]
  },
  {
   "cell_type": "markdown",
   "metadata": {},
   "source": [
    "Before replacing sev1_ratio_score"
   ]
  },
  {
   "cell_type": "code",
   "execution_count": 656,
   "metadata": {},
   "outputs": [
    {
     "data": {
      "text/plain": [
       "100.0    297\n",
       "1.0       62\n",
       "60.0      29\n",
       "<NA>      12\n",
       "Name: sev1_ratio_score, dtype: int64"
      ]
     },
     "execution_count": 656,
     "metadata": {},
     "output_type": "execute_result"
    }
   ],
   "source": [
    "\n",
    "df_no_acc_pick[\"sev1_ratio_score\"].value_counts(dropna = False)"
   ]
  },
  {
   "cell_type": "code",
   "execution_count": 657,
   "metadata": {},
   "outputs": [],
   "source": [
    "# replace null values in sev1_ratio_score because \n",
    "#           - get the sr score for the respective row for the null value\n",
    "for index, row in df_no_acc_pick.iterrows():\n",
    "    if str(row[\"sev1_ratio_score\"]) == \"<NA>\":\n",
    "        # row[\"sev1_ratio_score\"] = int(row[\"sr_count_score\"])\n",
    "        df_no_acc_pick.at[index,'sev1_ratio_score'] = int(float(row[\"sr_count_score\"]))"
   ]
  },
  {
   "cell_type": "markdown",
   "metadata": {},
   "source": [
    "After replacing sev1_ratio_score"
   ]
  },
  {
   "cell_type": "code",
   "execution_count": 658,
   "metadata": {},
   "outputs": [
    {
     "data": {
      "text/plain": [
       "100.0    297\n",
       "1.0       62\n",
       "60.0      29\n",
       "100        8\n",
       "60         4\n",
       "Name: sev1_ratio_score, dtype: int64"
      ]
     },
     "execution_count": 658,
     "metadata": {},
     "output_type": "execute_result"
    }
   ],
   "source": [
    "# after replacing\n",
    "df_no_acc_pick[\"sev1_ratio_score\"].value_counts(dropna = False)"
   ]
  },
  {
   "cell_type": "markdown",
   "metadata": {},
   "source": [
    "Before replacing pr_to_sr_ratio_score"
   ]
  },
  {
   "cell_type": "code",
   "execution_count": 659,
   "metadata": {},
   "outputs": [
    {
     "data": {
      "text/plain": [
       "1.0      177\n",
       "100.0    107\n",
       "<NA>      85\n",
       "60.0      31\n",
       "Name: pr_to_sr_ratio_score, dtype: int64"
      ]
     },
     "execution_count": 659,
     "metadata": {},
     "output_type": "execute_result"
    }
   ],
   "source": [
    "df_no_acc_pick[\"pr_to_sr_ratio_score\"].value_counts(dropna = False)"
   ]
  },
  {
   "cell_type": "code",
   "execution_count": 660,
   "metadata": {},
   "outputs": [],
   "source": [
    "# replace pr_To_Sr null values because we divide by 0 \n",
    "    #        - get the sr score for the respective row for the null value\n",
    "for index, row in df_no_acc_pick.iterrows():\n",
    "    if str(row[\"pr_to_sr_ratio_score\"]) == \"<NA>\":\n",
    "        row[\"pr_to_sr_ratio_score\"] = row[\"sr_count_score\"]\n",
    "        df_no_acc_pick.at[index,'pr_to_sr_ratio_score'] = int(float(row[\"sr_count_score\"]))"
   ]
  },
  {
   "cell_type": "markdown",
   "metadata": {},
   "source": [
    "After replacing pr_to_sr_ratio_score"
   ]
  },
  {
   "cell_type": "code",
   "execution_count": 661,
   "metadata": {},
   "outputs": [
    {
     "data": {
      "text/plain": [
       "1.0      177\n",
       "100.0    107\n",
       "100       46\n",
       "60        31\n",
       "60.0      31\n",
       "1          8\n",
       "Name: pr_to_sr_ratio_score, dtype: int64"
      ]
     },
     "execution_count": 661,
     "metadata": {},
     "output_type": "execute_result"
    }
   ],
   "source": [
    "df_no_acc_pick[\"pr_to_sr_ratio_score\"].value_counts(dropna = False)"
   ]
  },
  {
   "cell_type": "code",
   "execution_count": 662,
   "metadata": {},
   "outputs": [],
   "source": [
    "# df_no_acc_pick.isnull().sum()"
   ]
  },
  {
   "cell_type": "markdown",
   "metadata": {},
   "source": [
    "Before replacing ttr_sev12_score"
   ]
  },
  {
   "cell_type": "code",
   "execution_count": 663,
   "metadata": {},
   "outputs": [
    {
     "data": {
      "text/plain": [
       "1.0      171\n",
       "100.0    107\n",
       "<NA>      93\n",
       "60.0      29\n",
       "Name: ttr_sev12_score, dtype: int64"
      ]
     },
     "execution_count": 663,
     "metadata": {},
     "output_type": "execute_result"
    }
   ],
   "source": [
    "# before replacing\n",
    "df_no_acc_pick[\"ttr_sev12_score\"].value_counts(dropna = False)"
   ]
  },
  {
   "cell_type": "code",
   "execution_count": 664,
   "metadata": {},
   "outputs": [],
   "source": [
    "for index, row in df_no_acc_pick.iterrows():\n",
    "    if str(row[\"ttr_sev12_score\"]) == \"<NA>\":\n",
    "        if int(float(row[\"sr_count_score\"])) == 0:\n",
    "            df_no_acc_pick.at[index,'ttr_sev12_score'] = int(float(row[\"sr_count_score\"]))\n",
    "        else:\n",
    "            df_no_acc_pick.at[index,'ttr_sev12_score'] = 100"
   ]
  },
  {
   "cell_type": "markdown",
   "metadata": {},
   "source": [
    "After replacing ttr_sev12_score"
   ]
  },
  {
   "cell_type": "code",
   "execution_count": 665,
   "metadata": {},
   "outputs": [
    {
     "data": {
      "text/plain": [
       "1.0      171\n",
       "100.0    107\n",
       "100       93\n",
       "60.0      29\n",
       "Name: ttr_sev12_score, dtype: int64"
      ]
     },
     "execution_count": 665,
     "metadata": {},
     "output_type": "execute_result"
    }
   ],
   "source": [
    "# after replacing\n",
    "df_no_acc_pick[\"ttr_sev12_score\"].value_counts(dropna = False)"
   ]
  },
  {
   "cell_type": "markdown",
   "metadata": {},
   "source": [
    "Before replacing esc_score"
   ]
  },
  {
   "cell_type": "code",
   "execution_count": 666,
   "metadata": {},
   "outputs": [
    {
     "data": {
      "text/plain": [
       "100.0    344\n",
       "1.0       30\n",
       "<NA>      26\n",
       "Name: esc_score, dtype: int64"
      ]
     },
     "execution_count": 666,
     "metadata": {},
     "output_type": "execute_result"
    }
   ],
   "source": [
    "# before replacing\n",
    "df_no_acc_pick[\"esc_score\"].value_counts(dropna = False)"
   ]
  },
  {
   "cell_type": "code",
   "execution_count": 667,
   "metadata": {},
   "outputs": [],
   "source": [
    "# esc_score\n",
    "#    -  replace null values with 1 \n",
    "df_no_acc_pick.esc_score.fillna(1,inplace=True)"
   ]
  },
  {
   "cell_type": "markdown",
   "metadata": {},
   "source": [
    "After replacing esc_score"
   ]
  },
  {
   "cell_type": "code",
   "execution_count": 668,
   "metadata": {},
   "outputs": [
    {
     "data": {
      "text/plain": [
       "100.0    344\n",
       "1.0       30\n",
       "1         26\n",
       "Name: esc_score, dtype: int64"
      ]
     },
     "execution_count": 668,
     "metadata": {},
     "output_type": "execute_result"
    }
   ],
   "source": [
    "# after replacing\n",
    "df_no_acc_pick[\"esc_score\"].value_counts(dropna = False)"
   ]
  },
  {
   "cell_type": "code",
   "execution_count": 669,
   "metadata": {},
   "outputs": [
    {
     "data": {
      "text/plain": [
       "45.46    76\n",
       "63.64    36\n",
       "50.00    34\n",
       "22.73    29\n",
       "50.01    21\n",
       "54.55    19\n",
       "86.38    18\n",
       "31.82    17\n",
       "43.19    17\n",
       "77.28    16\n",
       "38.64    16\n",
       "40.92    16\n",
       "27.27    14\n",
       "29.55    13\n",
       "40.91     8\n",
       "61.37     8\n",
       "<NA>      6\n",
       "9.09      5\n",
       "20.46     5\n",
       "70.46     4\n",
       "36.37     4\n",
       "52.28     3\n",
       "52.27     3\n",
       "11.36     2\n",
       "56.82     2\n",
       "63.65     2\n",
       "0.00      2\n",
       "18.18     1\n",
       "47.73     1\n",
       "72.74     1\n",
       "34.09     1\n",
       "Name: max_stickiness, dtype: int64"
      ]
     },
     "execution_count": 669,
     "metadata": {},
     "output_type": "execute_result"
    }
   ],
   "source": [
    "# final_dataframe.isnull().sum()\n",
    "# max_stickiness\n",
    "df_no_acc_pick[\"max_stickiness\"].value_counts(dropna = False)"
   ]
  },
  {
   "cell_type": "code",
   "execution_count": 670,
   "metadata": {},
   "outputs": [],
   "source": [
    "# df_no_acc_pick.isnull().sum()"
   ]
  },
  {
   "cell_type": "markdown",
   "metadata": {},
   "source": [
    "Modifying the maxstickiness score and replacing the null values.\\\n",
    "If the customers has NA for more than 50% of the time -> drop these rows "
   ]
  },
  {
   "cell_type": "code",
   "execution_count": 671,
   "metadata": {},
   "outputs": [
    {
     "data": {
      "text/plain": [
       "45.46    76\n",
       "63.64    36\n",
       "50.00    34\n",
       "22.73    29\n",
       "50.01    21\n",
       "54.55    19\n",
       "86.38    18\n",
       "31.82    17\n",
       "43.19    17\n",
       "77.28    16\n",
       "38.64    16\n",
       "40.92    16\n",
       "27.27    14\n",
       "29.55    13\n",
       "40.91     8\n",
       "61.37     8\n",
       "<NA>      6\n",
       "9.09      5\n",
       "20.46     5\n",
       "70.46     4\n",
       "36.37     4\n",
       "52.28     3\n",
       "52.27     3\n",
       "11.36     2\n",
       "56.82     2\n",
       "63.65     2\n",
       "0.00      2\n",
       "18.18     1\n",
       "47.73     1\n",
       "72.74     1\n",
       "34.09     1\n",
       "Name: max_stickiness, dtype: int64"
      ]
     },
     "execution_count": 671,
     "metadata": {},
     "output_type": "execute_result"
    }
   ],
   "source": [
    "# data = df_no_acc_pick[['planning_group','max_stickiness']]\n",
    "df_no_acc_pick['max_stickiness'].value_counts(dropna = False)\n"
   ]
  },
  {
   "cell_type": "code",
   "execution_count": 672,
   "metadata": {},
   "outputs": [],
   "source": [
    "# df_no_acc_pick"
   ]
  },
  {
   "cell_type": "code",
   "execution_count": 673,
   "metadata": {},
   "outputs": [],
   "source": [
    "data = df_no_acc_pick[[\"planning_group\",\"max_stickiness\"]]\n",
    "# data"
   ]
  },
  {
   "cell_type": "markdown",
   "metadata": {},
   "source": [
    "Here I create an additional df where I calculated which companies has more than 50 percent of their rows to be NA. I refer them as null_pg. Then, I exclude them from the dataframe."
   ]
  },
  {
   "cell_type": "code",
   "execution_count": 674,
   "metadata": {},
   "outputs": [],
   "source": [
    "stats = data.groupby([\"planning_group\"],dropna=False).value_counts(['max_stickiness'], normalize=True, dropna = False).reset_index()\n",
    "# stats\n",
    "# stats\n",
    "null_pg = stats[(stats['max_stickiness'].isnull()) & (stats[0] >= 0.5)].planning_group\n",
    "# null_pg\n",
    "modified_df =  df_no_acc_pick[~df_no_acc_pick['planning_group'].isin(null_pg)]\n"
   ]
  },
  {
   "cell_type": "code",
   "execution_count": 675,
   "metadata": {},
   "outputs": [],
   "source": [
    "# df_no_acc_pick[df_no_acc_pick['planning_group']=='CHILDRENS MEDICAL CENTER OF DALLAS']"
   ]
  },
  {
   "cell_type": "code",
   "execution_count": 676,
   "metadata": {},
   "outputs": [],
   "source": [
    "# modified_df"
   ]
  },
  {
   "cell_type": "markdown",
   "metadata": {},
   "source": [
    "fill the NA values of max_horizon with 0"
   ]
  },
  {
   "cell_type": "code",
   "execution_count": 677,
   "metadata": {},
   "outputs": [],
   "source": [
    "modified_df.max_horizon.fillna(0,inplace=True)"
   ]
  },
  {
   "cell_type": "code",
   "execution_count": 678,
   "metadata": {},
   "outputs": [
    {
     "data": {
      "text/plain": [
       "planning_group                0\n",
       "fis_period                    0\n",
       "time                          0\n",
       "euc_mrr                       0\n",
       "euc_mrr_lead_6months          0\n",
       "mrr_change                    0\n",
       "mrr_change_lead_6months       0\n",
       "sr_count_score                0\n",
       "ttr_sev12_score               0\n",
       "sev1_ratio_score              0\n",
       "esc_score                     0\n",
       "pr_to_sr_ratio_score          0\n",
       "average_tech_health_score     0\n",
       "max_boxer                    16\n",
       "max_osx                      16\n",
       "max_tot_enrolled             16\n",
       "max_horizon                   0\n",
       "max_hub                      16\n",
       "max_content                  16\n",
       "max_win10                    16\n",
       "max_stickiness                6\n",
       "dtype: int64"
      ]
     },
     "execution_count": 678,
     "metadata": {},
     "output_type": "execute_result"
    }
   ],
   "source": [
    "modified_df.isnull().sum()"
   ]
  },
  {
   "cell_type": "markdown",
   "metadata": {},
   "source": [
    "from max_boxer to max_win10 \\\n",
    "fill the null values with 0 (zero)"
   ]
  },
  {
   "cell_type": "code",
   "execution_count": 679,
   "metadata": {},
   "outputs": [],
   "source": [
    "modified_df.max_boxer.fillna(0,inplace=True)\n",
    "modified_df.max_osx.fillna(0,inplace=True)\n",
    "modified_df.max_tot_enrolled.fillna(0,inplace=True)\n",
    "modified_df.max_hub.fillna(0,inplace=True)\n",
    "modified_df.max_content.fillna(0,inplace=True)\n",
    "modified_df.max_win10.fillna(0,inplace=True)"
   ]
  },
  {
   "cell_type": "code",
   "execution_count": 680,
   "metadata": {},
   "outputs": [
    {
     "data": {
      "text/plain": [
       "planning_group               0\n",
       "fis_period                   0\n",
       "time                         0\n",
       "euc_mrr                      0\n",
       "euc_mrr_lead_6months         0\n",
       "mrr_change                   0\n",
       "mrr_change_lead_6months      0\n",
       "sr_count_score               0\n",
       "ttr_sev12_score              0\n",
       "sev1_ratio_score             0\n",
       "esc_score                    0\n",
       "pr_to_sr_ratio_score         0\n",
       "average_tech_health_score    0\n",
       "max_boxer                    0\n",
       "max_osx                      0\n",
       "max_tot_enrolled             0\n",
       "max_horizon                  0\n",
       "max_hub                      0\n",
       "max_content                  0\n",
       "max_win10                    0\n",
       "max_stickiness               6\n",
       "dtype: int64"
      ]
     },
     "execution_count": 680,
     "metadata": {},
     "output_type": "execute_result"
    }
   ],
   "source": [
    "modified_df.isnull().sum()"
   ]
  },
  {
   "cell_type": "markdown",
   "metadata": {},
   "source": [
    "change the types of each column"
   ]
  },
  {
   "cell_type": "code",
   "execution_count": 681,
   "metadata": {},
   "outputs": [],
   "source": [
    "modified_df.dtypes\n",
    "modified_df['sr_count_score'] = modified_df['sr_count_score'].astype(float)\n",
    "modified_df['sr_count_score'] = modified_df['sr_count_score'].astype(int)\n",
    "modified_df['ttr_sev12_score'] = modified_df['ttr_sev12_score'].astype(float)\n",
    "modified_df['ttr_sev12_score'] = modified_df['ttr_sev12_score'].astype(int)\n",
    "modified_df['sev1_ratio_score'] = modified_df['sev1_ratio_score'].astype(float)\n",
    "modified_df['sev1_ratio_score'] = modified_df['sev1_ratio_score'].astype(int)\n",
    "modified_df['esc_score'] = modified_df['esc_score'].astype(float)\n",
    "modified_df['esc_score'] = modified_df['esc_score'].astype(int)\n",
    "modified_df['pr_to_sr_ratio_score'] = modified_df['pr_to_sr_ratio_score'].astype(float)\n",
    "modified_df['pr_to_sr_ratio_score'] = modified_df['pr_to_sr_ratio_score'].astype(int)\n",
    "# modified_df['max_stickiness'] = modified_df['max_stickiness'].astype(float)\n"
   ]
  },
  {
   "cell_type": "code",
   "execution_count": 682,
   "metadata": {},
   "outputs": [
    {
     "data": {
      "text/plain": [
       "planning_group                string\n",
       "fis_period                    string\n",
       "time                           int64\n",
       "euc_mrr                      float64\n",
       "euc_mrr_lead_6months         float64\n",
       "mrr_change                    object\n",
       "mrr_change_lead_6months       object\n",
       "sr_count_score                 int32\n",
       "ttr_sev12_score                int32\n",
       "sev1_ratio_score               int32\n",
       "esc_score                      int32\n",
       "pr_to_sr_ratio_score           int32\n",
       "average_tech_health_score    float64\n",
       "max_boxer                      Int64\n",
       "max_osx                        Int64\n",
       "max_tot_enrolled               Int64\n",
       "max_horizon                    Int64\n",
       "max_hub                        Int64\n",
       "max_content                    Int64\n",
       "max_win10                      Int64\n",
       "max_stickiness                object\n",
       "dtype: object"
      ]
     },
     "execution_count": 682,
     "metadata": {},
     "output_type": "execute_result"
    }
   ],
   "source": [
    "modified_df.dtypes\n"
   ]
  },
  {
   "cell_type": "code",
   "execution_count": 683,
   "metadata": {},
   "outputs": [],
   "source": [
    "# modified_df"
   ]
  },
  {
   "cell_type": "markdown",
   "metadata": {},
   "source": [
    "<!-- NA replacing:\n",
    "max horizon with 0 \n",
    "scores with 1  -->"
   ]
  },
  {
   "cell_type": "markdown",
   "metadata": {},
   "source": [
    "## Perform the time column in the data to be applicavle for time series\n",
    "For darts, I specifically need a \"time\" column. In my data the only time that I have is the fiscal period,\n",
    "so I had to change the fiscal period(string) to month (datetime format) manually. "
   ]
  },
  {
   "cell_type": "code",
   "execution_count": 684,
   "metadata": {},
   "outputs": [],
   "source": [
    "for index, row in modified_df.iterrows():\n",
    "    if row[\"fis_period\"][-2:] == \"12\":\n",
    "        modified_df.at[index,'time'] = f\"01/01/{int(row['fis_period'][:2])}\"\n",
    "    elif row[\"fis_period\"][-2:] == \"P1\":\n",
    "            modified_df.at[index,'time'] = f\"0{int(row['fis_period'][-1:])+1}/01/{int(row['fis_period'][:2])-1}\"\n",
    "    elif row[\"fis_period\"][-2:] == \"P2\":\n",
    "            modified_df.at[index,'time'] = f\"0{int(row['fis_period'][-1:])+1}/01/{int(row['fis_period'][:2])-1}\"\n",
    "    elif row[\"fis_period\"][-2:] == \"P3\":\n",
    "            modified_df.at[index,'time'] = f\"0{int(row['fis_period'][-1:])+1}/01/{int(row['fis_period'][:2])-1}\"\n",
    "    elif row[\"fis_period\"][-2:] == \"P4\":\n",
    "            modified_df.at[index,'time'] = f\"0{int(row['fis_period'][-1:])+1}/01/{int(row['fis_period'][:2])-1}\"\n",
    "    elif row[\"fis_period\"][-2:] == \"P5\":\n",
    "            modified_df.at[index,'time'] = f\"0{int(row['fis_period'][-1:])+1}/01/{int(row['fis_period'][:2])-1}\"\n",
    "    elif row[\"fis_period\"][-2:] == \"P6\":\n",
    "            modified_df.at[index,'time'] = f\"0{int(row['fis_period'][-1:])+1}/01/{int(row['fis_period'][:2])-1}\"\n",
    "    elif row[\"fis_period\"][-2:] == \"P7\":\n",
    "            modified_df.at[index,'time'] = f\"0{int(row['fis_period'][-1:])+1}/01/{int(row['fis_period'][:2])-1}\"\n",
    "    elif row[\"fis_period\"][-2:] == \"P8\":\n",
    "            modified_df.at[index,'time'] = f\"0{int(row['fis_period'][-1:])+1}/01/{int(row['fis_period'][:2])-1}\"\n",
    "    elif row[\"fis_period\"][-2:] == \"P9\":\n",
    "            modified_df.at[index,'time'] = f\"{int(row['fis_period'][-1:])+1}/01/{int(row['fis_period'][:2])-1}\"\n",
    "    elif row[\"fis_period\"][-2:] == \"10\":\n",
    "            modified_df.at[index,'time'] = f\"{int(row['fis_period'][-1:])+11}/01/{int(row['fis_period'][:2])-1}\"\n",
    "    elif row[\"fis_period\"][-2:] == \"11\":\n",
    "            modified_df.at[index,'time'] = f\"{int(row['fis_period'][-1:])+11}/01/{int(row['fis_period'][:2])-1}\"\n",
    "    "
   ]
  },
  {
   "cell_type": "code",
   "execution_count": 685,
   "metadata": {},
   "outputs": [],
   "source": [
    "# converting this column to timestamp\n",
    "modified_df['time'] = pd.to_datetime(modified_df['time'],format='%m/%d/%y')\n"
   ]
  },
  {
   "cell_type": "markdown",
   "metadata": {},
   "source": [
    "here I copy the data to be equal to final_dataframe"
   ]
  },
  {
   "cell_type": "code",
   "execution_count": 686,
   "metadata": {},
   "outputs": [],
   "source": [
    "final_dataframe = modified_df.copy()"
   ]
  },
  {
   "cell_type": "code",
   "execution_count": 687,
   "metadata": {},
   "outputs": [
    {
     "data": {
      "text/plain": [
       "planning_group               0\n",
       "fis_period                   0\n",
       "time                         0\n",
       "euc_mrr                      0\n",
       "euc_mrr_lead_6months         0\n",
       "mrr_change                   0\n",
       "mrr_change_lead_6months      0\n",
       "sr_count_score               0\n",
       "ttr_sev12_score              0\n",
       "sev1_ratio_score             0\n",
       "esc_score                    0\n",
       "pr_to_sr_ratio_score         0\n",
       "average_tech_health_score    0\n",
       "max_boxer                    0\n",
       "max_osx                      0\n",
       "max_tot_enrolled             0\n",
       "max_horizon                  0\n",
       "max_hub                      0\n",
       "max_content                  0\n",
       "max_win10                    0\n",
       "max_stickiness               6\n",
       "dtype: int64"
      ]
     },
     "execution_count": 687,
     "metadata": {},
     "output_type": "execute_result"
    }
   ],
   "source": [
    "final_dataframe.isnull().sum()"
   ]
  },
  {
   "cell_type": "code",
   "execution_count": 688,
   "metadata": {},
   "outputs": [],
   "source": [
    "# final_dataframe.dtypes"
   ]
  },
  {
   "cell_type": "code",
   "execution_count": 689,
   "metadata": {},
   "outputs": [],
   "source": [
    "final_dataframe.drop(['mrr_change', 'mrr_change_lead_6months'], axis = 1, inplace = True) \n"
   ]
  },
  {
   "cell_type": "markdown",
   "metadata": {},
   "source": [
    "end of preprocessing\\\n",
    "here is the final dataframe\\\n",
    "this pickle file is the preprocessed data"
   ]
  },
  {
   "cell_type": "code",
   "execution_count": 690,
   "metadata": {},
   "outputs": [],
   "source": [
    "preprocessed_data = final_dataframe.to_pickle(\"./preprocessed_data.pkl\")"
   ]
  },
  {
   "cell_type": "markdown",
   "metadata": {},
   "source": [
    "# Here I will use darts only on one company with many features\n",
    "I have univariate and multidimensional time series"
   ]
  },
  {
   "cell_type": "markdown",
   "metadata": {},
   "source": [
    " Company 5 series"
   ]
  },
  {
   "cell_type": "code",
   "execution_count": 691,
   "metadata": {},
   "outputs": [
    {
     "data": {
      "text/html": [
       "<div>\n",
       "<style scoped>\n",
       "    .dataframe tbody tr th:only-of-type {\n",
       "        vertical-align: middle;\n",
       "    }\n",
       "\n",
       "    .dataframe tbody tr th {\n",
       "        vertical-align: top;\n",
       "    }\n",
       "\n",
       "    .dataframe thead th {\n",
       "        text-align: right;\n",
       "    }\n",
       "</style>\n",
       "<table border=\"1\" class=\"dataframe\">\n",
       "  <thead>\n",
       "    <tr style=\"text-align: right;\">\n",
       "      <th></th>\n",
       "      <th>planning_group</th>\n",
       "      <th>fis_period</th>\n",
       "      <th>time</th>\n",
       "      <th>euc_mrr</th>\n",
       "      <th>euc_mrr_lead_6months</th>\n",
       "      <th>sr_count_score</th>\n",
       "      <th>ttr_sev12_score</th>\n",
       "      <th>sev1_ratio_score</th>\n",
       "      <th>esc_score</th>\n",
       "      <th>pr_to_sr_ratio_score</th>\n",
       "      <th>average_tech_health_score</th>\n",
       "      <th>max_boxer</th>\n",
       "      <th>max_osx</th>\n",
       "      <th>max_tot_enrolled</th>\n",
       "      <th>max_horizon</th>\n",
       "      <th>max_hub</th>\n",
       "      <th>max_content</th>\n",
       "      <th>max_win10</th>\n",
       "      <th>max_stickiness</th>\n",
       "    </tr>\n",
       "  </thead>\n",
       "  <tbody>\n",
       "    <tr>\n",
       "      <th>88</th>\n",
       "      <td>company_5</td>\n",
       "      <td>22Q1-P3</td>\n",
       "      <td>2021-04-01</td>\n",
       "      <td>17009.62556</td>\n",
       "      <td>25563.65334</td>\n",
       "      <td>60</td>\n",
       "      <td>100</td>\n",
       "      <td>1</td>\n",
       "      <td>1</td>\n",
       "      <td>60</td>\n",
       "      <td>40.500000</td>\n",
       "      <td>0</td>\n",
       "      <td>0</td>\n",
       "      <td>0</td>\n",
       "      <td>0</td>\n",
       "      <td>0</td>\n",
       "      <td>0</td>\n",
       "      <td>0</td>\n",
       "      <td>&lt;NA&gt;</td>\n",
       "    </tr>\n",
       "    <tr>\n",
       "      <th>89</th>\n",
       "      <td>company_5</td>\n",
       "      <td>22Q2-P4</td>\n",
       "      <td>2021-05-01</td>\n",
       "      <td>17009.62556</td>\n",
       "      <td>25563.65334</td>\n",
       "      <td>60</td>\n",
       "      <td>100</td>\n",
       "      <td>60</td>\n",
       "      <td>1</td>\n",
       "      <td>60</td>\n",
       "      <td>60.000000</td>\n",
       "      <td>0</td>\n",
       "      <td>0</td>\n",
       "      <td>0</td>\n",
       "      <td>0</td>\n",
       "      <td>0</td>\n",
       "      <td>0</td>\n",
       "      <td>0</td>\n",
       "      <td>&lt;NA&gt;</td>\n",
       "    </tr>\n",
       "    <tr>\n",
       "      <th>90</th>\n",
       "      <td>company_5</td>\n",
       "      <td>22Q2-P5</td>\n",
       "      <td>2021-06-01</td>\n",
       "      <td>17009.62556</td>\n",
       "      <td>25563.65334</td>\n",
       "      <td>60</td>\n",
       "      <td>100</td>\n",
       "      <td>100</td>\n",
       "      <td>100</td>\n",
       "      <td>60</td>\n",
       "      <td>89.444444</td>\n",
       "      <td>0</td>\n",
       "      <td>0</td>\n",
       "      <td>0</td>\n",
       "      <td>0</td>\n",
       "      <td>0</td>\n",
       "      <td>0</td>\n",
       "      <td>0</td>\n",
       "      <td>&lt;NA&gt;</td>\n",
       "    </tr>\n",
       "    <tr>\n",
       "      <th>91</th>\n",
       "      <td>company_5</td>\n",
       "      <td>22Q2-P6</td>\n",
       "      <td>2021-07-01</td>\n",
       "      <td>17009.62556</td>\n",
       "      <td>25563.65334</td>\n",
       "      <td>60</td>\n",
       "      <td>100</td>\n",
       "      <td>100</td>\n",
       "      <td>100</td>\n",
       "      <td>60</td>\n",
       "      <td>90.000000</td>\n",
       "      <td>0</td>\n",
       "      <td>0</td>\n",
       "      <td>0</td>\n",
       "      <td>0</td>\n",
       "      <td>0</td>\n",
       "      <td>0</td>\n",
       "      <td>0</td>\n",
       "      <td>&lt;NA&gt;</td>\n",
       "    </tr>\n",
       "    <tr>\n",
       "      <th>92</th>\n",
       "      <td>company_5</td>\n",
       "      <td>22Q3-P7</td>\n",
       "      <td>2021-08-01</td>\n",
       "      <td>25563.65334</td>\n",
       "      <td>25563.65334</td>\n",
       "      <td>100</td>\n",
       "      <td>100</td>\n",
       "      <td>100</td>\n",
       "      <td>1</td>\n",
       "      <td>100</td>\n",
       "      <td>98.232143</td>\n",
       "      <td>0</td>\n",
       "      <td>0</td>\n",
       "      <td>0</td>\n",
       "      <td>0</td>\n",
       "      <td>0</td>\n",
       "      <td>0</td>\n",
       "      <td>0</td>\n",
       "      <td>&lt;NA&gt;</td>\n",
       "    </tr>\n",
       "    <tr>\n",
       "      <th>93</th>\n",
       "      <td>company_5</td>\n",
       "      <td>22Q3-P8</td>\n",
       "      <td>2021-09-01</td>\n",
       "      <td>25563.65334</td>\n",
       "      <td>25563.65334</td>\n",
       "      <td>100</td>\n",
       "      <td>100</td>\n",
       "      <td>1</td>\n",
       "      <td>100</td>\n",
       "      <td>100</td>\n",
       "      <td>80.258929</td>\n",
       "      <td>0</td>\n",
       "      <td>0</td>\n",
       "      <td>0</td>\n",
       "      <td>0</td>\n",
       "      <td>0</td>\n",
       "      <td>0</td>\n",
       "      <td>0</td>\n",
       "      <td>&lt;NA&gt;</td>\n",
       "    </tr>\n",
       "    <tr>\n",
       "      <th>94</th>\n",
       "      <td>company_5</td>\n",
       "      <td>22Q3-P9</td>\n",
       "      <td>2021-10-01</td>\n",
       "      <td>25563.65334</td>\n",
       "      <td>25563.65334</td>\n",
       "      <td>100</td>\n",
       "      <td>100</td>\n",
       "      <td>1</td>\n",
       "      <td>100</td>\n",
       "      <td>100</td>\n",
       "      <td>75.250000</td>\n",
       "      <td>1085</td>\n",
       "      <td>65</td>\n",
       "      <td>1617</td>\n",
       "      <td>0</td>\n",
       "      <td>760</td>\n",
       "      <td>311</td>\n",
       "      <td>1</td>\n",
       "      <td>56.82</td>\n",
       "    </tr>\n",
       "    <tr>\n",
       "      <th>95</th>\n",
       "      <td>company_5</td>\n",
       "      <td>22Q4-P10</td>\n",
       "      <td>2021-11-01</td>\n",
       "      <td>25563.65334</td>\n",
       "      <td>25563.65334</td>\n",
       "      <td>100</td>\n",
       "      <td>100</td>\n",
       "      <td>1</td>\n",
       "      <td>1</td>\n",
       "      <td>100</td>\n",
       "      <td>50.500000</td>\n",
       "      <td>1073</td>\n",
       "      <td>57</td>\n",
       "      <td>1614</td>\n",
       "      <td>0</td>\n",
       "      <td>761</td>\n",
       "      <td>308</td>\n",
       "      <td>1</td>\n",
       "      <td>56.82</td>\n",
       "    </tr>\n",
       "    <tr>\n",
       "      <th>96</th>\n",
       "      <td>company_5</td>\n",
       "      <td>22Q4-P11</td>\n",
       "      <td>2021-12-01</td>\n",
       "      <td>25563.65334</td>\n",
       "      <td>25563.65334</td>\n",
       "      <td>100</td>\n",
       "      <td>100</td>\n",
       "      <td>100</td>\n",
       "      <td>1</td>\n",
       "      <td>100</td>\n",
       "      <td>100.000000</td>\n",
       "      <td>1067</td>\n",
       "      <td>21</td>\n",
       "      <td>1579</td>\n",
       "      <td>0</td>\n",
       "      <td>778</td>\n",
       "      <td>304</td>\n",
       "      <td>2</td>\n",
       "      <td>50.00</td>\n",
       "    </tr>\n",
       "    <tr>\n",
       "      <th>97</th>\n",
       "      <td>company_5</td>\n",
       "      <td>22Q4-P12</td>\n",
       "      <td>2022-01-01</td>\n",
       "      <td>25563.65334</td>\n",
       "      <td>25563.65334</td>\n",
       "      <td>100</td>\n",
       "      <td>100</td>\n",
       "      <td>100</td>\n",
       "      <td>1</td>\n",
       "      <td>100</td>\n",
       "      <td>100.000000</td>\n",
       "      <td>1029</td>\n",
       "      <td>16</td>\n",
       "      <td>1575</td>\n",
       "      <td>0</td>\n",
       "      <td>810</td>\n",
       "      <td>286</td>\n",
       "      <td>3</td>\n",
       "      <td>50.00</td>\n",
       "    </tr>\n",
       "    <tr>\n",
       "      <th>98</th>\n",
       "      <td>company_5</td>\n",
       "      <td>23Q1-P1</td>\n",
       "      <td>2022-02-01</td>\n",
       "      <td>25563.65334</td>\n",
       "      <td>25563.65334</td>\n",
       "      <td>100</td>\n",
       "      <td>100</td>\n",
       "      <td>100</td>\n",
       "      <td>1</td>\n",
       "      <td>100</td>\n",
       "      <td>99.523810</td>\n",
       "      <td>1031</td>\n",
       "      <td>14</td>\n",
       "      <td>1589</td>\n",
       "      <td>0</td>\n",
       "      <td>838</td>\n",
       "      <td>282</td>\n",
       "      <td>2</td>\n",
       "      <td>50.00</td>\n",
       "    </tr>\n",
       "    <tr>\n",
       "      <th>99</th>\n",
       "      <td>company_5</td>\n",
       "      <td>23Q1-P2</td>\n",
       "      <td>2022-03-01</td>\n",
       "      <td>25563.65334</td>\n",
       "      <td>25563.65334</td>\n",
       "      <td>60</td>\n",
       "      <td>100</td>\n",
       "      <td>100</td>\n",
       "      <td>100</td>\n",
       "      <td>100</td>\n",
       "      <td>86.666667</td>\n",
       "      <td>874</td>\n",
       "      <td>7</td>\n",
       "      <td>1527</td>\n",
       "      <td>0</td>\n",
       "      <td>786</td>\n",
       "      <td>233</td>\n",
       "      <td>2</td>\n",
       "      <td>50.00</td>\n",
       "    </tr>\n",
       "    <tr>\n",
       "      <th>100</th>\n",
       "      <td>company_5</td>\n",
       "      <td>23Q1-P3</td>\n",
       "      <td>2022-04-01</td>\n",
       "      <td>25563.65334</td>\n",
       "      <td>25563.65334</td>\n",
       "      <td>60</td>\n",
       "      <td>1</td>\n",
       "      <td>100</td>\n",
       "      <td>100</td>\n",
       "      <td>60</td>\n",
       "      <td>81.434028</td>\n",
       "      <td>874</td>\n",
       "      <td>6</td>\n",
       "      <td>1571</td>\n",
       "      <td>0</td>\n",
       "      <td>819</td>\n",
       "      <td>234</td>\n",
       "      <td>2</td>\n",
       "      <td>50.00</td>\n",
       "    </tr>\n",
       "    <tr>\n",
       "      <th>101</th>\n",
       "      <td>company_5</td>\n",
       "      <td>23Q2-P4</td>\n",
       "      <td>2022-05-01</td>\n",
       "      <td>25563.65334</td>\n",
       "      <td>25563.65334</td>\n",
       "      <td>100</td>\n",
       "      <td>1</td>\n",
       "      <td>100</td>\n",
       "      <td>1</td>\n",
       "      <td>100</td>\n",
       "      <td>75.250000</td>\n",
       "      <td>856</td>\n",
       "      <td>7</td>\n",
       "      <td>1614</td>\n",
       "      <td>0</td>\n",
       "      <td>840</td>\n",
       "      <td>225</td>\n",
       "      <td>2</td>\n",
       "      <td>50.00</td>\n",
       "    </tr>\n",
       "    <tr>\n",
       "      <th>102</th>\n",
       "      <td>company_5</td>\n",
       "      <td>23Q2-P5</td>\n",
       "      <td>2022-06-01</td>\n",
       "      <td>25563.65334</td>\n",
       "      <td>25563.65334</td>\n",
       "      <td>100</td>\n",
       "      <td>1</td>\n",
       "      <td>100</td>\n",
       "      <td>1</td>\n",
       "      <td>100</td>\n",
       "      <td>50.500000</td>\n",
       "      <td>866</td>\n",
       "      <td>7</td>\n",
       "      <td>1615</td>\n",
       "      <td>0</td>\n",
       "      <td>875</td>\n",
       "      <td>223</td>\n",
       "      <td>1</td>\n",
       "      <td>50.00</td>\n",
       "    </tr>\n",
       "    <tr>\n",
       "      <th>103</th>\n",
       "      <td>company_5</td>\n",
       "      <td>23Q2-P6</td>\n",
       "      <td>2022-07-01</td>\n",
       "      <td>25563.65334</td>\n",
       "      <td>25563.65334</td>\n",
       "      <td>100</td>\n",
       "      <td>60</td>\n",
       "      <td>1</td>\n",
       "      <td>100</td>\n",
       "      <td>100</td>\n",
       "      <td>62.375000</td>\n",
       "      <td>874</td>\n",
       "      <td>8</td>\n",
       "      <td>1595</td>\n",
       "      <td>0</td>\n",
       "      <td>903</td>\n",
       "      <td>228</td>\n",
       "      <td>1</td>\n",
       "      <td>50.00</td>\n",
       "    </tr>\n",
       "    <tr>\n",
       "      <th>104</th>\n",
       "      <td>company_5</td>\n",
       "      <td>23Q3-P7</td>\n",
       "      <td>2022-08-01</td>\n",
       "      <td>25563.65334</td>\n",
       "      <td>25563.65334</td>\n",
       "      <td>60</td>\n",
       "      <td>60</td>\n",
       "      <td>1</td>\n",
       "      <td>100</td>\n",
       "      <td>100</td>\n",
       "      <td>62.214286</td>\n",
       "      <td>863</td>\n",
       "      <td>8</td>\n",
       "      <td>1612</td>\n",
       "      <td>0</td>\n",
       "      <td>898</td>\n",
       "      <td>227</td>\n",
       "      <td>1</td>\n",
       "      <td>50.00</td>\n",
       "    </tr>\n",
       "    <tr>\n",
       "      <th>105</th>\n",
       "      <td>company_5</td>\n",
       "      <td>23Q3-P8</td>\n",
       "      <td>2022-09-01</td>\n",
       "      <td>25563.65334</td>\n",
       "      <td>25563.65334</td>\n",
       "      <td>100</td>\n",
       "      <td>60</td>\n",
       "      <td>1</td>\n",
       "      <td>100</td>\n",
       "      <td>100</td>\n",
       "      <td>65.250000</td>\n",
       "      <td>803</td>\n",
       "      <td>8</td>\n",
       "      <td>1598</td>\n",
       "      <td>0</td>\n",
       "      <td>867</td>\n",
       "      <td>214</td>\n",
       "      <td>1</td>\n",
       "      <td>50.00</td>\n",
       "    </tr>\n",
       "    <tr>\n",
       "      <th>106</th>\n",
       "      <td>company_5</td>\n",
       "      <td>23Q3-P9</td>\n",
       "      <td>2022-10-01</td>\n",
       "      <td>25563.65334</td>\n",
       "      <td>25563.65334</td>\n",
       "      <td>60</td>\n",
       "      <td>60</td>\n",
       "      <td>100</td>\n",
       "      <td>1</td>\n",
       "      <td>60</td>\n",
       "      <td>81.764706</td>\n",
       "      <td>773</td>\n",
       "      <td>8</td>\n",
       "      <td>1570</td>\n",
       "      <td>0</td>\n",
       "      <td>864</td>\n",
       "      <td>213</td>\n",
       "      <td>1</td>\n",
       "      <td>50.00</td>\n",
       "    </tr>\n",
       "  </tbody>\n",
       "</table>\n",
       "</div>"
      ],
      "text/plain": [
       "    planning_group fis_period       time      euc_mrr  euc_mrr_lead_6months  \\\n",
       "88       company_5    22Q1-P3 2021-04-01  17009.62556           25563.65334   \n",
       "89       company_5    22Q2-P4 2021-05-01  17009.62556           25563.65334   \n",
       "90       company_5    22Q2-P5 2021-06-01  17009.62556           25563.65334   \n",
       "91       company_5    22Q2-P6 2021-07-01  17009.62556           25563.65334   \n",
       "92       company_5    22Q3-P7 2021-08-01  25563.65334           25563.65334   \n",
       "93       company_5    22Q3-P8 2021-09-01  25563.65334           25563.65334   \n",
       "94       company_5    22Q3-P9 2021-10-01  25563.65334           25563.65334   \n",
       "95       company_5   22Q4-P10 2021-11-01  25563.65334           25563.65334   \n",
       "96       company_5   22Q4-P11 2021-12-01  25563.65334           25563.65334   \n",
       "97       company_5   22Q4-P12 2022-01-01  25563.65334           25563.65334   \n",
       "98       company_5    23Q1-P1 2022-02-01  25563.65334           25563.65334   \n",
       "99       company_5    23Q1-P2 2022-03-01  25563.65334           25563.65334   \n",
       "100      company_5    23Q1-P3 2022-04-01  25563.65334           25563.65334   \n",
       "101      company_5    23Q2-P4 2022-05-01  25563.65334           25563.65334   \n",
       "102      company_5    23Q2-P5 2022-06-01  25563.65334           25563.65334   \n",
       "103      company_5    23Q2-P6 2022-07-01  25563.65334           25563.65334   \n",
       "104      company_5    23Q3-P7 2022-08-01  25563.65334           25563.65334   \n",
       "105      company_5    23Q3-P8 2022-09-01  25563.65334           25563.65334   \n",
       "106      company_5    23Q3-P9 2022-10-01  25563.65334           25563.65334   \n",
       "\n",
       "     sr_count_score  ttr_sev12_score  sev1_ratio_score  esc_score  \\\n",
       "88               60              100                 1          1   \n",
       "89               60              100                60          1   \n",
       "90               60              100               100        100   \n",
       "91               60              100               100        100   \n",
       "92              100              100               100          1   \n",
       "93              100              100                 1        100   \n",
       "94              100              100                 1        100   \n",
       "95              100              100                 1          1   \n",
       "96              100              100               100          1   \n",
       "97              100              100               100          1   \n",
       "98              100              100               100          1   \n",
       "99               60              100               100        100   \n",
       "100              60                1               100        100   \n",
       "101             100                1               100          1   \n",
       "102             100                1               100          1   \n",
       "103             100               60                 1        100   \n",
       "104              60               60                 1        100   \n",
       "105             100               60                 1        100   \n",
       "106              60               60               100          1   \n",
       "\n",
       "     pr_to_sr_ratio_score  average_tech_health_score  max_boxer  max_osx  \\\n",
       "88                     60                  40.500000          0        0   \n",
       "89                     60                  60.000000          0        0   \n",
       "90                     60                  89.444444          0        0   \n",
       "91                     60                  90.000000          0        0   \n",
       "92                    100                  98.232143          0        0   \n",
       "93                    100                  80.258929          0        0   \n",
       "94                    100                  75.250000       1085       65   \n",
       "95                    100                  50.500000       1073       57   \n",
       "96                    100                 100.000000       1067       21   \n",
       "97                    100                 100.000000       1029       16   \n",
       "98                    100                  99.523810       1031       14   \n",
       "99                    100                  86.666667        874        7   \n",
       "100                    60                  81.434028        874        6   \n",
       "101                   100                  75.250000        856        7   \n",
       "102                   100                  50.500000        866        7   \n",
       "103                   100                  62.375000        874        8   \n",
       "104                   100                  62.214286        863        8   \n",
       "105                   100                  65.250000        803        8   \n",
       "106                    60                  81.764706        773        8   \n",
       "\n",
       "     max_tot_enrolled  max_horizon  max_hub  max_content  max_win10  \\\n",
       "88                  0            0        0            0          0   \n",
       "89                  0            0        0            0          0   \n",
       "90                  0            0        0            0          0   \n",
       "91                  0            0        0            0          0   \n",
       "92                  0            0        0            0          0   \n",
       "93                  0            0        0            0          0   \n",
       "94               1617            0      760          311          1   \n",
       "95               1614            0      761          308          1   \n",
       "96               1579            0      778          304          2   \n",
       "97               1575            0      810          286          3   \n",
       "98               1589            0      838          282          2   \n",
       "99               1527            0      786          233          2   \n",
       "100              1571            0      819          234          2   \n",
       "101              1614            0      840          225          2   \n",
       "102              1615            0      875          223          1   \n",
       "103              1595            0      903          228          1   \n",
       "104              1612            0      898          227          1   \n",
       "105              1598            0      867          214          1   \n",
       "106              1570            0      864          213          1   \n",
       "\n",
       "    max_stickiness  \n",
       "88            <NA>  \n",
       "89            <NA>  \n",
       "90            <NA>  \n",
       "91            <NA>  \n",
       "92            <NA>  \n",
       "93            <NA>  \n",
       "94           56.82  \n",
       "95           56.82  \n",
       "96           50.00  \n",
       "97           50.00  \n",
       "98           50.00  \n",
       "99           50.00  \n",
       "100          50.00  \n",
       "101          50.00  \n",
       "102          50.00  \n",
       "103          50.00  \n",
       "104          50.00  \n",
       "105          50.00  \n",
       "106          50.00  "
      ]
     },
     "execution_count": 691,
     "metadata": {},
     "output_type": "execute_result"
    }
   ],
   "source": [
    "planning_group_names = [\"company_5\"]\n",
    "company_5_df = final_dataframe[final_dataframe[\"planning_group\"].isin(planning_group_names)]\n",
    "company_5_df\n"
   ]
  },
  {
   "cell_type": "code",
   "execution_count": 692,
   "metadata": {},
   "outputs": [],
   "source": [
    "company_5_series = TimeSeries.from_dataframe(df = company_5_df,\n",
    "time_col='time',value_cols=[\n",
    "'euc_mrr',\n",
    "'max_boxer',\n",
    "'max_osx',\n",
    "'max_tot_enrolled',\n",
    "'max_hub',\n",
    "'max_content',\n",
    "'max_win10'\n",
    "]\n",
    ")\n"
   ]
  },
  {
   "cell_type": "code",
   "execution_count": 693,
   "metadata": {},
   "outputs": [],
   "source": [
    "past_covariates_company_5 = company_5_series.drop_columns([\"euc_mrr\"])\n",
    "target_variable = company_5_series[\"euc_mrr\"]"
   ]
  },
  {
   "cell_type": "code",
   "execution_count": 694,
   "metadata": {},
   "outputs": [],
   "source": [
    "# past_covariates_airbus"
   ]
  },
  {
   "cell_type": "markdown",
   "metadata": {},
   "source": [
    "## Scaling"
   ]
  },
  {
   "cell_type": "markdown",
   "metadata": {},
   "source": [
    "Scaling the dataset company_5 data\\\n",
    "Hereby, I tried several scalers such as MinMaxScaler, MaxAbsScaler,StandardScaler\n"
   ]
  },
  {
   "cell_type": "code",
   "execution_count": 695,
   "metadata": {},
   "outputs": [],
   "source": [
    "# scaler = MinMaxScaler(feature_range=(-2, 2))\n",
    "# scaler =MaxAbsScaler()\n",
    "# scaler = StandardScaler()\n",
    "scaler = StandardScaler(with_mean=False)\n",
    "\n",
    "transformer_features = Scaler(scaler,verbose=False)\n",
    "company_5_series_features_transformed = transformer_features.fit_transform(series=past_covariates_company_5)\n",
    "\n",
    "transformer_target = Scaler(scaler,verbose=False)\n",
    "company_5_target_transformed = transformer_target.fit_transform(series=target_variable)\n"
   ]
  },
  {
   "cell_type": "markdown",
   "metadata": {},
   "source": [
    "Here I splitted the data on training and validation set but I commented out for simplicity "
   ]
  },
  {
   "cell_type": "code",
   "execution_count": 696,
   "metadata": {},
   "outputs": [],
   "source": [
    "# # Let's keep the last 5 months of series as validation:\n",
    "# # train_mrr, val_mrr = series_scaled[:-2], series_scaled[-2:]\n",
    "\n",
    "# train_a2a, val_a2a = company_5_scaled[:-5], company_5_scaled[-5:]"
   ]
  },
  {
   "cell_type": "markdown",
   "metadata": {},
   "source": [
    "input_chunk_length: this is the length of the lookback window of the model; so each output will be computed by the model by reading the previous input_chunk_length points.\n",
    "\n",
    "output_chunk_length: this is the length of the outputs (forecasts) produced by the internal model.\n",
    "\n",
    "However, the predict() method of the “outer” Darts model can be called for a longer time horizon.\\\n",
    "In these cases, if predict() is called for a horizon longer than output_chunk_length, the internal model will simply be called repeatedly, feeding on its own previous outputs in an auto-regressive fashion.\\\n",
    "If past_covariates are used it requires these covariates to be known for long enough in advance."
   ]
  },
  {
   "cell_type": "code",
   "execution_count": 697,
   "metadata": {},
   "outputs": [],
   "source": [
    "model = NBEATSModel(\n",
    "                    input_chunk_length=10, \n",
    "                    output_chunk_length=5, # output length of 3\n",
    "                    n_epochs=33,\n",
    "                    random_state=33)"
   ]
  },
  {
   "cell_type": "code",
   "execution_count": 698,
   "metadata": {},
   "outputs": [
    {
     "name": "stderr",
     "output_type": "stream",
     "text": [
      "GPU available: False, used: False\n",
      "TPU available: False, using: 0 TPU cores\n",
      "IPU available: False, using: 0 IPUs\n",
      "HPU available: False, using: 0 HPUs\n",
      "`Trainer.fit` stopped: `max_epochs=33` reached.\n"
     ]
    },
    {
     "data": {
      "text/plain": [
       "<darts.models.forecasting.nbeats.NBEATSModel at 0x17653814ee0>"
      ]
     },
     "execution_count": 698,
     "metadata": {},
     "output_type": "execute_result"
    }
   ],
   "source": [
    "model.fit(series = [company_5_target_transformed],\n",
    "past_covariates = [company_5_series_features_transformed]\n",
    ",verbose = False\n",
    ")\n"
   ]
  },
  {
   "cell_type": "code",
   "execution_count": 699,
   "metadata": {},
   "outputs": [],
   "source": [
    "pred_cov = model.predict(n=4,series = company_5_target_transformed, past_covariates=company_5_series_features_transformed)\n",
    "# pred_cov.plot()\n"
   ]
  },
  {
   "cell_type": "code",
   "execution_count": 700,
   "metadata": {},
   "outputs": [],
   "source": [
    "# pred_cov"
   ]
  },
  {
   "cell_type": "code",
   "execution_count": 701,
   "metadata": {},
   "outputs": [],
   "source": [
    "# Inverse scaling do not work.\n",
    "inverse_pred_cov = transformer_target.inverse_transform(pred_cov)\n",
    "inverse_target_variable = transformer_target.inverse_transform(company_5_target_transformed)"
   ]
  },
  {
   "cell_type": "code",
   "execution_count": 702,
   "metadata": {},
   "outputs": [
    {
     "data": {
      "text/plain": [
       "<matplotlib.legend.Legend at 0x176358ce910>"
      ]
     },
     "execution_count": 702,
     "metadata": {},
     "output_type": "execute_result"
    },
    {
     "data": {
      "image/png": "[encoded data removed]",
      "text/plain": [
       "<Figure size 432x288 with 1 Axes>"
      ]
     },
     "metadata": {
      "needs_background": "light"
     },
     "output_type": "display_data"
    }
   ],
   "source": [
    "inverse_target_variable.plot(label ='actual')\n",
    "inverse_pred_cov.plot(label ='forecast')\n",
    "plt.legend()"
   ]
  },
  {
   "cell_type": "markdown",
   "metadata": {},
   "source": [
    "## Experiments for full dataset - we have 20 available companies\n",
    "I have multiple and multivariate time series.\\\n",
    "I need all the companies that have more than 20 time indexes in their rows because some series might be too short "
   ]
  },
  {
   "cell_type": "code",
   "execution_count": 703,
   "metadata": {},
   "outputs": [
    {
     "data": {
      "text/plain": [
       "Index(['company_1', 'company_11', 'company_12', 'company_13', 'company_14',\n",
       "       'company_15', 'company_16', 'company_17', 'company_18', 'company_2',\n",
       "       'company_3', 'company_4', 'company_6', 'company_7', 'company_8',\n",
       "       'company_9'],\n",
       "      dtype='string', name='planning_group')"
      ]
     },
     "execution_count": 703,
     "metadata": {},
     "output_type": "execute_result"
    }
   ],
   "source": [
    "df_count = final_dataframe[['planning_group','time']].groupby(\"planning_group\").count()\n",
    "planning_groups_more_than_ten = df_count[df_count['time'] > 20].index\n",
    "\n",
    "planning_groups_more_than_ten"
   ]
  },
  {
   "cell_type": "code",
   "execution_count": 704,
   "metadata": {},
   "outputs": [
    {
     "data": {
      "text/plain": [
       "['company_1',\n",
       " 'company_11',\n",
       " 'company_12',\n",
       " 'company_13',\n",
       " 'company_14',\n",
       " 'company_15',\n",
       " 'company_16',\n",
       " 'company_17',\n",
       " 'company_18',\n",
       " 'company_2',\n",
       " 'company_3',\n",
       " 'company_4',\n",
       " 'company_6',\n",
       " 'company_7',\n",
       " 'company_8',\n",
       " 'company_9']"
      ]
     },
     "execution_count": 704,
     "metadata": {},
     "output_type": "execute_result"
    }
   ],
   "source": [
    "pg_set = set(final_dataframe['planning_group'])\n",
    "\n",
    "\n",
    "pg_unique_list = list(planning_groups_more_than_ten)\n",
    "pg_unique_list\n",
    "\n",
    "# len(pg_unique_list)\n",
    "# list_pg = set(final_dataframe['planning_group'])\n",
    "# list_pg"
   ]
  },
  {
   "cell_type": "markdown",
   "metadata": {},
   "source": [
    "I create a target series and then I split the target series on train and test sets.\\\n",
    "Then, I implemented a features' series and I split them on train and test sets."
   ]
  },
  {
   "cell_type": "code",
   "execution_count": 705,
   "metadata": {},
   "outputs": [],
   "source": [
    "list_pg = pg_unique_list\n",
    "list_ts_feature_train = []\n",
    "list_ts_feature_test = []\n",
    "list_ts_target_train = []\n",
    "list_ts_target_test = []\n",
    "\n",
    "for pg in list_pg:\n",
    "    actual_frequency = 'MS'\n",
    "    target_series = TimeSeries.from_dataframe(df = final_dataframe[final_dataframe.planning_group == pg] ,\n",
    "        time_col='time',value_cols=['euc_mrr'],freq=actual_frequency\n",
    "        )\n",
    "    train_target_series , test_target_series = target_series.split_before(0.8)\n",
    "    list_ts_target_train.append(train_target_series)\n",
    "    list_ts_target_test.append(test_target_series)\n",
    "\n",
    "    features_series =  TimeSeries.from_dataframe(df = final_dataframe[final_dataframe.planning_group == pg],\n",
    "        time_col='time',value_cols=[\n",
    "        'max_boxer',\n",
    "        'max_osx',\n",
    "        'max_tot_enrolled',\n",
    "        'max_hub',\n",
    "        'max_content',\n",
    "        'max_win10',\n",
    "        # 'max_stickiness',\n",
    "        'sr_count_score',\n",
    "        'ttr_sev12_score', \n",
    "        'sev1_ratio_score',\n",
    "        'esc_score',\n",
    "        'pr_to_sr_ratio_score',\n",
    "        'average_tech_health_score'\n",
    "        ],freq=actual_frequency\n",
    "        )\n",
    "    train_features_series , test_features_series = features_series.split_before(0.8)\n",
    "    list_ts_feature_train.append(train_features_series)\n",
    "    list_ts_feature_test.append(test_features_series)\n"
   ]
  },
  {
   "cell_type": "code",
   "execution_count": 706,
   "metadata": {},
   "outputs": [
    {
     "data": {
      "text/plain": [
       "Scaler"
      ]
     },
     "execution_count": 706,
     "metadata": {},
     "output_type": "execute_result"
    }
   ],
   "source": [
    "scaler = StandardScaler(with_mean=True)\n",
    "\n",
    "transformer_features = Scaler(scaler,verbose=False)\n",
    "transformer_features.fit(series=list_ts_feature_train+list_ts_feature_test)\n",
    "\n",
    "transformer_target = Scaler(scaler,verbose=False)\n",
    "transformer_target.fit(series=list_ts_target_train+list_ts_target_test)\n"
   ]
  },
  {
   "cell_type": "code",
   "execution_count": 707,
   "metadata": {},
   "outputs": [
    {
     "data": {
      "text/plain": [
       "60"
      ]
     },
     "execution_count": 707,
     "metadata": {},
     "output_type": "execute_result"
    }
   ],
   "source": [
    "input_chunk = 7\n",
    "output_chunk = 6\n",
    "# 15 is average rows per pg\n",
    "# the following formula is given in the documentation of darts\n",
    "epochs_per_pg = 15 - input_chunk-output_chunk + 1 \n",
    "# len of all pgs = len(pg_unique_list)\n",
    "epochs = 20*epochs_per_pg\n",
    "epochs"
   ]
  },
  {
   "cell_type": "markdown",
   "metadata": {},
   "source": [
    "# First model\n",
    "I use NBEATS model (https://unit8co.github.io/darts/generated_api/darts.models.forecasting.nbeats.html)"
   ]
  },
  {
   "cell_type": "code",
   "execution_count": 708,
   "metadata": {},
   "outputs": [],
   "source": [
    "model = NBEATSModel(\n",
    "                    input_chunk_length=input_chunk, \n",
    "                    output_chunk_length=output_chunk, # output length of 3\n",
    "                    n_epochs=epochs,\n",
    "                    random_state=33,\n",
    "                    pl_trainer_kwargs  = {\"accelerator\": \"cpu\"}\n",
    "                    )"
   ]
  },
  {
   "cell_type": "code",
   "execution_count": 709,
   "metadata": {},
   "outputs": [],
   "source": [
    "target_train = [transformer_target.transform(target) for target in list_ts_target_train]\n",
    "features_past_covariates = [transformer_features.transform(feature) for feature in list_ts_feature_train]"
   ]
  },
  {
   "cell_type": "code",
   "execution_count": 710,
   "metadata": {},
   "outputs": [],
   "source": [
    "# target_train[0]"
   ]
  },
  {
   "cell_type": "code",
   "execution_count": 711,
   "metadata": {},
   "outputs": [
    {
     "name": "stderr",
     "output_type": "stream",
     "text": [
      "GPU available: False, used: False\n",
      "TPU available: False, using: 0 TPU cores\n",
      "IPU available: False, using: 0 IPUs\n",
      "HPU available: False, using: 0 HPUs\n",
      "`Trainer.fit` stopped: `max_epochs=60` reached.\n"
     ]
    },
    {
     "data": {
      "text/plain": [
       "<darts.models.forecasting.nbeats.NBEATSModel at 0x176c04bf670>"
      ]
     },
     "execution_count": 711,
     "metadata": {},
     "output_type": "execute_result"
    }
   ],
   "source": [
    "model.fit(series = target_train,\n",
    "past_covariates = features_past_covariates,\n",
    "verbose = False\n",
    ")\n",
    "# takes around 20 mins"
   ]
  },
  {
   "cell_type": "code",
   "execution_count": 712,
   "metadata": {},
   "outputs": [],
   "source": [
    "pred_cov = model.predict(\n",
    "    n=6,\n",
    "    series = target_train,\n",
    "    past_covariates = features_past_covariates\n",
    ")\n"
   ]
  },
  {
   "cell_type": "code",
   "execution_count": 713,
   "metadata": {},
   "outputs": [],
   "source": [
    "inverse_pred_cov = [transformer_target.inverse_transform(pred) for pred in pred_cov]\n",
    "# inverse_pred_cov[5]"
   ]
  },
  {
   "cell_type": "code",
   "execution_count": 714,
   "metadata": {},
   "outputs": [],
   "source": [
    "# pred_cov[4]"
   ]
  },
  {
   "cell_type": "code",
   "execution_count": 715,
   "metadata": {},
   "outputs": [
    {
     "name": "stderr",
     "output_type": "stream",
     "text": [
      "c:\\Users\\as\\anaconda3\\envs\\baseREC\\lib\\site-packages\\darts\\metrics\\metrics.py:458: RuntimeWarning: invalid value encountered in log\n",
      "  y1, y2 = np.log(y1 + 1), np.log(y2 + 1)\n"
     ]
    },
    {
     "name": "stdout",
     "output_type": "stream",
     "text": [
      "RMSLE = nan - Root Mean Squared Log Error \n",
      "MAPE = 194709.37% -Mean Absolute Percentage Error\n"
     ]
    },
    {
     "data": {
      "image/png": "[encoded data removed]",
      "text/plain": [
       "<Figure size 432x288 with 1 Axes>"
      ]
     },
     "metadata": {
      "needs_background": "light"
     },
     "output_type": "display_data"
    }
   ],
   "source": [
    "list_ts_target_train[4].plot(label = 'train_data')\n",
    "list_ts_target_test[4].plot(label = 'actual')\n",
    "inverse_pred_cov[4].plot(label= 'forecast')\n",
    "\n",
    "print(\"RMSLE = {:.2f} - Root Mean Squared Log Error \".format(rmsle(list_ts_target_test[4], inverse_pred_cov[4])))\n",
    "print(\"MAPE = {:.2f}% -Mean Absolute Percentage Error\".format(mape(list_ts_target_test[4], inverse_pred_cov[4])))\n"
   ]
  },
  {
   "cell_type": "code",
   "execution_count": 716,
   "metadata": {},
   "outputs": [
    {
     "name": "stdout",
     "output_type": "stream",
     "text": [
      "RMSLE = 0.86 - Root Mean Squared Log Error \n",
      "MAPE = 50.93% -Mean Absolute Percentage Error\n"
     ]
    },
    {
     "data": {
      "image/png": "[encoded data removed]",
      "text/plain": [
       "<Figure size 432x288 with 1 Axes>"
      ]
     },
     "metadata": {
      "needs_background": "light"
     },
     "output_type": "display_data"
    }
   ],
   "source": [
    "list_ts_target_train[3].plot(label = 'train_data')\n",
    "list_ts_target_test[3].plot(label = 'actual')\n",
    "inverse_pred_cov[3].plot(label= 'forecast')\n",
    "\n",
    "print(\"RMSLE = {:.2f} - Root Mean Squared Log Error \".format(rmsle(list_ts_target_test[3], inverse_pred_cov[3])))\n",
    "print(\"MAPE = {:.2f}% -Mean Absolute Percentage Error\".format(mape(list_ts_target_test[3], inverse_pred_cov[3])))\n"
   ]
  },
  {
   "cell_type": "code",
   "execution_count": 717,
   "metadata": {},
   "outputs": [
    {
     "name": "stdout",
     "output_type": "stream",
     "text": [
      "RMSLE = 1.74 - Root Mean Squared Log Error \n",
      "MAPE = 487.12% -Mean Absolute Percentage Error\n"
     ]
    },
    {
     "data": {
      "image/png": "[encoded data removed]",
      "text/plain": [
       "<Figure size 432x288 with 1 Axes>"
      ]
     },
     "metadata": {
      "needs_background": "light"
     },
     "output_type": "display_data"
    }
   ],
   "source": [
    "list_ts_target_train[2].plot(label = 'train_data')\n",
    "list_ts_target_test[2].plot(label = 'actual')\n",
    "inverse_pred_cov[2].plot(label= 'forecast')\n",
    "\n",
    "print(\"RMSLE = {:.2f} - Root Mean Squared Log Error \".format(rmsle(list_ts_target_test[2], inverse_pred_cov[2])))\n",
    "print(\"MAPE = {:.2f}% -Mean Absolute Percentage Error\".format(mape(list_ts_target_test[2], inverse_pred_cov[2])))\n"
   ]
  },
  {
   "cell_type": "code",
   "execution_count": 718,
   "metadata": {},
   "outputs": [
    {
     "name": "stderr",
     "output_type": "stream",
     "text": [
      "c:\\Users\\as\\anaconda3\\envs\\baseREC\\lib\\site-packages\\darts\\metrics\\metrics.py:458: RuntimeWarning: invalid value encountered in log\n",
      "  y1, y2 = np.log(y1 + 1), np.log(y2 + 1)\n"
     ]
    },
    {
     "name": "stdout",
     "output_type": "stream",
     "text": [
      "RMSLE = nan - Root Mean Squared Log Error \n",
      "MAPE = 95.50% -Mean Absolute Percentage Error\n"
     ]
    },
    {
     "data": {
      "image/png": "[encoded data removed]",
      "text/plain": [
       "<Figure size 432x288 with 1 Axes>"
      ]
     },
     "metadata": {
      "needs_background": "light"
     },
     "output_type": "display_data"
    }
   ],
   "source": [
    "list_ts_target_train[5].plot(label = 'train_data')\n",
    "list_ts_target_test[5].plot(label = 'actual')\n",
    "inverse_pred_cov[5].plot(label= 'forecast')\n",
    "\n",
    "print(\"RMSLE = {:.2f} - Root Mean Squared Log Error \".format(rmsle(list_ts_target_test[5], inverse_pred_cov[5])))\n",
    "print(\"MAPE = {:.2f}% -Mean Absolute Percentage Error\".format(mape(list_ts_target_test[5], inverse_pred_cov[5])))\n"
   ]
  },
  {
   "cell_type": "markdown",
   "metadata": {},
   "source": [
    "# Second model\n",
    "I use as second model Temporal Convolutional Network\\\n",
    " (https://unit8co.github.io/darts/generated_api/darts.models.forecasting.tcn_model.html)"
   ]
  },
  {
   "cell_type": "code",
   "execution_count": 719,
   "metadata": {},
   "outputs": [],
   "source": [
    "tcn_model = TCNModel(\n",
    "    input_chunk_length=input_chunk, \n",
    "    output_chunk_length=output_chunk,\n",
    "    n_epochs = epochs\n",
    "    )"
   ]
  },
  {
   "cell_type": "code",
   "execution_count": 720,
   "metadata": {},
   "outputs": [],
   "source": [
    "target_train = [transformer_target.transform(target) for target in list_ts_target_train]\n",
    "features_past_covariates = [transformer_features.transform(feature) for feature in list_ts_feature_train]"
   ]
  },
  {
   "cell_type": "code",
   "execution_count": 721,
   "metadata": {},
   "outputs": [
    {
     "name": "stderr",
     "output_type": "stream",
     "text": [
      "GPU available: False, used: False\n",
      "TPU available: False, using: 0 TPU cores\n",
      "IPU available: False, using: 0 IPUs\n",
      "HPU available: False, using: 0 HPUs\n",
      "`Trainer.fit` stopped: `max_epochs=60` reached.\n"
     ]
    },
    {
     "data": {
      "text/plain": [
       "<darts.models.forecasting.tcn_model.TCNModel at 0x176bec5ce50>"
      ]
     },
     "execution_count": 721,
     "metadata": {},
     "output_type": "execute_result"
    }
   ],
   "source": [
    "\n",
    "tcn_model.fit(series = target_train,\n",
    "past_covariates = features_past_covariates,\n",
    "verbose = False\n",
    ")\n",
    "# takes 3 mins approximately"
   ]
  },
  {
   "cell_type": "code",
   "execution_count": 722,
   "metadata": {},
   "outputs": [],
   "source": [
    "pred_cov = tcn_model.predict(\n",
    "    n=6,\n",
    "    series = target_train,\n",
    "    past_covariates = features_past_covariates\n",
    ")\n"
   ]
  },
  {
   "cell_type": "code",
   "execution_count": 723,
   "metadata": {},
   "outputs": [],
   "source": [
    "inverse_pred_cov = [transformer_target.inverse_transform(pred) for pred in pred_cov]\n",
    "# inverse_pred_cov[5]"
   ]
  },
  {
   "cell_type": "code",
   "execution_count": 724,
   "metadata": {},
   "outputs": [
    {
     "name": "stderr",
     "output_type": "stream",
     "text": [
      "c:\\Users\\as\\anaconda3\\envs\\baseREC\\lib\\site-packages\\darts\\metrics\\metrics.py:458: RuntimeWarning: invalid value encountered in log\n",
      "  y1, y2 = np.log(y1 + 1), np.log(y2 + 1)\n"
     ]
    },
    {
     "name": "stdout",
     "output_type": "stream",
     "text": [
      "RMSLE = nan - Root Mean Squared Log Error \n",
      "MAPE = 6125887.97% -Mean Absolute Percentage Error\n"
     ]
    },
    {
     "data": {
      "image/png": "[encoded data removed]",
      "text/plain": [
       "<Figure size 432x288 with 1 Axes>"
      ]
     },
     "metadata": {
      "needs_background": "light"
     },
     "output_type": "display_data"
    }
   ],
   "source": [
    "list_ts_target_train[4].plot(label = 'train_data')\n",
    "list_ts_target_test[4].plot(label = 'actual')\n",
    "# list_ts_target_train[0]\n",
    "inverse_pred_cov[4].plot(label= 'forecast')\n",
    "\n",
    "print(\"RMSLE = {:.2f} - Root Mean Squared Log Error \".format(rmsle(list_ts_target_test[4], inverse_pred_cov[4])))\n",
    "print(\"MAPE = {:.2f}% -Mean Absolute Percentage Error\".format(mape(list_ts_target_test[4], inverse_pred_cov[4])))\n"
   ]
  },
  {
   "cell_type": "code",
   "execution_count": 725,
   "metadata": {},
   "outputs": [
    {
     "name": "stderr",
     "output_type": "stream",
     "text": [
      "c:\\Users\\as\\anaconda3\\envs\\baseREC\\lib\\site-packages\\darts\\metrics\\metrics.py:458: RuntimeWarning: invalid value encountered in log\n",
      "  y1, y2 = np.log(y1 + 1), np.log(y2 + 1)\n"
     ]
    },
    {
     "name": "stdout",
     "output_type": "stream",
     "text": [
      "RMSLE = nan - Root Mean Squared Log Error \n",
      "MAPE = 1037.06% -Mean Absolute Percentage Error\n"
     ]
    },
    {
     "data": {
      "image/png": "[encoded data removed]",
      "text/plain": [
       "<Figure size 432x288 with 1 Axes>"
      ]
     },
     "metadata": {
      "needs_background": "light"
     },
     "output_type": "display_data"
    }
   ],
   "source": [
    "list_ts_target_train[3].plot(label = 'train_data')\n",
    "list_ts_target_test[3].plot(label = 'actual')\n",
    "inverse_pred_cov[3].plot(label= 'forecast')\n",
    "\n",
    "print(\"RMSLE = {:.2f} - Root Mean Squared Log Error \".format(rmsle(list_ts_target_test[3], inverse_pred_cov[3])))\n",
    "print(\"MAPE = {:.2f}% -Mean Absolute Percentage Error\".format(mape(list_ts_target_test[3], inverse_pred_cov[3])))\n"
   ]
  },
  {
   "cell_type": "code",
   "execution_count": 726,
   "metadata": {},
   "outputs": [
    {
     "name": "stdout",
     "output_type": "stream",
     "text": [
      "RMSLE = 3.66 - Root Mean Squared Log Error \n",
      "MAPE = 3802.06% -Mean Absolute Percentage Error\n"
     ]
    },
    {
     "data": {
      "image/png": "[encoded data removed]",
      "text/plain": [
       "<Figure size 432x288 with 1 Axes>"
      ]
     },
     "metadata": {
      "needs_background": "light"
     },
     "output_type": "display_data"
    }
   ],
   "source": [
    "list_ts_target_train[2].plot(label = 'train_data')\n",
    "list_ts_target_test[2].plot(label = 'actual')\n",
    "inverse_pred_cov[2].plot(label= 'forecast')\n",
    "\n",
    "print(\"RMSLE = {:.2f} - Root Mean Squared Log Error \".format(rmsle(list_ts_target_test[2], inverse_pred_cov[2])))\n",
    "print(\"MAPE = {:.2f}% -Mean Absolute Percentage Error\".format(mape(list_ts_target_test[2], inverse_pred_cov[2])))"
   ]
  },
  {
   "cell_type": "code",
   "execution_count": 727,
   "metadata": {},
   "outputs": [
    {
     "name": "stderr",
     "output_type": "stream",
     "text": [
      "c:\\Users\\as\\anaconda3\\envs\\baseREC\\lib\\site-packages\\darts\\metrics\\metrics.py:458: RuntimeWarning: invalid value encountered in log\n",
      "  y1, y2 = np.log(y1 + 1), np.log(y2 + 1)\n"
     ]
    },
    {
     "name": "stdout",
     "output_type": "stream",
     "text": [
      "RMSLE = nan - Root Mean Squared Log Error \n",
      "MAPE = 104.16% -Mean Absolute Percentage Error\n"
     ]
    },
    {
     "data": {
      "image/png": "[encoded data removed]",
      "text/plain": [
       "<Figure size 432x288 with 1 Axes>"
      ]
     },
     "metadata": {
      "needs_background": "light"
     },
     "output_type": "display_data"
    }
   ],
   "source": [
    "list_ts_target_train[5].plot(label = 'train_data')\n",
    "list_ts_target_test[5].plot(label = 'actual')\n",
    "inverse_pred_cov[5].plot(label= 'forecast')\n",
    "\n",
    "print(\"RMSLE = {:.2f} - Root Mean Squared Log Error \".format(rmsle(list_ts_target_test[5], inverse_pred_cov[5])))\n",
    "print(\"MAPE = {:.2f}% -Mean Absolute Percentage Error\".format(mape(list_ts_target_test[5], inverse_pred_cov[5])))\n"
   ]
  },
  {
   "cell_type": "code",
   "execution_count": 728,
   "metadata": {},
   "outputs": [
    {
     "name": "stdout",
     "output_type": "stream",
     "text": [
      "The average rmsle error is 0.22\n"
     ]
    }
   ],
   "source": [
    "list_accuracy_second = []\n",
    "for element in range(0,len(planning_group_names),5):\n",
    "    # print(element)\n",
    "    error = round(float(rmsle(list_ts_target_test[int(element)], inverse_pred_cov[int(element)])),2)\n",
    "    list_accuracy_second.append(error)\n",
    "# print(list_accuracy_second)\n",
    "sum_list = sum(list_accuracy_second)\n",
    "count_list = len(list_accuracy_second)\n",
    "result = sum_list / count_list\n",
    "print(f'The average rmsle error is {result:.2f}')"
   ]
  },
  {
   "cell_type": "markdown",
   "metadata": {},
   "source": [
    "# Third model\n",
    "I use as third model Temporal Fusion Transformer (TFT)\\\n",
    "(https://unit8co.github.io/darts/generated_api/darts.models.forecasting.tft_model.html)"
   ]
  },
  {
   "cell_type": "code",
   "execution_count": 729,
   "metadata": {},
   "outputs": [],
   "source": [
    "tft_model = TFTModel(\n",
    "    input_chunk_length=input_chunk, \n",
    "    output_chunk_length=output_chunk,\n",
    "    n_epochs = epochs)"
   ]
  },
  {
   "cell_type": "code",
   "execution_count": 730,
   "metadata": {},
   "outputs": [],
   "source": [
    "target_train = [transformer_target.transform(target) for target in list_ts_target_train]\n",
    "features_past_covariates = [transformer_features.transform(feature) for feature in list_ts_feature_train]"
   ]
  },
  {
   "cell_type": "code",
   "execution_count": 731,
   "metadata": {},
   "outputs": [
    {
     "name": "stderr",
     "output_type": "stream",
     "text": [
      "GPU available: False, used: False\n",
      "TPU available: False, using: 0 TPU cores\n",
      "IPU available: False, using: 0 IPUs\n",
      "HPU available: False, using: 0 HPUs\n",
      "Attempting to retrain the model without resuming from a checkpoint. This is currently discouraged. Consider setting `save_checkpoints` to `True` and specifying `model_name` at model creation. Then call `model = TCNModel.load_from_checkpoint(model_name, best=False)`. Finally, train the model with `model.fit(..., epochs=new_epochs)` where `new_epochs` is the sum of (epochs already trained + some additional epochs).\n"
     ]
    },
    {
     "data": {
      "application/vnd.jupyter.widget-view+json": {
       "model_id": "1b5e33be9f3b4c2ca049e22cdcf79d5c",
       "version_major": 2,
       "version_minor": 0
      },
      "text/plain": [
       "Training: 0it [00:00, ?it/s]"
      ]
     },
     "metadata": {},
     "output_type": "display_data"
    },
    {
     "name": "stderr",
     "output_type": "stream",
     "text": [
      "`Trainer.fit` stopped: `max_epochs=60` reached.\n"
     ]
    },
    {
     "data": {
      "text/plain": [
       "<darts.models.forecasting.tcn_model.TCNModel at 0x176bec5ce50>"
      ]
     },
     "execution_count": 731,
     "metadata": {},
     "output_type": "execute_result"
    }
   ],
   "source": [
    "tcn_model.fit(series = target_train,\n",
    "past_covariates = features_past_covariates,\n",
    "verbose = True\n",
    ")\n",
    "# takes 3.26 mins approximately"
   ]
  },
  {
   "cell_type": "code",
   "execution_count": 732,
   "metadata": {},
   "outputs": [
    {
     "data": {
      "application/vnd.jupyter.widget-view+json": {
       "model_id": "e8881280e5af47c0865a09677b1bad7f",
       "version_major": 2,
       "version_minor": 0
      },
      "text/plain": [
       "Predicting: 2it [00:00, ?it/s]"
      ]
     },
     "metadata": {},
     "output_type": "display_data"
    }
   ],
   "source": [
    "pred_cov = tcn_model.predict(\n",
    "    n=6,\n",
    "    series = target_train,\n",
    "    past_covariates = features_past_covariates\n",
    ")\n"
   ]
  },
  {
   "cell_type": "code",
   "execution_count": 733,
   "metadata": {},
   "outputs": [],
   "source": [
    "inverse_pred_cov = [transformer_target.inverse_transform(pred) for pred in pred_cov]\n",
    "# inverse_pred_cov[5]"
   ]
  },
  {
   "cell_type": "code",
   "execution_count": 734,
   "metadata": {},
   "outputs": [
    {
     "name": "stderr",
     "output_type": "stream",
     "text": [
      "c:\\Users\\as\\anaconda3\\envs\\baseREC\\lib\\site-packages\\darts\\metrics\\metrics.py:458: RuntimeWarning: invalid value encountered in log\n",
      "  y1, y2 = np.log(y1 + 1), np.log(y2 + 1)\n"
     ]
    },
    {
     "name": "stdout",
     "output_type": "stream",
     "text": [
      "RMSLE = nan - Root Mean Squared Log Error \n",
      "MAPE = 1874858.42% -Mean Absolute Percentage Error\n"
     ]
    },
    {
     "data": {
      "image/png": "[encoded data removed]",
      "text/plain": [
       "<Figure size 432x288 with 1 Axes>"
      ]
     },
     "metadata": {
      "needs_background": "light"
     },
     "output_type": "display_data"
    }
   ],
   "source": [
    "list_ts_target_train[4].plot(label = 'train_data')\n",
    "list_ts_target_test[4].plot(label = 'actual')\n",
    "inverse_pred_cov[4].plot(label= 'forecast')\n",
    "\n",
    "print(\"RMSLE = {:.2f} - Root Mean Squared Log Error \".format(rmsle(list_ts_target_test[4], inverse_pred_cov[4])))\n",
    "print(\"MAPE = {:.2f}% -Mean Absolute Percentage Error\".format(mape(list_ts_target_test[4], inverse_pred_cov[4])))\n"
   ]
  },
  {
   "cell_type": "code",
   "execution_count": 735,
   "metadata": {},
   "outputs": [
    {
     "name": "stderr",
     "output_type": "stream",
     "text": [
      "c:\\Users\\as\\anaconda3\\envs\\baseREC\\lib\\site-packages\\darts\\metrics\\metrics.py:458: RuntimeWarning: invalid value encountered in log\n",
      "  y1, y2 = np.log(y1 + 1), np.log(y2 + 1)\n"
     ]
    },
    {
     "name": "stdout",
     "output_type": "stream",
     "text": [
      "RMSLE = nan - Root Mean Squared Log Error \n",
      "MAPE = 75.77% -Mean Absolute Percentage Error\n"
     ]
    },
    {
     "data": {
      "image/png": "[encoded data removed]",
      "text/plain": [
       "<Figure size 432x288 with 1 Axes>"
      ]
     },
     "metadata": {
      "needs_background": "light"
     },
     "output_type": "display_data"
    }
   ],
   "source": [
    "list_ts_target_train[3].plot(label = 'train_data')\n",
    "list_ts_target_test[3].plot(label = 'actual')\n",
    "inverse_pred_cov[3].plot(label= 'forecast')\n",
    "\n",
    "print(\"RMSLE = {:.2f} - Root Mean Squared Log Error \".format(rmsle(list_ts_target_test[3], inverse_pred_cov[3])))\n",
    "print(\"MAPE = {:.2f}% -Mean Absolute Percentage Error\".format(mape(list_ts_target_test[3], inverse_pred_cov[3])))"
   ]
  },
  {
   "cell_type": "code",
   "execution_count": 736,
   "metadata": {},
   "outputs": [
    {
     "name": "stdout",
     "output_type": "stream",
     "text": [
      "RMSLE = 2.68 - Root Mean Squared Log Error \n",
      "MAPE = 1394.69% -Mean Absolute Percentage Error\n"
     ]
    },
    {
     "data": {
      "image/png": "[encoded data removed]",
      "text/plain": [
       "<Figure size 432x288 with 1 Axes>"
      ]
     },
     "metadata": {
      "needs_background": "light"
     },
     "output_type": "display_data"
    }
   ],
   "source": [
    "list_ts_target_train[2].plot(label = 'train_data')\n",
    "list_ts_target_test[2].plot(label = 'actual')\n",
    "inverse_pred_cov[2].plot(label= 'forecast')\n",
    "\n",
    "print(\"RMSLE = {:.2f} - Root Mean Squared Log Error \".format(rmsle(list_ts_target_test[2], inverse_pred_cov[2])))\n",
    "print(\"MAPE = {:.2f}% -Mean Absolute Percentage Error\".format(mape(list_ts_target_test[2], inverse_pred_cov[2])))\n"
   ]
  },
  {
   "cell_type": "code",
   "execution_count": 737,
   "metadata": {},
   "outputs": [
    {
     "name": "stderr",
     "output_type": "stream",
     "text": [
      "c:\\Users\\as\\anaconda3\\envs\\baseREC\\lib\\site-packages\\darts\\metrics\\metrics.py:458: RuntimeWarning: invalid value encountered in log\n",
      "  y1, y2 = np.log(y1 + 1), np.log(y2 + 1)\n"
     ]
    },
    {
     "name": "stdout",
     "output_type": "stream",
     "text": [
      "RMSLE = nan - Root Mean Squared Log Error \n",
      "MAPE = 104.62% -Mean Absolute Percentage Error\n"
     ]
    },
    {
     "data": {
      "image/png": "[encoded data removed]",
      "text/plain": [
       "<Figure size 432x288 with 1 Axes>"
      ]
     },
     "metadata": {
      "needs_background": "light"
     },
     "output_type": "display_data"
    }
   ],
   "source": [
    "list_ts_target_train[5].plot(label = 'train_data')\n",
    "list_ts_target_test[5].plot(label = 'actual')\n",
    "inverse_pred_cov[5].plot(label= 'forecast')\n",
    "\n",
    "print(\"RMSLE = {:.2f} - Root Mean Squared Log Error \".format(rmsle(list_ts_target_test[5], inverse_pred_cov[5])))\n",
    "print(\"MAPE = {:.2f}% -Mean Absolute Percentage Error\".format(mape(list_ts_target_test[5], inverse_pred_cov[5])))"
   ]
  },
  {
   "cell_type": "code",
   "execution_count": 738,
   "metadata": {},
   "outputs": [
    {
     "name": "stdout",
     "output_type": "stream",
     "text": [
      "The average mae error is 3858.08\n"
     ]
    }
   ],
   "source": [
    "# r2_score\n",
    "\n",
    "list_accuracy_third = []\n",
    "for element in range(0,len(planning_group_names),5):\n",
    "    # print(element)\n",
    "    error = round(float(mae(list_ts_target_test[int(element)], inverse_pred_cov[int(element)])),2)\n",
    "    list_accuracy_third.append(error)\n",
    "# print(list_accuracy_second)\n",
    "sum_list_third = sum(list_accuracy_third)\n",
    "len_list_third = len(list_accuracy_third)\n",
    "result_third = sum_list_third / len_list_third\n",
    "\n",
    "\n",
    "print(f'The average mae error is {result_third:.2f}')"
   ]
  },
  {
   "cell_type": "markdown",
   "metadata": {},
   "source": [
    "# Create a model for testing purposes and Hyperparameter optimization"
   ]
  },
  {
   "cell_type": "markdown",
   "metadata": {},
   "source": [
    "Load libraries"
   ]
  },
  {
   "cell_type": "code",
   "execution_count": 739,
   "metadata": {},
   "outputs": [],
   "source": [
    "import torch\n",
    "import random\n",
    "import numpy as np\n",
    "import matplotlib.pyplot as plt\n",
    "from tqdm.notebook import tqdm\n",
    "from pytorch_lightning.callbacks import Callback, EarlyStopping\n",
    "from sklearn.preprocessing import MaxAbsScaler\n",
    "\n",
    "from darts.datasets import ElectricityDataset\n",
    "from darts.models import TCNModel, LinearRegressionModel\n",
    "from darts.dataprocessing.transformers import Scaler\n",
    "from darts.metrics import smape\n",
    "from darts.utils.likelihood_models import GaussianLikelihood"
   ]
  },
  {
   "cell_type": "code",
   "execution_count": 740,
   "metadata": {},
   "outputs": [],
   "source": [
    "\"\"\" Implement a function to build and fit a TCN Model, which we will re-use later.\n",
    "\"\"\"\n",
    "\n",
    "\n",
    "def build_fit_tcn_model(\n",
    "    in_len,\n",
    "    out_len,\n",
    "    # kernel_size,\n",
    "    num_filters,\n",
    "    weight_norm,\n",
    "    dilation_base,\n",
    "    dropout,\n",
    "    lr,\n",
    "    include_dayofweek,\n",
    "    likelihood=None,\n",
    "    callbacks=None,\n",
    "):\n",
    "\n",
    "    # reproducibility\n",
    "    torch.manual_seed(42)\n",
    "\n",
    "    # some fixed parameters that will be the same for all models\n",
    "    BATCH_SIZE = 1024\n",
    "    MAX_N_EPOCHS = 10\n",
    "    NR_EPOCHS_VAL_PERIOD = 1\n",
    "    MAX_SAMPLES_PER_TS = 1000\n",
    "\n",
    "    # optionally also add the day of the week (cyclically encoded) as a past covariate\n",
    "    encoders = {\"cyclic\": {\"past\": [\"dayofweek\"]}} if include_dayofweek else None\n",
    "\n",
    "    # build the TCN model\n",
    "    model = TCNModel(\n",
    "        input_chunk_length=in_len,\n",
    "        output_chunk_length=out_len,\n",
    "        batch_size=BATCH_SIZE,\n",
    "        n_epochs=MAX_N_EPOCHS,\n",
    "        nr_epochs_val_period=NR_EPOCHS_VAL_PERIOD,\n",
    "        num_filters=num_filters,\n",
    "        weight_norm=weight_norm,\n",
    "        dilation_base=dilation_base,\n",
    "        dropout=dropout,\n",
    "        optimizer_kwargs={\"lr\": lr},\n",
    "        add_encoders=encoders,\n",
    "        likelihood=likelihood,\n",
    "        model_name=\"tcn_model\",\n",
    "        force_reset=True,\n",
    "        save_checkpoints=True,\n",
    "    )\n",
    "\n",
    "    # train the model\n",
    "    model.fit(\n",
    "        series = target_train,\n",
    "        past_covariates = features_past_covariates,\n",
    "        max_samples_per_ts = MAX_SAMPLES_PER_TS,\n",
    "    )\n",
    "\n",
    "    return model"
   ]
  },
  {
   "cell_type": "code",
   "execution_count": 741,
   "metadata": {},
   "outputs": [
    {
     "name": "stderr",
     "output_type": "stream",
     "text": [
      "GPU available: False, used: False\n",
      "TPU available: False, using: 0 TPU cores\n",
      "IPU available: False, using: 0 IPUs\n",
      "HPU available: False, using: 0 HPUs\n",
      "\n",
      "  | Name          | Type              | Params\n",
      "----------------------------------------------------\n",
      "0 | criterion     | MSELoss           | 0     \n",
      "1 | train_metrics | MetricCollection  | 0     \n",
      "2 | val_metrics   | MetricCollection  | 0     \n",
      "3 | dropout       | MonteCarloDropout | 0     \n",
      "4 | res_blocks    | ModuleList        | 452   \n",
      "----------------------------------------------------\n",
      "452       Trainable params\n",
      "0         Non-trainable params\n",
      "452       Total params\n",
      "0.004     Total estimated model params size (MB)\n"
     ]
    },
    {
     "data": {
      "application/vnd.jupyter.widget-view+json": {
       "model_id": "6f2e7cc3437f4e3bb7a36fcf97fc4964",
       "version_major": 2,
       "version_minor": 0
      },
      "text/plain": [
       "Training: 0it [00:00, ?it/s]"
      ]
     },
     "metadata": {},
     "output_type": "display_data"
    },
    {
     "name": "stderr",
     "output_type": "stream",
     "text": [
      "`Trainer.fit` stopped: `max_epochs=10` reached.\n"
     ]
    }
   ],
   "source": [
    "model = build_fit_tcn_model(\n",
    "    in_len=input_chunk,\n",
    "    out_len=output_chunk,\n",
    "    num_filters=5,\n",
    "    weight_norm=False,\n",
    "    dilation_base=2,\n",
    "    dropout=0.2,\n",
    "    lr=1e-3,\n",
    "    include_dayofweek=False,\n",
    ")"
   ]
  },
  {
   "cell_type": "code",
   "execution_count": 742,
   "metadata": {},
   "outputs": [
    {
     "data": {
      "application/vnd.jupyter.widget-view+json": {
       "model_id": "f9ca0435c6f04bea8576c2a46725548e",
       "version_major": 2,
       "version_minor": 0
      },
      "text/plain": [
       "Predicting: 16it [00:00, ?it/s]"
      ]
     },
     "metadata": {},
     "output_type": "display_data"
    }
   ],
   "source": [
    "preds = model.predict(series=target_train, n=6, past_covariates = features_past_covariates)\n"
   ]
  },
  {
   "cell_type": "code",
   "execution_count": 743,
   "metadata": {},
   "outputs": [],
   "source": [
    "def eval_model(preds, name, train_set=target_train, val_set=list_ts_target_test):\n",
    "    smapes = smape(preds, val_set)\n",
    "    print(\"{} sMAPE: {:.2f} +- {:.2f}\".format(name, np.mean(smapes), np.std(smapes)))\n",
    "\n",
    "    for i in [1, 2, 3, 4, 5]:\n",
    "        plt.figure(figsize=(15, 5))\n",
    "        train_set[i].plot()\n",
    "        val_set[i].plot(label=\"actual\")\n",
    "        preds[i].plot(label=\"forecast\")"
   ]
  },
  {
   "cell_type": "code",
   "execution_count": 744,
   "metadata": {},
   "outputs": [
    {
     "name": "stdout",
     "output_type": "stream",
     "text": [
      "First TCN model sMAPE: 193.78 +- 23.54\n"
     ]
    },
    {
     "data": {
      "image/png": "[encoded data removed]",
      "text/plain": [
       "<Figure size 1080x360 with 1 Axes>"
      ]
     },
     "metadata": {
      "needs_background": "light"
     },
     "output_type": "display_data"
    },
    {
     "data": {
      "image/png": "[encoded data removed]",
      "text/plain": [
       "<Figure size 1080x360 with 1 Axes>"
      ]
     },
     "metadata": {
      "needs_background": "light"
     },
     "output_type": "display_data"
    },
    {
     "data": {
      "image/png": "[encoded data removed]",
      "text/plain": [
       "<Figure size 1080x360 with 1 Axes>"
      ]
     },
     "metadata": {
      "needs_background": "light"
     },
     "output_type": "display_data"
    },
    {
     "data": {
      "image/png": "[encoded data removed]",
      "text/plain": [
       "<Figure size 1080x360 with 1 Axes>"
      ]
     },
     "metadata": {
      "needs_background": "light"
     },
     "output_type": "display_data"
    },
    {
     "data": {
      "image/png": "[encoded data removed]",
      "text/plain": [
       "<Figure size 1080x360 with 1 Axes>"
      ]
     },
     "metadata": {
      "needs_background": "light"
     },
     "output_type": "display_data"
    }
   ],
   "source": [
    "eval_model(preds, \"First TCN model\")"
   ]
  },
  {
   "cell_type": "markdown",
   "metadata": {},
   "source": [
    "Hyperparameter optimization using Optuna (https://optuna.org)"
   ]
  },
  {
   "cell_type": "code",
   "execution_count": 745,
   "metadata": {},
   "outputs": [],
   "source": [
    "import optuna\n",
    "from optuna.integration import PyTorchLightningPruningCallback\n",
    "from pytorch_lightning.callbacks import EarlyStopping\n"
   ]
  },
  {
   "cell_type": "code",
   "execution_count": 746,
   "metadata": {},
   "outputs": [],
   "source": [
    "def objective(trial):\n",
    "    callback = [PyTorchLightningPruningCallback(trial, monitor=\"val_loss\")]\n",
    "\n",
    "    # set input_chunk_length, between 3 and 12 days\n",
    "    input_chunk = trial.suggest_int(\"input_chunk\", 7, 10)\n",
    "\n",
    "    \n",
    "    output_chunk = trial.suggest_int(\"output_chunk\", 6, 6)\n",
    "\n",
    "    # Other hyperparameters\n",
    "    num_filters = trial.suggest_int(\"num_filters\", 5, 25)\n",
    "    weight_norm = trial.suggest_categorical(\"weight_norm\", [False, True])\n",
    "    dilation_base = trial.suggest_int(\"dilation_base\", 2, 4)\n",
    "    dropout = trial.suggest_float(\"dropout\", 0.0, 0.4)\n",
    "    lr = trial.suggest_float(\"lr\", 5e-5, 1e-3, log=True)\n",
    "    include_dayofweek = trial.suggest_categorical(\"dayofweek\", [False, True])\n",
    "\n",
    "    # build and train the TCN model with these hyper-parameters:\n",
    "    model = build_fit_tcn_model(\n",
    "        in_len=input_chunk,\n",
    "        out_len=output_chunk,\n",
    "        num_filters=num_filters,\n",
    "        weight_norm=weight_norm,\n",
    "        dilation_base=dilation_base,\n",
    "        dropout=dropout,\n",
    "        lr=lr,\n",
    "        include_dayofweek=include_dayofweek,\n",
    "        callbacks=callback,\n",
    "    )\n",
    "\n",
    "    # Evaluate how good it is on the validation set\n",
    "    preds = model.predict(series=target_train, n=6, past_covariates = features_past_covariates)\n",
    "    smapes = smape(list_ts_target_test, preds, n_jobs=-1, verbose=True)\n",
    "    smape_val = np.mean(smapes)\n",
    "\n",
    "    return smape_val if smape_val != np.nan else float(\"inf\")"
   ]
  },
  {
   "cell_type": "markdown",
   "metadata": {},
   "source": [
    "I print the results, the best values and the best parameters"
   ]
  },
  {
   "cell_type": "code",
   "execution_count": 747,
   "metadata": {},
   "outputs": [
    {
     "name": "stderr",
     "output_type": "stream",
     "text": [
      "\u001b[32m[I 2022-11-25 11:12:26,820]\u001b[0m A new study created in memory with name: no-name-b7f93550-a647-49fc-a6ae-b76f4680f88c\u001b[0m\n",
      "GPU available: False, used: False\n",
      "TPU available: False, using: 0 TPU cores\n",
      "IPU available: False, using: 0 IPUs\n",
      "HPU available: False, using: 0 HPUs\n",
      "\n",
      "  | Name          | Type              | Params\n",
      "----------------------------------------------------\n",
      "0 | criterion     | MSELoss           | 0     \n",
      "1 | train_metrics | MetricCollection  | 0     \n",
      "2 | val_metrics   | MetricCollection  | 0     \n",
      "3 | dropout       | MonteCarloDropout | 0     \n",
      "4 | res_blocks    | ModuleList        | 772   \n",
      "----------------------------------------------------\n",
      "772       Trainable params\n",
      "0         Non-trainable params\n",
      "772       Total params\n",
      "0.006     Total estimated model params size (MB)\n"
     ]
    },
    {
     "data": {
      "application/vnd.jupyter.widget-view+json": {
       "model_id": "c8a2479a8d0c4449befe2f83977ab24d",
       "version_major": 2,
       "version_minor": 0
      },
      "text/plain": [
       "Training: 0it [00:00, ?it/s]"
      ]
     },
     "metadata": {},
     "output_type": "display_data"
    },
    {
     "name": "stderr",
     "output_type": "stream",
     "text": [
      "`Trainer.fit` stopped: `max_epochs=10` reached.\n"
     ]
    },
    {
     "data": {
      "application/vnd.jupyter.widget-view+json": {
       "model_id": "a3d6dd449dfa4520be387dedf7fe2c65",
       "version_major": 2,
       "version_minor": 0
      },
      "text/plain": [
       "Predicting: 16it [00:00, ?it/s]"
      ]
     },
     "metadata": {},
     "output_type": "display_data"
    },
    {
     "data": {
      "application/vnd.jupyter.widget-view+json": {
       "model_id": "3569126840b147228f6f4c060ad5a39a",
       "version_major": 2,
       "version_minor": 0
      },
      "text/plain": [
       "  0%|          | 0/16 [00:00<?, ?it/s]"
      ]
     },
     "metadata": {},
     "output_type": "display_data"
    },
    {
     "name": "stderr",
     "output_type": "stream",
     "text": [
      "\u001b[32m[I 2022-11-25 11:13:24,927]\u001b[0m Trial 0 finished with value: 195.0747809997962 and parameters: {'input_chunk': 9, 'output_chunk': 6, 'num_filters': 7, 'weight_norm': False, 'dilation_base': 3, 'dropout': 0.15739973444599353, 'lr': 7.20900244177147e-05, 'dayofweek': True}. Best is trial 0 with value: 195.0747809997962.\u001b[0m\n"
     ]
    },
    {
     "name": "stdout",
     "output_type": "stream",
     "text": [
      "Current value: 195.0747809997962, Current params: {'input_chunk': 9, 'output_chunk': 6, 'num_filters': 7, 'weight_norm': False, 'dilation_base': 3, 'dropout': 0.15739973444599353, 'lr': 7.20900244177147e-05, 'dayofweek': True}\n",
      "Best value: 195.0747809997962, Best params: {'input_chunk': 9, 'output_chunk': 6, 'num_filters': 7, 'weight_norm': False, 'dilation_base': 3, 'dropout': 0.15739973444599353, 'lr': 7.20900244177147e-05, 'dayofweek': True}\n"
     ]
    },
    {
     "name": "stderr",
     "output_type": "stream",
     "text": [
      "GPU available: False, used: False\n",
      "TPU available: False, using: 0 TPU cores\n",
      "IPU available: False, using: 0 IPUs\n",
      "HPU available: False, using: 0 HPUs\n",
      "\n",
      "  | Name          | Type              | Params\n",
      "----------------------------------------------------\n",
      "0 | criterion     | MSELoss           | 0     \n",
      "1 | train_metrics | MetricCollection  | 0     \n",
      "2 | val_metrics   | MetricCollection  | 0     \n",
      "3 | dropout       | MonteCarloDropout | 0     \n",
      "4 | res_blocks    | ModuleList        | 5.1 K \n",
      "----------------------------------------------------\n",
      "5.1 K     Trainable params\n",
      "0         Non-trainable params\n",
      "5.1 K     Total params\n",
      "0.041     Total estimated model params size (MB)\n"
     ]
    },
    {
     "data": {
      "application/vnd.jupyter.widget-view+json": {
       "model_id": "3269120786294453aa10ff54a65396f4",
       "version_major": 2,
       "version_minor": 0
      },
      "text/plain": [
       "Training: 0it [00:00, ?it/s]"
      ]
     },
     "metadata": {},
     "output_type": "display_data"
    },
    {
     "name": "stderr",
     "output_type": "stream",
     "text": [
      "`Trainer.fit` stopped: `max_epochs=10` reached.\n"
     ]
    },
    {
     "data": {
      "application/vnd.jupyter.widget-view+json": {
       "model_id": "6de8907a9a3d4a16ab2399c4496dd8e4",
       "version_major": 2,
       "version_minor": 0
      },
      "text/plain": [
       "Predicting: 16it [00:00, ?it/s]"
      ]
     },
     "metadata": {},
     "output_type": "display_data"
    },
    {
     "data": {
      "application/vnd.jupyter.widget-view+json": {
       "model_id": "dfe22ffcc1fb469b8752f79e965f2ef0",
       "version_major": 2,
       "version_minor": 0
      },
      "text/plain": [
       "  0%|          | 0/16 [00:00<?, ?it/s]"
      ]
     },
     "metadata": {},
     "output_type": "display_data"
    },
    {
     "name": "stderr",
     "output_type": "stream",
     "text": [
      "\u001b[32m[I 2022-11-25 11:14:29,831]\u001b[0m Trial 1 finished with value: 190.20033717362958 and parameters: {'input_chunk': 9, 'output_chunk': 6, 'num_filters': 24, 'weight_norm': False, 'dilation_base': 4, 'dropout': 0.12538565855886175, 'lr': 0.00010782501466044544, 'dayofweek': True}. Best is trial 1 with value: 190.20033717362958.\u001b[0m\n",
      "GPU available: False, used: False\n",
      "TPU available: False, using: 0 TPU cores\n",
      "IPU available: False, using: 0 IPUs\n",
      "HPU available: False, using: 0 HPUs\n",
      "\n",
      "  | Name          | Type              | Params\n",
      "----------------------------------------------------\n",
      "0 | criterion     | MSELoss           | 0     \n",
      "1 | train_metrics | MetricCollection  | 0     \n",
      "2 | val_metrics   | MetricCollection  | 0     \n",
      "3 | dropout       | MonteCarloDropout | 0     \n",
      "4 | res_blocks    | ModuleList        | 3.1 K \n",
      "----------------------------------------------------\n",
      "3.1 K     Trainable params\n",
      "0         Non-trainable params\n",
      "3.1 K     Total params\n",
      "0.025     Total estimated model params size (MB)\n"
     ]
    },
    {
     "name": "stdout",
     "output_type": "stream",
     "text": [
      "Current value: 190.20033717362958, Current params: {'input_chunk': 9, 'output_chunk': 6, 'num_filters': 24, 'weight_norm': False, 'dilation_base': 4, 'dropout': 0.12538565855886175, 'lr': 0.00010782501466044544, 'dayofweek': True}\n",
      "Best value: 190.20033717362958, Best params: {'input_chunk': 9, 'output_chunk': 6, 'num_filters': 24, 'weight_norm': False, 'dilation_base': 4, 'dropout': 0.12538565855886175, 'lr': 0.00010782501466044544, 'dayofweek': True}\n"
     ]
    },
    {
     "data": {
      "application/vnd.jupyter.widget-view+json": {
       "model_id": "a1916edbb4464e489d633f3922844576",
       "version_major": 2,
       "version_minor": 0
      },
      "text/plain": [
       "Training: 0it [00:00, ?it/s]"
      ]
     },
     "metadata": {},
     "output_type": "display_data"
    },
    {
     "name": "stderr",
     "output_type": "stream",
     "text": [
      "`Trainer.fit` stopped: `max_epochs=10` reached.\n"
     ]
    },
    {
     "data": {
      "application/vnd.jupyter.widget-view+json": {
       "model_id": "5cc722ea9dfc4e78aeba7f3565779fc8",
       "version_major": 2,
       "version_minor": 0
      },
      "text/plain": [
       "Predicting: 16it [00:00, ?it/s]"
      ]
     },
     "metadata": {},
     "output_type": "display_data"
    },
    {
     "data": {
      "application/vnd.jupyter.widget-view+json": {
       "model_id": "be6beaeb2db244b79efdf7704b9705d7",
       "version_major": 2,
       "version_minor": 0
      },
      "text/plain": [
       "  0%|          | 0/16 [00:00<?, ?it/s]"
      ]
     },
     "metadata": {},
     "output_type": "display_data"
    },
    {
     "name": "stderr",
     "output_type": "stream",
     "text": [
      "\u001b[32m[I 2022-11-25 11:15:29,168]\u001b[0m Trial 2 finished with value: 196.00905235575465 and parameters: {'input_chunk': 10, 'output_chunk': 6, 'num_filters': 18, 'weight_norm': True, 'dilation_base': 2, 'dropout': 0.019712046901750525, 'lr': 0.0003318107424659455, 'dayofweek': False}. Best is trial 1 with value: 190.20033717362958.\u001b[0m\n",
      "GPU available: False, used: False\n",
      "TPU available: False, using: 0 TPU cores\n",
      "IPU available: False, using: 0 IPUs\n",
      "HPU available: False, using: 0 HPUs\n",
      "\n",
      "  | Name          | Type              | Params\n",
      "----------------------------------------------------\n",
      "0 | criterion     | MSELoss           | 0     \n",
      "1 | train_metrics | MetricCollection  | 0     \n",
      "2 | val_metrics   | MetricCollection  | 0     \n",
      "3 | dropout       | MonteCarloDropout | 0     \n",
      "4 | res_blocks    | ModuleList        | 578   \n",
      "----------------------------------------------------\n",
      "578       Trainable params\n",
      "0         Non-trainable params\n",
      "578       Total params\n",
      "0.005     Total estimated model params size (MB)\n"
     ]
    },
    {
     "name": "stdout",
     "output_type": "stream",
     "text": [
      "Current value: 196.00905235575465, Current params: {'input_chunk': 10, 'output_chunk': 6, 'num_filters': 18, 'weight_norm': True, 'dilation_base': 2, 'dropout': 0.019712046901750525, 'lr': 0.0003318107424659455, 'dayofweek': False}\n",
      "Best value: 190.20033717362958, Best params: {'input_chunk': 9, 'output_chunk': 6, 'num_filters': 24, 'weight_norm': False, 'dilation_base': 4, 'dropout': 0.12538565855886175, 'lr': 0.00010782501466044544, 'dayofweek': True}\n"
     ]
    },
    {
     "data": {
      "application/vnd.jupyter.widget-view+json": {
       "model_id": "92d09273205c47fba0c39070e17d534b",
       "version_major": 2,
       "version_minor": 0
      },
      "text/plain": [
       "Training: 0it [00:00, ?it/s]"
      ]
     },
     "metadata": {},
     "output_type": "display_data"
    },
    {
     "name": "stderr",
     "output_type": "stream",
     "text": [
      "`Trainer.fit` stopped: `max_epochs=10` reached.\n"
     ]
    },
    {
     "data": {
      "application/vnd.jupyter.widget-view+json": {
       "model_id": "a3a9811470bd4b6cb0fa2655e7b65a9c",
       "version_major": 2,
       "version_minor": 0
      },
      "text/plain": [
       "Predicting: 16it [00:00, ?it/s]"
      ]
     },
     "metadata": {},
     "output_type": "display_data"
    },
    {
     "data": {
      "application/vnd.jupyter.widget-view+json": {
       "model_id": "79d267af4a7e4cf2ad6418b193021818",
       "version_major": 2,
       "version_minor": 0
      },
      "text/plain": [
       "  0%|          | 0/16 [00:00<?, ?it/s]"
      ]
     },
     "metadata": {},
     "output_type": "display_data"
    },
    {
     "name": "stderr",
     "output_type": "stream",
     "text": [
      "\u001b[32m[I 2022-11-25 11:16:22,964]\u001b[0m Trial 3 finished with value: 191.50485518077653 and parameters: {'input_chunk': 10, 'output_chunk': 6, 'num_filters': 6, 'weight_norm': False, 'dilation_base': 3, 'dropout': 0.02458502011541044, 'lr': 0.00013373785180054436, 'dayofweek': False}. Best is trial 1 with value: 190.20033717362958.\u001b[0m\n",
      "GPU available: False, used: False\n",
      "TPU available: False, using: 0 TPU cores\n",
      "IPU available: False, using: 0 IPUs\n",
      "HPU available: False, using: 0 HPUs\n",
      "\n",
      "  | Name          | Type              | Params\n",
      "----------------------------------------------------\n",
      "0 | criterion     | MSELoss           | 0     \n",
      "1 | train_metrics | MetricCollection  | 0     \n",
      "2 | val_metrics   | MetricCollection  | 0     \n",
      "3 | dropout       | MonteCarloDropout | 0     \n",
      "4 | res_blocks    | ModuleList        | 468   \n",
      "----------------------------------------------------\n",
      "468       Trainable params\n",
      "0         Non-trainable params\n",
      "468       Total params\n",
      "0.004     Total estimated model params size (MB)\n"
     ]
    },
    {
     "name": "stdout",
     "output_type": "stream",
     "text": [
      "Current value: 191.50485518077653, Current params: {'input_chunk': 10, 'output_chunk': 6, 'num_filters': 6, 'weight_norm': False, 'dilation_base': 3, 'dropout': 0.02458502011541044, 'lr': 0.00013373785180054436, 'dayofweek': False}\n",
      "Best value: 190.20033717362958, Best params: {'input_chunk': 9, 'output_chunk': 6, 'num_filters': 24, 'weight_norm': False, 'dilation_base': 4, 'dropout': 0.12538565855886175, 'lr': 0.00010782501466044544, 'dayofweek': True}\n"
     ]
    },
    {
     "data": {
      "application/vnd.jupyter.widget-view+json": {
       "model_id": "762b52bd0a6348a39cd0d7da5b949617",
       "version_major": 2,
       "version_minor": 0
      },
      "text/plain": [
       "Training: 0it [00:00, ?it/s]"
      ]
     },
     "metadata": {},
     "output_type": "display_data"
    },
    {
     "name": "stderr",
     "output_type": "stream",
     "text": [
      "`Trainer.fit` stopped: `max_epochs=10` reached.\n"
     ]
    },
    {
     "data": {
      "application/vnd.jupyter.widget-view+json": {
       "model_id": "3d211375030f4e99b00188a8b1066110",
       "version_major": 2,
       "version_minor": 0
      },
      "text/plain": [
       "Predicting: 16it [00:00, ?it/s]"
      ]
     },
     "metadata": {},
     "output_type": "display_data"
    },
    {
     "data": {
      "application/vnd.jupyter.widget-view+json": {
       "model_id": "e195f46e282d4ec4a02c5bfb4f36f202",
       "version_major": 2,
       "version_minor": 0
      },
      "text/plain": [
       "  0%|          | 0/16 [00:00<?, ?it/s]"
      ]
     },
     "metadata": {},
     "output_type": "display_data"
    },
    {
     "name": "stderr",
     "output_type": "stream",
     "text": [
      "\u001b[32m[I 2022-11-25 11:17:15,716]\u001b[0m Trial 4 finished with value: 194.65345392718132 and parameters: {'input_chunk': 7, 'output_chunk': 6, 'num_filters': 5, 'weight_norm': True, 'dilation_base': 2, 'dropout': 0.3308680793616745, 'lr': 7.052150481268392e-05, 'dayofweek': False}. Best is trial 1 with value: 190.20033717362958.\u001b[0m\n",
      "GPU available: False, used: False\n",
      "TPU available: False, using: 0 TPU cores\n",
      "IPU available: False, using: 0 IPUs\n",
      "HPU available: False, using: 0 HPUs\n",
      "\n",
      "  | Name          | Type              | Params\n",
      "----------------------------------------------------\n",
      "0 | criterion     | MSELoss           | 0     \n",
      "1 | train_metrics | MetricCollection  | 0     \n",
      "2 | val_metrics   | MetricCollection  | 0     \n",
      "3 | dropout       | MonteCarloDropout | 0     \n",
      "4 | res_blocks    | ModuleList        | 1.6 K \n",
      "----------------------------------------------------\n",
      "1.6 K     Trainable params\n",
      "0         Non-trainable params\n",
      "1.6 K     Total params\n",
      "0.013     Total estimated model params size (MB)\n"
     ]
    },
    {
     "name": "stdout",
     "output_type": "stream",
     "text": [
      "Current value: 194.65345392718132, Current params: {'input_chunk': 7, 'output_chunk': 6, 'num_filters': 5, 'weight_norm': True, 'dilation_base': 2, 'dropout': 0.3308680793616745, 'lr': 7.052150481268392e-05, 'dayofweek': False}\n",
      "Best value: 190.20033717362958, Best params: {'input_chunk': 9, 'output_chunk': 6, 'num_filters': 24, 'weight_norm': False, 'dilation_base': 4, 'dropout': 0.12538565855886175, 'lr': 0.00010782501466044544, 'dayofweek': True}\n"
     ]
    },
    {
     "data": {
      "application/vnd.jupyter.widget-view+json": {
       "model_id": "bb71896ef30848d89724ed577bec4585",
       "version_major": 2,
       "version_minor": 0
      },
      "text/plain": [
       "Training: 0it [00:00, ?it/s]"
      ]
     },
     "metadata": {},
     "output_type": "display_data"
    },
    {
     "name": "stderr",
     "output_type": "stream",
     "text": [
      "`Trainer.fit` stopped: `max_epochs=10` reached.\n"
     ]
    },
    {
     "data": {
      "application/vnd.jupyter.widget-view+json": {
       "model_id": "3ac55a4d4c634e2a94c6b9bf6fa1e02d",
       "version_major": 2,
       "version_minor": 0
      },
      "text/plain": [
       "Predicting: 16it [00:00, ?it/s]"
      ]
     },
     "metadata": {},
     "output_type": "display_data"
    },
    {
     "data": {
      "application/vnd.jupyter.widget-view+json": {
       "model_id": "3cbf432084bd4c4bbe6332048cb48a3a",
       "version_major": 2,
       "version_minor": 0
      },
      "text/plain": [
       "  0%|          | 0/16 [00:00<?, ?it/s]"
      ]
     },
     "metadata": {},
     "output_type": "display_data"
    },
    {
     "name": "stderr",
     "output_type": "stream",
     "text": [
      "\u001b[32m[I 2022-11-25 11:18:16,727]\u001b[0m Trial 5 finished with value: 197.9459137534841 and parameters: {'input_chunk': 8, 'output_chunk': 6, 'num_filters': 12, 'weight_norm': False, 'dilation_base': 3, 'dropout': 0.28550517878406134, 'lr': 0.0003585478869134543, 'dayofweek': False}. Best is trial 1 with value: 190.20033717362958.\u001b[0m\n"
     ]
    },
    {
     "name": "stdout",
     "output_type": "stream",
     "text": [
      "Current value: 197.9459137534841, Current params: {'input_chunk': 8, 'output_chunk': 6, 'num_filters': 12, 'weight_norm': False, 'dilation_base': 3, 'dropout': 0.28550517878406134, 'lr': 0.0003585478869134543, 'dayofweek': False}\n",
      "Best value: 190.20033717362958, Best params: {'input_chunk': 9, 'output_chunk': 6, 'num_filters': 24, 'weight_norm': False, 'dilation_base': 4, 'dropout': 0.12538565855886175, 'lr': 0.00010782501466044544, 'dayofweek': True}\n"
     ]
    },
    {
     "name": "stderr",
     "output_type": "stream",
     "text": [
      "GPU available: False, used: False\n",
      "TPU available: False, using: 0 TPU cores\n",
      "IPU available: False, using: 0 IPUs\n",
      "HPU available: False, using: 0 HPUs\n",
      "\n",
      "  | Name          | Type              | Params\n",
      "----------------------------------------------------\n",
      "0 | criterion     | MSELoss           | 0     \n",
      "1 | train_metrics | MetricCollection  | 0     \n",
      "2 | val_metrics   | MetricCollection  | 0     \n",
      "3 | dropout       | MonteCarloDropout | 0     \n",
      "4 | res_blocks    | ModuleList        | 5.1 K \n",
      "----------------------------------------------------\n",
      "5.1 K     Trainable params\n",
      "0         Non-trainable params\n",
      "5.1 K     Total params\n",
      "0.041     Total estimated model params size (MB)\n"
     ]
    },
    {
     "data": {
      "application/vnd.jupyter.widget-view+json": {
       "model_id": "73b2537882db4bb988c45e27ce08aa0b",
       "version_major": 2,
       "version_minor": 0
      },
      "text/plain": [
       "Training: 0it [00:00, ?it/s]"
      ]
     },
     "metadata": {},
     "output_type": "display_data"
    },
    {
     "name": "stderr",
     "output_type": "stream",
     "text": [
      "`Trainer.fit` stopped: `max_epochs=10` reached.\n"
     ]
    },
    {
     "data": {
      "application/vnd.jupyter.widget-view+json": {
       "model_id": "4cb9fdec1417499c83c12577429e44a8",
       "version_major": 2,
       "version_minor": 0
      },
      "text/plain": [
       "Predicting: 16it [00:00, ?it/s]"
      ]
     },
     "metadata": {},
     "output_type": "display_data"
    },
    {
     "data": {
      "application/vnd.jupyter.widget-view+json": {
       "model_id": "d3d4ec34b6b047f3a36bb3ad1f10fb67",
       "version_major": 2,
       "version_minor": 0
      },
      "text/plain": [
       "  0%|          | 0/16 [00:00<?, ?it/s]"
      ]
     },
     "metadata": {},
     "output_type": "display_data"
    },
    {
     "name": "stderr",
     "output_type": "stream",
     "text": [
      "\u001b[32m[I 2022-11-25 11:19:26,853]\u001b[0m Trial 6 finished with value: 196.5030227402966 and parameters: {'input_chunk': 7, 'output_chunk': 6, 'num_filters': 24, 'weight_norm': False, 'dilation_base': 4, 'dropout': 0.1766734000313996, 'lr': 0.00023992018746507509, 'dayofweek': True}. Best is trial 1 with value: 190.20033717362958.\u001b[0m\n",
      "GPU available: False, used: False\n",
      "TPU available: False, using: 0 TPU cores\n",
      "IPU available: False, using: 0 IPUs\n",
      "HPU available: False, using: 0 HPUs\n",
      "\n",
      "  | Name          | Type              | Params\n",
      "----------------------------------------------------\n",
      "0 | criterion     | MSELoss           | 0     \n",
      "1 | train_metrics | MetricCollection  | 0     \n",
      "2 | val_metrics   | MetricCollection  | 0     \n",
      "3 | dropout       | MonteCarloDropout | 0     \n",
      "4 | res_blocks    | ModuleList        | 3.1 K \n",
      "----------------------------------------------------\n",
      "3.1 K     Trainable params\n",
      "0         Non-trainable params\n",
      "3.1 K     Total params\n",
      "0.025     Total estimated model params size (MB)\n"
     ]
    },
    {
     "name": "stdout",
     "output_type": "stream",
     "text": [
      "Current value: 196.5030227402966, Current params: {'input_chunk': 7, 'output_chunk': 6, 'num_filters': 24, 'weight_norm': False, 'dilation_base': 4, 'dropout': 0.1766734000313996, 'lr': 0.00023992018746507509, 'dayofweek': True}\n",
      "Best value: 190.20033717362958, Best params: {'input_chunk': 9, 'output_chunk': 6, 'num_filters': 24, 'weight_norm': False, 'dilation_base': 4, 'dropout': 0.12538565855886175, 'lr': 0.00010782501466044544, 'dayofweek': True}\n"
     ]
    },
    {
     "data": {
      "application/vnd.jupyter.widget-view+json": {
       "model_id": "cfd2f3f6fa114f779677090632c768e3",
       "version_major": 2,
       "version_minor": 0
      },
      "text/plain": [
       "Training: 0it [00:00, ?it/s]"
      ]
     },
     "metadata": {},
     "output_type": "display_data"
    },
    {
     "name": "stderr",
     "output_type": "stream",
     "text": [
      "`Trainer.fit` stopped: `max_epochs=10` reached.\n"
     ]
    },
    {
     "data": {
      "application/vnd.jupyter.widget-view+json": {
       "model_id": "cdd585c1b05c4a329622244a8315cb10",
       "version_major": 2,
       "version_minor": 0
      },
      "text/plain": [
       "Predicting: 16it [00:00, ?it/s]"
      ]
     },
     "metadata": {},
     "output_type": "display_data"
    },
    {
     "data": {
      "application/vnd.jupyter.widget-view+json": {
       "model_id": "ab1f8ea42dba4c9e99c5f920464ceda9",
       "version_major": 2,
       "version_minor": 0
      },
      "text/plain": [
       "  0%|          | 0/16 [00:00<?, ?it/s]"
      ]
     },
     "metadata": {},
     "output_type": "display_data"
    },
    {
     "name": "stderr",
     "output_type": "stream",
     "text": [
      "\u001b[32m[I 2022-11-25 11:20:30,743]\u001b[0m Trial 7 finished with value: 191.1215726723005 and parameters: {'input_chunk': 7, 'output_chunk': 6, 'num_filters': 18, 'weight_norm': True, 'dilation_base': 4, 'dropout': 0.34788884066984566, 'lr': 0.00016345956933425955, 'dayofweek': False}. Best is trial 1 with value: 190.20033717362958.\u001b[0m\n"
     ]
    },
    {
     "name": "stdout",
     "output_type": "stream",
     "text": [
      "Current value: 191.1215726723005, Current params: {'input_chunk': 7, 'output_chunk': 6, 'num_filters': 18, 'weight_norm': True, 'dilation_base': 4, 'dropout': 0.34788884066984566, 'lr': 0.00016345956933425955, 'dayofweek': False}\n",
      "Best value: 190.20033717362958, Best params: {'input_chunk': 9, 'output_chunk': 6, 'num_filters': 24, 'weight_norm': False, 'dilation_base': 4, 'dropout': 0.12538565855886175, 'lr': 0.00010782501466044544, 'dayofweek': True}\n"
     ]
    },
    {
     "name": "stderr",
     "output_type": "stream",
     "text": [
      "GPU available: False, used: False\n",
      "TPU available: False, using: 0 TPU cores\n",
      "IPU available: False, using: 0 IPUs\n",
      "HPU available: False, using: 0 HPUs\n",
      "\n",
      "  | Name          | Type              | Params\n",
      "----------------------------------------------------\n",
      "0 | criterion     | MSELoss           | 0     \n",
      "1 | train_metrics | MetricCollection  | 0     \n",
      "2 | val_metrics   | MetricCollection  | 0     \n",
      "3 | dropout       | MonteCarloDropout | 0     \n",
      "4 | res_blocks    | ModuleList        | 2.1 K \n",
      "----------------------------------------------------\n",
      "2.1 K     Trainable params\n",
      "0         Non-trainable params\n",
      "2.1 K     Total params\n",
      "0.017     Total estimated model params size (MB)\n"
     ]
    },
    {
     "data": {
      "application/vnd.jupyter.widget-view+json": {
       "model_id": "0fa1f0fa37d04195964feaeec1741f44",
       "version_major": 2,
       "version_minor": 0
      },
      "text/plain": [
       "Training: 0it [00:00, ?it/s]"
      ]
     },
     "metadata": {},
     "output_type": "display_data"
    },
    {
     "name": "stderr",
     "output_type": "stream",
     "text": [
      "`Trainer.fit` stopped: `max_epochs=10` reached.\n"
     ]
    },
    {
     "data": {
      "application/vnd.jupyter.widget-view+json": {
       "model_id": "a2017090ce3840b3b19ece95eff20ae7",
       "version_major": 2,
       "version_minor": 0
      },
      "text/plain": [
       "Predicting: 16it [00:00, ?it/s]"
      ]
     },
     "metadata": {},
     "output_type": "display_data"
    },
    {
     "data": {
      "application/vnd.jupyter.widget-view+json": {
       "model_id": "2c19a4dd942a4ebfa2d682699286b6bf",
       "version_major": 2,
       "version_minor": 0
      },
      "text/plain": [
       "  0%|          | 0/16 [00:00<?, ?it/s]"
      ]
     },
     "metadata": {},
     "output_type": "display_data"
    },
    {
     "name": "stderr",
     "output_type": "stream",
     "text": [
      "\u001b[32m[I 2022-11-25 11:21:25,550]\u001b[0m Trial 8 finished with value: 199.27381346388592 and parameters: {'input_chunk': 8, 'output_chunk': 6, 'num_filters': 15, 'weight_norm': False, 'dilation_base': 2, 'dropout': 0.07172396671188608, 'lr': 0.0004428631566589165, 'dayofweek': True}. Best is trial 1 with value: 190.20033717362958.\u001b[0m\n",
      "GPU available: False, used: False\n",
      "TPU available: False, using: 0 TPU cores\n",
      "IPU available: False, using: 0 IPUs\n",
      "HPU available: False, using: 0 HPUs\n",
      "\n",
      "  | Name          | Type              | Params\n",
      "----------------------------------------------------\n",
      "0 | criterion     | MSELoss           | 0     \n",
      "1 | train_metrics | MetricCollection  | 0     \n",
      "2 | val_metrics   | MetricCollection  | 0     \n",
      "3 | dropout       | MonteCarloDropout | 0     \n",
      "4 | res_blocks    | ModuleList        | 2.5 K \n",
      "----------------------------------------------------\n",
      "2.5 K     Trainable params\n",
      "0         Non-trainable params\n",
      "2.5 K     Total params\n",
      "0.020     Total estimated model params size (MB)\n"
     ]
    },
    {
     "name": "stdout",
     "output_type": "stream",
     "text": [
      "Current value: 199.27381346388592, Current params: {'input_chunk': 8, 'output_chunk': 6, 'num_filters': 15, 'weight_norm': False, 'dilation_base': 2, 'dropout': 0.07172396671188608, 'lr': 0.0004428631566589165, 'dayofweek': True}\n",
      "Best value: 190.20033717362958, Best params: {'input_chunk': 9, 'output_chunk': 6, 'num_filters': 24, 'weight_norm': False, 'dilation_base': 4, 'dropout': 0.12538565855886175, 'lr': 0.00010782501466044544, 'dayofweek': True}\n"
     ]
    },
    {
     "data": {
      "application/vnd.jupyter.widget-view+json": {
       "model_id": "60b87f9bbbac423c831a033eb2b291bf",
       "version_major": 2,
       "version_minor": 0
      },
      "text/plain": [
       "Training: 0it [00:00, ?it/s]"
      ]
     },
     "metadata": {},
     "output_type": "display_data"
    },
    {
     "name": "stderr",
     "output_type": "stream",
     "text": [
      "`Trainer.fit` stopped: `max_epochs=10` reached.\n"
     ]
    },
    {
     "data": {
      "application/vnd.jupyter.widget-view+json": {
       "model_id": "002d667e991745e5a55db5a51db870d3",
       "version_major": 2,
       "version_minor": 0
      },
      "text/plain": [
       "Predicting: 16it [00:00, ?it/s]"
      ]
     },
     "metadata": {},
     "output_type": "display_data"
    },
    {
     "data": {
      "application/vnd.jupyter.widget-view+json": {
       "model_id": "956fc9ef2914487583100a361e3af3eb",
       "version_major": 2,
       "version_minor": 0
      },
      "text/plain": [
       "  0%|          | 0/16 [00:00<?, ?it/s]"
      ]
     },
     "metadata": {},
     "output_type": "display_data"
    },
    {
     "name": "stderr",
     "output_type": "stream",
     "text": [
      "\u001b[32m[I 2022-11-25 11:22:23,803]\u001b[0m Trial 9 finished with value: 199.87244334954974 and parameters: {'input_chunk': 9, 'output_chunk': 6, 'num_filters': 16, 'weight_norm': True, 'dilation_base': 4, 'dropout': 0.15193122661103967, 'lr': 8.110965958803325e-05, 'dayofweek': False}. Best is trial 1 with value: 190.20033717362958.\u001b[0m\n"
     ]
    },
    {
     "name": "stdout",
     "output_type": "stream",
     "text": [
      "Current value: 199.87244334954974, Current params: {'input_chunk': 9, 'output_chunk': 6, 'num_filters': 16, 'weight_norm': True, 'dilation_base': 4, 'dropout': 0.15193122661103967, 'lr': 8.110965958803325e-05, 'dayofweek': False}\n",
      "Best value: 190.20033717362958, Best params: {'input_chunk': 9, 'output_chunk': 6, 'num_filters': 24, 'weight_norm': False, 'dilation_base': 4, 'dropout': 0.12538565855886175, 'lr': 0.00010782501466044544, 'dayofweek': True}\n"
     ]
    },
    {
     "name": "stderr",
     "output_type": "stream",
     "text": [
      "GPU available: False, used: False\n",
      "TPU available: False, using: 0 TPU cores\n",
      "IPU available: False, using: 0 IPUs\n",
      "HPU available: False, using: 0 HPUs\n",
      "\n",
      "  | Name          | Type              | Params\n",
      "----------------------------------------------------\n",
      "0 | criterion     | MSELoss           | 0     \n",
      "1 | train_metrics | MetricCollection  | 0     \n",
      "2 | val_metrics   | MetricCollection  | 0     \n",
      "3 | dropout       | MonteCarloDropout | 0     \n",
      "4 | res_blocks    | ModuleList        | 5.1 K \n",
      "----------------------------------------------------\n",
      "5.1 K     Trainable params\n",
      "0         Non-trainable params\n",
      "5.1 K     Total params\n",
      "0.041     Total estimated model params size (MB)\n"
     ]
    },
    {
     "data": {
      "application/vnd.jupyter.widget-view+json": {
       "model_id": "ca67b86074b04f499c6d6e7f6d398ea9",
       "version_major": 2,
       "version_minor": 0
      },
      "text/plain": [
       "Training: 0it [00:00, ?it/s]"
      ]
     },
     "metadata": {},
     "output_type": "display_data"
    },
    {
     "name": "stderr",
     "output_type": "stream",
     "text": [
      "`Trainer.fit` stopped: `max_epochs=10` reached.\n"
     ]
    },
    {
     "data": {
      "application/vnd.jupyter.widget-view+json": {
       "model_id": "645f416a610a45a6a8a136d49d8b4649",
       "version_major": 2,
       "version_minor": 0
      },
      "text/plain": [
       "Predicting: 16it [00:00, ?it/s]"
      ]
     },
     "metadata": {},
     "output_type": "display_data"
    },
    {
     "data": {
      "application/vnd.jupyter.widget-view+json": {
       "model_id": "cdf9941d1d7e4c59bb14771d9dd2bd60",
       "version_major": 2,
       "version_minor": 0
      },
      "text/plain": [
       "  0%|          | 0/16 [00:00<?, ?it/s]"
      ]
     },
     "metadata": {},
     "output_type": "display_data"
    },
    {
     "name": "stderr",
     "output_type": "stream",
     "text": [
      "\u001b[32m[I 2022-11-25 11:23:26,296]\u001b[0m Trial 10 finished with value: 196.94166558070583 and parameters: {'input_chunk': 9, 'output_chunk': 6, 'num_filters': 24, 'weight_norm': False, 'dilation_base': 4, 'dropout': 0.25098799841394326, 'lr': 0.0008686168208937277, 'dayofweek': True}. Best is trial 1 with value: 190.20033717362958.\u001b[0m\n"
     ]
    },
    {
     "name": "stdout",
     "output_type": "stream",
     "text": [
      "Current value: 196.94166558070583, Current params: {'input_chunk': 9, 'output_chunk': 6, 'num_filters': 24, 'weight_norm': False, 'dilation_base': 4, 'dropout': 0.25098799841394326, 'lr': 0.0008686168208937277, 'dayofweek': True}\n",
      "Best value: 190.20033717362958, Best params: {'input_chunk': 9, 'output_chunk': 6, 'num_filters': 24, 'weight_norm': False, 'dilation_base': 4, 'dropout': 0.12538565855886175, 'lr': 0.00010782501466044544, 'dayofweek': True}\n"
     ]
    },
    {
     "name": "stderr",
     "output_type": "stream",
     "text": [
      "GPU available: False, used: False\n",
      "TPU available: False, using: 0 TPU cores\n",
      "IPU available: False, using: 0 IPUs\n",
      "HPU available: False, using: 0 HPUs\n",
      "\n",
      "  | Name          | Type              | Params\n",
      "----------------------------------------------------\n",
      "0 | criterion     | MSELoss           | 0     \n",
      "1 | train_metrics | MetricCollection  | 0     \n",
      "2 | val_metrics   | MetricCollection  | 0     \n",
      "3 | dropout       | MonteCarloDropout | 0     \n",
      "4 | res_blocks    | ModuleList        | 3.8 K \n",
      "----------------------------------------------------\n",
      "3.8 K     Trainable params\n",
      "0         Non-trainable params\n",
      "3.8 K     Total params\n",
      "0.031     Total estimated model params size (MB)\n"
     ]
    },
    {
     "data": {
      "application/vnd.jupyter.widget-view+json": {
       "model_id": "084382452ce14665b165d4b1c9b47f0b",
       "version_major": 2,
       "version_minor": 0
      },
      "text/plain": [
       "Training: 0it [00:00, ?it/s]"
      ]
     },
     "metadata": {},
     "output_type": "display_data"
    },
    {
     "name": "stderr",
     "output_type": "stream",
     "text": [
      "`Trainer.fit` stopped: `max_epochs=10` reached.\n"
     ]
    },
    {
     "data": {
      "application/vnd.jupyter.widget-view+json": {
       "model_id": "80b2b3d59e2346eca0b65006aae503cb",
       "version_major": 2,
       "version_minor": 0
      },
      "text/plain": [
       "Predicting: 16it [00:00, ?it/s]"
      ]
     },
     "metadata": {},
     "output_type": "display_data"
    },
    {
     "data": {
      "application/vnd.jupyter.widget-view+json": {
       "model_id": "51384ea116764800aafdff919b36b12e",
       "version_major": 2,
       "version_minor": 0
      },
      "text/plain": [
       "  0%|          | 0/16 [00:00<?, ?it/s]"
      ]
     },
     "metadata": {},
     "output_type": "display_data"
    },
    {
     "name": "stderr",
     "output_type": "stream",
     "text": [
      "\u001b[32m[I 2022-11-25 11:24:25,267]\u001b[0m Trial 11 finished with value: 193.8365563320503 and parameters: {'input_chunk': 8, 'output_chunk': 6, 'num_filters': 20, 'weight_norm': True, 'dilation_base': 4, 'dropout': 0.10919360239871961, 'lr': 0.00014026105876849452, 'dayofweek': True}. Best is trial 1 with value: 190.20033717362958.\u001b[0m\n"
     ]
    },
    {
     "name": "stdout",
     "output_type": "stream",
     "text": [
      "Current value: 193.8365563320503, Current params: {'input_chunk': 8, 'output_chunk': 6, 'num_filters': 20, 'weight_norm': True, 'dilation_base': 4, 'dropout': 0.10919360239871961, 'lr': 0.00014026105876849452, 'dayofweek': True}\n",
      "Best value: 190.20033717362958, Best params: {'input_chunk': 9, 'output_chunk': 6, 'num_filters': 24, 'weight_norm': False, 'dilation_base': 4, 'dropout': 0.12538565855886175, 'lr': 0.00010782501466044544, 'dayofweek': True}\n"
     ]
    },
    {
     "name": "stderr",
     "output_type": "stream",
     "text": [
      "GPU available: False, used: False\n",
      "TPU available: False, using: 0 TPU cores\n",
      "IPU available: False, using: 0 IPUs\n",
      "HPU available: False, using: 0 HPUs\n",
      "\n",
      "  | Name          | Type              | Params\n",
      "----------------------------------------------------\n",
      "0 | criterion     | MSELoss           | 0     \n",
      "1 | train_metrics | MetricCollection  | 0     \n",
      "2 | val_metrics   | MetricCollection  | 0     \n",
      "3 | dropout       | MonteCarloDropout | 0     \n",
      "4 | res_blocks    | ModuleList        | 4.1 K \n",
      "----------------------------------------------------\n",
      "4.1 K     Trainable params\n",
      "0         Non-trainable params\n",
      "4.1 K     Total params\n",
      "0.033     Total estimated model params size (MB)\n"
     ]
    },
    {
     "data": {
      "application/vnd.jupyter.widget-view+json": {
       "model_id": "83fa955e5a0e42c6b9d2d8ef2fc6fc8f",
       "version_major": 2,
       "version_minor": 0
      },
      "text/plain": [
       "Training: 0it [00:00, ?it/s]"
      ]
     },
     "metadata": {},
     "output_type": "display_data"
    },
    {
     "name": "stderr",
     "output_type": "stream",
     "text": [
      "`Trainer.fit` stopped: `max_epochs=10` reached.\n"
     ]
    },
    {
     "data": {
      "application/vnd.jupyter.widget-view+json": {
       "model_id": "cc1679c931f44c9b8068ef5ada8d2ebb",
       "version_major": 2,
       "version_minor": 0
      },
      "text/plain": [
       "Predicting: 16it [00:00, ?it/s]"
      ]
     },
     "metadata": {},
     "output_type": "display_data"
    },
    {
     "data": {
      "application/vnd.jupyter.widget-view+json": {
       "model_id": "d9a9f8d5c0924f2fbf15a3261e4880a2",
       "version_major": 2,
       "version_minor": 0
      },
      "text/plain": [
       "  0%|          | 0/16 [00:00<?, ?it/s]"
      ]
     },
     "metadata": {},
     "output_type": "display_data"
    },
    {
     "name": "stderr",
     "output_type": "stream",
     "text": [
      "\u001b[32m[I 2022-11-25 11:25:24,358]\u001b[0m Trial 12 finished with value: 194.17160079682012 and parameters: {'input_chunk': 7, 'output_chunk': 6, 'num_filters': 21, 'weight_norm': True, 'dilation_base': 4, 'dropout': 0.3780386548065656, 'lr': 0.0001414394774949481, 'dayofweek': True}. Best is trial 1 with value: 190.20033717362958.\u001b[0m\n",
      "GPU available: False, used: False\n",
      "TPU available: False, using: 0 TPU cores\n",
      "IPU available: False, using: 0 IPUs\n",
      "HPU available: False, using: 0 HPUs\n",
      "\n",
      "  | Name          | Type              | Params\n",
      "----------------------------------------------------\n",
      "0 | criterion     | MSELoss           | 0     \n",
      "1 | train_metrics | MetricCollection  | 0     \n",
      "2 | val_metrics   | MetricCollection  | 0     \n",
      "3 | dropout       | MonteCarloDropout | 0     \n",
      "4 | res_blocks    | ModuleList        | 5.3 K \n",
      "----------------------------------------------------\n",
      "5.3 K     Trainable params\n",
      "0         Non-trainable params\n",
      "5.3 K     Total params\n",
      "0.043     Total estimated model params size (MB)\n"
     ]
    },
    {
     "name": "stdout",
     "output_type": "stream",
     "text": [
      "Current value: 194.17160079682012, Current params: {'input_chunk': 7, 'output_chunk': 6, 'num_filters': 21, 'weight_norm': True, 'dilation_base': 4, 'dropout': 0.3780386548065656, 'lr': 0.0001414394774949481, 'dayofweek': True}\n",
      "Best value: 190.20033717362958, Best params: {'input_chunk': 9, 'output_chunk': 6, 'num_filters': 24, 'weight_norm': False, 'dilation_base': 4, 'dropout': 0.12538565855886175, 'lr': 0.00010782501466044544, 'dayofweek': True}\n"
     ]
    },
    {
     "data": {
      "application/vnd.jupyter.widget-view+json": {
       "model_id": "d0d9fc5112d341feae994922658fed55",
       "version_major": 2,
       "version_minor": 0
      },
      "text/plain": [
       "Training: 0it [00:00, ?it/s]"
      ]
     },
     "metadata": {},
     "output_type": "display_data"
    },
    {
     "name": "stderr",
     "output_type": "stream",
     "text": [
      "`Trainer.fit` stopped: `max_epochs=10` reached.\n"
     ]
    },
    {
     "data": {
      "application/vnd.jupyter.widget-view+json": {
       "model_id": "de983ce594f841f7a6efcb103a2ee2cf",
       "version_major": 2,
       "version_minor": 0
      },
      "text/plain": [
       "Predicting: 16it [00:00, ?it/s]"
      ]
     },
     "metadata": {},
     "output_type": "display_data"
    },
    {
     "data": {
      "application/vnd.jupyter.widget-view+json": {
       "model_id": "18997b06d9a2408987ad1a182d918f78",
       "version_major": 2,
       "version_minor": 0
      },
      "text/plain": [
       "  0%|          | 0/16 [00:00<?, ?it/s]"
      ]
     },
     "metadata": {},
     "output_type": "display_data"
    },
    {
     "name": "stderr",
     "output_type": "stream",
     "text": [
      "\u001b[32m[I 2022-11-25 11:26:28,397]\u001b[0m Trial 13 finished with value: 199.72208122224728 and parameters: {'input_chunk': 9, 'output_chunk': 6, 'num_filters': 25, 'weight_norm': True, 'dilation_base': 4, 'dropout': 0.2322491963620532, 'lr': 0.00010901759498407582, 'dayofweek': False}. Best is trial 1 with value: 190.20033717362958.\u001b[0m\n",
      "GPU available: False, used: False\n",
      "TPU available: False, using: 0 TPU cores\n",
      "IPU available: False, using: 0 IPUs\n",
      "HPU available: False, using: 0 HPUs\n",
      "\n",
      "  | Name          | Type              | Params\n",
      "----------------------------------------------------\n",
      "0 | criterion     | MSELoss           | 0     \n",
      "1 | train_metrics | MetricCollection  | 0     \n",
      "2 | val_metrics   | MetricCollection  | 0     \n",
      "3 | dropout       | MonteCarloDropout | 0     \n",
      "4 | res_blocks    | ModuleList        | 1.6 K \n",
      "----------------------------------------------------\n",
      "1.6 K     Trainable params\n",
      "0         Non-trainable params\n",
      "1.6 K     Total params\n",
      "0.013     Total estimated model params size (MB)\n"
     ]
    },
    {
     "name": "stdout",
     "output_type": "stream",
     "text": [
      "Current value: 199.72208122224728, Current params: {'input_chunk': 9, 'output_chunk': 6, 'num_filters': 25, 'weight_norm': True, 'dilation_base': 4, 'dropout': 0.2322491963620532, 'lr': 0.00010901759498407582, 'dayofweek': False}\n",
      "Best value: 190.20033717362958, Best params: {'input_chunk': 9, 'output_chunk': 6, 'num_filters': 24, 'weight_norm': False, 'dilation_base': 4, 'dropout': 0.12538565855886175, 'lr': 0.00010782501466044544, 'dayofweek': True}\n"
     ]
    },
    {
     "data": {
      "application/vnd.jupyter.widget-view+json": {
       "model_id": "93064367228043c2b9e69633abe5b1c5",
       "version_major": 2,
       "version_minor": 0
      },
      "text/plain": [
       "Training: 0it [00:00, ?it/s]"
      ]
     },
     "metadata": {},
     "output_type": "display_data"
    },
    {
     "name": "stderr",
     "output_type": "stream",
     "text": [
      "`Trainer.fit` stopped: `max_epochs=10` reached.\n"
     ]
    },
    {
     "data": {
      "application/vnd.jupyter.widget-view+json": {
       "model_id": "0cea607541ad40f28ad30077bdddcef2",
       "version_major": 2,
       "version_minor": 0
      },
      "text/plain": [
       "Predicting: 16it [00:00, ?it/s]"
      ]
     },
     "metadata": {},
     "output_type": "display_data"
    },
    {
     "data": {
      "application/vnd.jupyter.widget-view+json": {
       "model_id": "1fb6e692573b4e6c95bd718ba345d97f",
       "version_major": 2,
       "version_minor": 0
      },
      "text/plain": [
       "  0%|          | 0/16 [00:00<?, ?it/s]"
      ]
     },
     "metadata": {},
     "output_type": "display_data"
    },
    {
     "name": "stderr",
     "output_type": "stream",
     "text": [
      "\u001b[32m[I 2022-11-25 11:27:24,529]\u001b[0m Trial 14 finished with value: 189.13854353250338 and parameters: {'input_chunk': 8, 'output_chunk': 6, 'num_filters': 12, 'weight_norm': True, 'dilation_base': 3, 'dropout': 0.36042557554393706, 'lr': 0.00020635508665355553, 'dayofweek': False}. Best is trial 14 with value: 189.13854353250338.\u001b[0m\n"
     ]
    },
    {
     "name": "stdout",
     "output_type": "stream",
     "text": [
      "Current value: 189.13854353250338, Current params: {'input_chunk': 8, 'output_chunk': 6, 'num_filters': 12, 'weight_norm': True, 'dilation_base': 3, 'dropout': 0.36042557554393706, 'lr': 0.00020635508665355553, 'dayofweek': False}\n",
      "Best value: 189.13854353250338, Best params: {'input_chunk': 8, 'output_chunk': 6, 'num_filters': 12, 'weight_norm': True, 'dilation_base': 3, 'dropout': 0.36042557554393706, 'lr': 0.00020635508665355553, 'dayofweek': False}\n"
     ]
    },
    {
     "name": "stderr",
     "output_type": "stream",
     "text": [
      "GPU available: False, used: False\n",
      "TPU available: False, using: 0 TPU cores\n",
      "IPU available: False, using: 0 IPUs\n",
      "HPU available: False, using: 0 HPUs\n",
      "\n",
      "  | Name          | Type              | Params\n",
      "----------------------------------------------------\n",
      "0 | criterion     | MSELoss           | 0     \n",
      "1 | train_metrics | MetricCollection  | 0     \n",
      "2 | val_metrics   | MetricCollection  | 0     \n",
      "3 | dropout       | MonteCarloDropout | 0     \n",
      "4 | res_blocks    | ModuleList        | 1.5 K \n",
      "----------------------------------------------------\n",
      "1.5 K     Trainable params\n",
      "0         Non-trainable params\n",
      "1.5 K     Total params\n",
      "0.012     Total estimated model params size (MB)\n"
     ]
    },
    {
     "data": {
      "application/vnd.jupyter.widget-view+json": {
       "model_id": "a601dddda3be402ab117b92099e5376a",
       "version_major": 2,
       "version_minor": 0
      },
      "text/plain": [
       "Training: 0it [00:00, ?it/s]"
      ]
     },
     "metadata": {},
     "output_type": "display_data"
    },
    {
     "name": "stderr",
     "output_type": "stream",
     "text": [
      "`Trainer.fit` stopped: `max_epochs=10` reached.\n"
     ]
    },
    {
     "data": {
      "application/vnd.jupyter.widget-view+json": {
       "model_id": "8f0072b295624e53904ce2a5e15ba344",
       "version_major": 2,
       "version_minor": 0
      },
      "text/plain": [
       "Predicting: 16it [00:00, ?it/s]"
      ]
     },
     "metadata": {},
     "output_type": "display_data"
    },
    {
     "data": {
      "application/vnd.jupyter.widget-view+json": {
       "model_id": "82310cd1cd664766ac223800e9fd98c3",
       "version_major": 2,
       "version_minor": 0
      },
      "text/plain": [
       "  0%|          | 0/16 [00:00<?, ?it/s]"
      ]
     },
     "metadata": {},
     "output_type": "display_data"
    },
    {
     "name": "stderr",
     "output_type": "stream",
     "text": [
      "\u001b[32m[I 2022-11-25 11:28:15,482]\u001b[0m Trial 15 finished with value: 189.62115583456705 and parameters: {'input_chunk': 8, 'output_chunk': 6, 'num_filters': 11, 'weight_norm': False, 'dilation_base': 3, 'dropout': 0.08041616859943984, 'lr': 5.24557420982739e-05, 'dayofweek': True}. Best is trial 14 with value: 189.13854353250338.\u001b[0m\n",
      "GPU available: False, used: False\n",
      "TPU available: False, using: 0 TPU cores\n",
      "IPU available: False, using: 0 IPUs\n",
      "HPU available: False, using: 0 HPUs\n",
      "\n",
      "  | Name          | Type              | Params\n",
      "----------------------------------------------------\n",
      "0 | criterion     | MSELoss           | 0     \n",
      "1 | train_metrics | MetricCollection  | 0     \n",
      "2 | val_metrics   | MetricCollection  | 0     \n",
      "3 | dropout       | MonteCarloDropout | 0     \n",
      "4 | res_blocks    | ModuleList        | 1.2 K \n",
      "----------------------------------------------------\n",
      "1.2 K     Trainable params\n",
      "0         Non-trainable params\n",
      "1.2 K     Total params\n",
      "0.010     Total estimated model params size (MB)\n"
     ]
    },
    {
     "name": "stdout",
     "output_type": "stream",
     "text": [
      "Current value: 189.62115583456705, Current params: {'input_chunk': 8, 'output_chunk': 6, 'num_filters': 11, 'weight_norm': False, 'dilation_base': 3, 'dropout': 0.08041616859943984, 'lr': 5.24557420982739e-05, 'dayofweek': True}\n",
      "Best value: 189.13854353250338, Best params: {'input_chunk': 8, 'output_chunk': 6, 'num_filters': 12, 'weight_norm': True, 'dilation_base': 3, 'dropout': 0.36042557554393706, 'lr': 0.00020635508665355553, 'dayofweek': False}\n"
     ]
    },
    {
     "data": {
      "application/vnd.jupyter.widget-view+json": {
       "model_id": "6b5021202e444c25809c745b841e115a",
       "version_major": 2,
       "version_minor": 0
      },
      "text/plain": [
       "Training: 0it [00:00, ?it/s]"
      ]
     },
     "metadata": {},
     "output_type": "display_data"
    },
    {
     "name": "stderr",
     "output_type": "stream",
     "text": [
      "`Trainer.fit` stopped: `max_epochs=10` reached.\n"
     ]
    },
    {
     "data": {
      "application/vnd.jupyter.widget-view+json": {
       "model_id": "6c645bfb3210464c9aa0bd639d219750",
       "version_major": 2,
       "version_minor": 0
      },
      "text/plain": [
       "Predicting: 16it [00:00, ?it/s]"
      ]
     },
     "metadata": {},
     "output_type": "display_data"
    },
    {
     "data": {
      "application/vnd.jupyter.widget-view+json": {
       "model_id": "7785218b07b44c63b368c98ab2c98af5",
       "version_major": 2,
       "version_minor": 0
      },
      "text/plain": [
       "  0%|          | 0/16 [00:00<?, ?it/s]"
      ]
     },
     "metadata": {},
     "output_type": "display_data"
    },
    {
     "name": "stderr",
     "output_type": "stream",
     "text": [
      "\u001b[32m[I 2022-11-25 11:29:04,777]\u001b[0m Trial 16 finished with value: 190.40953719329966 and parameters: {'input_chunk': 8, 'output_chunk': 6, 'num_filters': 10, 'weight_norm': False, 'dilation_base': 3, 'dropout': 0.39967512585304166, 'lr': 0.0006990494923769006, 'dayofweek': False}. Best is trial 14 with value: 189.13854353250338.\u001b[0m\n"
     ]
    },
    {
     "name": "stdout",
     "output_type": "stream",
     "text": [
      "Current value: 190.40953719329966, Current params: {'input_chunk': 8, 'output_chunk': 6, 'num_filters': 10, 'weight_norm': False, 'dilation_base': 3, 'dropout': 0.39967512585304166, 'lr': 0.0006990494923769006, 'dayofweek': False}\n",
      "Best value: 189.13854353250338, Best params: {'input_chunk': 8, 'output_chunk': 6, 'num_filters': 12, 'weight_norm': True, 'dilation_base': 3, 'dropout': 0.36042557554393706, 'lr': 0.00020635508665355553, 'dayofweek': False}\n"
     ]
    },
    {
     "name": "stderr",
     "output_type": "stream",
     "text": [
      "GPU available: False, used: False\n",
      "TPU available: False, using: 0 TPU cores\n",
      "IPU available: False, using: 0 IPUs\n",
      "HPU available: False, using: 0 HPUs\n",
      "\n",
      "  | Name          | Type              | Params\n",
      "----------------------------------------------------\n",
      "0 | criterion     | MSELoss           | 0     \n",
      "1 | train_metrics | MetricCollection  | 0     \n",
      "2 | val_metrics   | MetricCollection  | 0     \n",
      "3 | dropout       | MonteCarloDropout | 0     \n",
      "4 | res_blocks    | ModuleList        | 1.5 K \n",
      "----------------------------------------------------\n",
      "1.5 K     Trainable params\n",
      "0         Non-trainable params\n",
      "1.5 K     Total params\n",
      "0.012     Total estimated model params size (MB)\n"
     ]
    },
    {
     "data": {
      "application/vnd.jupyter.widget-view+json": {
       "model_id": "f53111ab99a140fcbd28d74c24127a1c",
       "version_major": 2,
       "version_minor": 0
      },
      "text/plain": [
       "Training: 0it [00:00, ?it/s]"
      ]
     },
     "metadata": {},
     "output_type": "display_data"
    },
    {
     "name": "stderr",
     "output_type": "stream",
     "text": [
      "`Trainer.fit` stopped: `max_epochs=10` reached.\n"
     ]
    },
    {
     "data": {
      "application/vnd.jupyter.widget-view+json": {
       "model_id": "4fed35bda2604ccda74e82508e64d2ce",
       "version_major": 2,
       "version_minor": 0
      },
      "text/plain": [
       "Predicting: 16it [00:00, ?it/s]"
      ]
     },
     "metadata": {},
     "output_type": "display_data"
    },
    {
     "data": {
      "application/vnd.jupyter.widget-view+json": {
       "model_id": "57ecaf494f7042acb762f94615765b7d",
       "version_major": 2,
       "version_minor": 0
      },
      "text/plain": [
       "  0%|          | 0/16 [00:00<?, ?it/s]"
      ]
     },
     "metadata": {},
     "output_type": "display_data"
    },
    {
     "name": "stderr",
     "output_type": "stream",
     "text": [
      "\u001b[32m[I 2022-11-25 11:29:56,452]\u001b[0m Trial 17 finished with value: 194.98305127518717 and parameters: {'input_chunk': 8, 'output_chunk': 6, 'num_filters': 11, 'weight_norm': True, 'dilation_base': 3, 'dropout': 0.07245707018584396, 'lr': 5.0632344273363783e-05, 'dayofweek': True}. Best is trial 14 with value: 189.13854353250338.\u001b[0m\n"
     ]
    },
    {
     "name": "stdout",
     "output_type": "stream",
     "text": [
      "Current value: 194.98305127518717, Current params: {'input_chunk': 8, 'output_chunk': 6, 'num_filters': 11, 'weight_norm': True, 'dilation_base': 3, 'dropout': 0.07245707018584396, 'lr': 5.0632344273363783e-05, 'dayofweek': True}\n",
      "Best value: 189.13854353250338, Best params: {'input_chunk': 8, 'output_chunk': 6, 'num_filters': 12, 'weight_norm': True, 'dilation_base': 3, 'dropout': 0.36042557554393706, 'lr': 0.00020635508665355553, 'dayofweek': False}\n"
     ]
    },
    {
     "name": "stderr",
     "output_type": "stream",
     "text": [
      "GPU available: False, used: False\n",
      "TPU available: False, using: 0 TPU cores\n",
      "IPU available: False, using: 0 IPUs\n",
      "HPU available: False, using: 0 HPUs\n",
      "\n",
      "  | Name          | Type              | Params\n",
      "----------------------------------------------------\n",
      "0 | criterion     | MSELoss           | 0     \n",
      "1 | train_metrics | MetricCollection  | 0     \n",
      "2 | val_metrics   | MetricCollection  | 0     \n",
      "3 | dropout       | MonteCarloDropout | 0     \n",
      "4 | res_blocks    | ModuleList        | 1.1 K \n",
      "----------------------------------------------------\n",
      "1.1 K     Trainable params\n",
      "0         Non-trainable params\n",
      "1.1 K     Total params\n",
      "0.009     Total estimated model params size (MB)\n"
     ]
    },
    {
     "data": {
      "application/vnd.jupyter.widget-view+json": {
       "model_id": "802493b3f84540e692cbc60ad758b71a",
       "version_major": 2,
       "version_minor": 0
      },
      "text/plain": [
       "Training: 0it [00:00, ?it/s]"
      ]
     },
     "metadata": {},
     "output_type": "display_data"
    },
    {
     "name": "stderr",
     "output_type": "stream",
     "text": [
      "`Trainer.fit` stopped: `max_epochs=10` reached.\n"
     ]
    },
    {
     "data": {
      "application/vnd.jupyter.widget-view+json": {
       "model_id": "c245a9ee592d476894e9f1d700f463dc",
       "version_major": 2,
       "version_minor": 0
      },
      "text/plain": [
       "Predicting: 16it [00:00, ?it/s]"
      ]
     },
     "metadata": {},
     "output_type": "display_data"
    },
    {
     "data": {
      "application/vnd.jupyter.widget-view+json": {
       "model_id": "0211d465edf246449f355fe6b61ffa95",
       "version_major": 2,
       "version_minor": 0
      },
      "text/plain": [
       "  0%|          | 0/16 [00:00<?, ?it/s]"
      ]
     },
     "metadata": {},
     "output_type": "display_data"
    },
    {
     "name": "stderr",
     "output_type": "stream",
     "text": [
      "\u001b[32m[I 2022-11-25 11:30:44,844]\u001b[0m Trial 18 finished with value: 193.92971674486148 and parameters: {'input_chunk': 8, 'output_chunk': 6, 'num_filters': 9, 'weight_norm': True, 'dilation_base': 3, 'dropout': 0.20773407622644213, 'lr': 0.0005485855000554851, 'dayofweek': True}. Best is trial 14 with value: 189.13854353250338.\u001b[0m\n",
      "GPU available: False, used: False\n",
      "TPU available: False, using: 0 TPU cores\n",
      "IPU available: False, using: 0 IPUs\n",
      "HPU available: False, using: 0 HPUs\n",
      "\n",
      "  | Name          | Type              | Params\n",
      "----------------------------------------------------\n",
      "0 | criterion     | MSELoss           | 0     \n",
      "1 | train_metrics | MetricCollection  | 0     \n",
      "2 | val_metrics   | MetricCollection  | 0     \n",
      "3 | dropout       | MonteCarloDropout | 0     \n",
      "4 | res_blocks    | ModuleList        | 1.6 K \n",
      "----------------------------------------------------\n",
      "1.6 K     Trainable params\n",
      "0         Non-trainable params\n",
      "1.6 K     Total params\n",
      "0.013     Total estimated model params size (MB)\n"
     ]
    },
    {
     "name": "stdout",
     "output_type": "stream",
     "text": [
      "Current value: 193.92971674486148, Current params: {'input_chunk': 8, 'output_chunk': 6, 'num_filters': 9, 'weight_norm': True, 'dilation_base': 3, 'dropout': 0.20773407622644213, 'lr': 0.0005485855000554851, 'dayofweek': True}\n",
      "Best value: 189.13854353250338, Best params: {'input_chunk': 8, 'output_chunk': 6, 'num_filters': 12, 'weight_norm': True, 'dilation_base': 3, 'dropout': 0.36042557554393706, 'lr': 0.00020635508665355553, 'dayofweek': False}\n"
     ]
    },
    {
     "data": {
      "application/vnd.jupyter.widget-view+json": {
       "model_id": "dfc58f5107ba48838339601659870647",
       "version_major": 2,
       "version_minor": 0
      },
      "text/plain": [
       "Training: 0it [00:00, ?it/s]"
      ]
     },
     "metadata": {},
     "output_type": "display_data"
    },
    {
     "name": "stderr",
     "output_type": "stream",
     "text": [
      "`Trainer.fit` stopped: `max_epochs=10` reached.\n"
     ]
    },
    {
     "data": {
      "application/vnd.jupyter.widget-view+json": {
       "model_id": "ac638335327b44dcabd8003e9aeae125",
       "version_major": 2,
       "version_minor": 0
      },
      "text/plain": [
       "Predicting: 16it [00:00, ?it/s]"
      ]
     },
     "metadata": {},
     "output_type": "display_data"
    },
    {
     "data": {
      "application/vnd.jupyter.widget-view+json": {
       "model_id": "9ffb5effab224ebbb6eda005a8bbd41d",
       "version_major": 2,
       "version_minor": 0
      },
      "text/plain": [
       "  0%|          | 0/16 [00:00<?, ?it/s]"
      ]
     },
     "metadata": {},
     "output_type": "display_data"
    },
    {
     "name": "stderr",
     "output_type": "stream",
     "text": [
      "\u001b[32m[I 2022-11-25 11:31:36,028]\u001b[0m Trial 19 finished with value: 198.3894322735495 and parameters: {'input_chunk': 7, 'output_chunk': 6, 'num_filters': 13, 'weight_norm': False, 'dilation_base': 2, 'dropout': 0.29333069910935783, 'lr': 0.00023642605812479258, 'dayofweek': False}. Best is trial 14 with value: 189.13854353250338.\u001b[0m\n"
     ]
    },
    {
     "name": "stdout",
     "output_type": "stream",
     "text": [
      "Current value: 198.3894322735495, Current params: {'input_chunk': 7, 'output_chunk': 6, 'num_filters': 13, 'weight_norm': False, 'dilation_base': 2, 'dropout': 0.29333069910935783, 'lr': 0.00023642605812479258, 'dayofweek': False}\n",
      "Best value: 189.13854353250338, Best params: {'input_chunk': 8, 'output_chunk': 6, 'num_filters': 12, 'weight_norm': True, 'dilation_base': 3, 'dropout': 0.36042557554393706, 'lr': 0.00020635508665355553, 'dayofweek': False}\n"
     ]
    },
    {
     "name": "stderr",
     "output_type": "stream",
     "text": [
      "GPU available: False, used: False\n",
      "TPU available: False, using: 0 TPU cores\n",
      "IPU available: False, using: 0 IPUs\n",
      "HPU available: False, using: 0 HPUs\n",
      "\n",
      "  | Name          | Type              | Params\n",
      "----------------------------------------------------\n",
      "0 | criterion     | MSELoss           | 0     \n",
      "1 | train_metrics | MetricCollection  | 0     \n",
      "2 | val_metrics   | MetricCollection  | 0     \n",
      "3 | dropout       | MonteCarloDropout | 0     \n",
      "4 | res_blocks    | ModuleList        | 930   \n",
      "----------------------------------------------------\n",
      "930       Trainable params\n",
      "0         Non-trainable params\n",
      "930       Total params\n",
      "0.007     Total estimated model params size (MB)\n"
     ]
    },
    {
     "data": {
      "application/vnd.jupyter.widget-view+json": {
       "model_id": "e5ae1bae35fd427a8b87e390921c0c46",
       "version_major": 2,
       "version_minor": 0
      },
      "text/plain": [
       "Training: 0it [00:00, ?it/s]"
      ]
     },
     "metadata": {},
     "output_type": "display_data"
    },
    {
     "name": "stderr",
     "output_type": "stream",
     "text": [
      "`Trainer.fit` stopped: `max_epochs=10` reached.\n"
     ]
    },
    {
     "data": {
      "application/vnd.jupyter.widget-view+json": {
       "model_id": "170f88c6dc154c1d924e04a84a07dadd",
       "version_major": 2,
       "version_minor": 0
      },
      "text/plain": [
       "Predicting: 16it [00:00, ?it/s]"
      ]
     },
     "metadata": {},
     "output_type": "display_data"
    },
    {
     "data": {
      "application/vnd.jupyter.widget-view+json": {
       "model_id": "6650e25252f04d5e8ca2edd8cbfa40ae",
       "version_major": 2,
       "version_minor": 0
      },
      "text/plain": [
       "  0%|          | 0/16 [00:00<?, ?it/s]"
      ]
     },
     "metadata": {},
     "output_type": "display_data"
    },
    {
     "name": "stderr",
     "output_type": "stream",
     "text": [
      "\u001b[32m[I 2022-11-25 11:32:33,189]\u001b[0m Trial 20 finished with value: 193.7733216323061 and parameters: {'input_chunk': 8, 'output_chunk': 6, 'num_filters': 8, 'weight_norm': False, 'dilation_base': 3, 'dropout': 0.06259920936830986, 'lr': 0.0001871078819711459, 'dayofweek': True}. Best is trial 14 with value: 189.13854353250338.\u001b[0m\n"
     ]
    },
    {
     "name": "stdout",
     "output_type": "stream",
     "text": [
      "Current value: 193.7733216323061, Current params: {'input_chunk': 8, 'output_chunk': 6, 'num_filters': 8, 'weight_norm': False, 'dilation_base': 3, 'dropout': 0.06259920936830986, 'lr': 0.0001871078819711459, 'dayofweek': True}\n",
      "Best value: 189.13854353250338, Best params: {'input_chunk': 8, 'output_chunk': 6, 'num_filters': 12, 'weight_norm': True, 'dilation_base': 3, 'dropout': 0.36042557554393706, 'lr': 0.00020635508665355553, 'dayofweek': False}\n",
      "Best value: 189.13854353250338, Best params: {'input_chunk': 8, 'output_chunk': 6, 'num_filters': 12, 'weight_norm': True, 'dilation_base': 3, 'dropout': 0.36042557554393706, 'lr': 0.00020635508665355553, 'dayofweek': False}\n"
     ]
    }
   ],
   "source": [
    "def print_callback(study, trial):\n",
    "    print(f\"Current value: {trial.value}, Current params: {trial.params}\")\n",
    "    print(f\"Best value: {study.best_value}, Best params: {study.best_trial.params}\")\n",
    "\n",
    "\n",
    "study = optuna.create_study(direction=\"minimize\")\n",
    "\n",
    "study.optimize(objective, timeout=1200, callbacks=[print_callback])\n",
    "\n",
    "# We could also have used a command as follows to limit the number of trials instead:\n",
    "# study.optimize(objective, n_trials=100, callbacks=[print_callback])\n",
    "\n",
    "# Finally, print the best value and best hyperparameters:\n",
    "print(f\"Best value: {study.best_value}, Best params: {study.best_trial.params}\")"
   ]
  },
  {
   "cell_type": "markdown",
   "metadata": {},
   "source": [
    "Best value: 189.13854353250338\\\n",
    " Best params: {'input_chunk': 8, 'output_chunk': 6, 'num_filters': 12, 'weight_norm': True, 'dilation_base': 3, 'dropout': 0.36042557554393706, 'lr': 0.00020635508665355553, 'dayofweek': False}"
   ]
  },
  {
   "cell_type": "markdown",
   "metadata": {},
   "source": [
    "Now we can train a model with these parameters and we will have the best result and the most optimized performance metrics.\n"
   ]
  }
 ],
 "metadata": {
  "kernelspec": {
   "display_name": "Python 3.8.5 ('baseREC')",
   "language": "python",
   "name": "python3"
  },
  "language_info": {
   "codemirror_mode": {
    "name": "ipython",
    "version": 3
   },
   "file_extension": ".py",
   "mimetype": "text/x-python",
   "name": "python",
   "nbconvert_exporter": "python",
   "pygments_lexer": "ipython3",
   "version": "3.8.5"
  },
  "orig_nbformat": 4,
  "vscode": {
   "interpreter": {
    "hash": "c0f22bf35da797130dc9772e9bbbc1553556016bd9c002cdfb8138dc94e3b793"
   }
  }
 },
 "nbformat": 4,
 "nbformat_minor": 2
}
